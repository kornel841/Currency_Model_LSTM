{
 "cells": [
  {
   "cell_type": "markdown",
   "metadata": {
    "id": "I21ZrVvCKj80"
   },
   "source": [
    "### Instalacja potrzebnych bibliotek"
   ]
  },
  {
   "cell_type": "code",
   "execution_count": 1,
   "metadata": {
    "colab": {
     "base_uri": "https://localhost:8080/"
    },
    "id": "Fg9XdeJkKj82",
    "outputId": "6392a85a-58ed-4cd0-bb1d-ee59a5d88766"
   },
   "outputs": [
    {
     "name": "stdout",
     "output_type": "stream",
     "text": [
      "Looking in indexes: https://pypi.org/simple, https://us-python.pkg.dev/colab-wheels/public/simple/\n",
      "Requirement already satisfied: keras in /usr/local/lib/python3.10/dist-packages (2.12.0)\n"
     ]
    }
   ],
   "source": [
    "pip install keras "
   ]
  },
  {
   "cell_type": "code",
   "execution_count": 2,
   "metadata": {
    "colab": {
     "base_uri": "https://localhost:8080/"
    },
    "id": "F4GXsyvbKj83",
    "outputId": "565ff0ab-6832-45ce-ccaa-7fd9045c3725"
   },
   "outputs": [
    {
     "name": "stdout",
     "output_type": "stream",
     "text": [
      "Looking in indexes: https://pypi.org/simple, https://us-python.pkg.dev/colab-wheels/public/simple/\n",
      "Requirement already satisfied: tensorflow in /usr/local/lib/python3.10/dist-packages (2.12.0)\n",
      "Requirement already satisfied: absl-py>=1.0.0 in /usr/local/lib/python3.10/dist-packages (from tensorflow) (1.4.0)\n",
      "Requirement already satisfied: astunparse>=1.6.0 in /usr/local/lib/python3.10/dist-packages (from tensorflow) (1.6.3)\n",
      "Requirement already satisfied: flatbuffers>=2.0 in /usr/local/lib/python3.10/dist-packages (from tensorflow) (23.3.3)\n",
      "Requirement already satisfied: gast<=0.4.0,>=0.2.1 in /usr/local/lib/python3.10/dist-packages (from tensorflow) (0.4.0)\n",
      "Requirement already satisfied: google-pasta>=0.1.1 in /usr/local/lib/python3.10/dist-packages (from tensorflow) (0.2.0)\n",
      "Requirement already satisfied: grpcio<2.0,>=1.24.3 in /usr/local/lib/python3.10/dist-packages (from tensorflow) (1.54.0)\n",
      "Requirement already satisfied: h5py>=2.9.0 in /usr/local/lib/python3.10/dist-packages (from tensorflow) (3.8.0)\n",
      "Requirement already satisfied: jax>=0.3.15 in /usr/local/lib/python3.10/dist-packages (from tensorflow) (0.4.8)\n",
      "Requirement already satisfied: keras<2.13,>=2.12.0 in /usr/local/lib/python3.10/dist-packages (from tensorflow) (2.12.0)\n",
      "Requirement already satisfied: libclang>=13.0.0 in /usr/local/lib/python3.10/dist-packages (from tensorflow) (16.0.0)\n",
      "Requirement already satisfied: numpy<1.24,>=1.22 in /usr/local/lib/python3.10/dist-packages (from tensorflow) (1.22.4)\n",
      "Requirement already satisfied: opt-einsum>=2.3.2 in /usr/local/lib/python3.10/dist-packages (from tensorflow) (3.3.0)\n",
      "Requirement already satisfied: packaging in /usr/local/lib/python3.10/dist-packages (from tensorflow) (23.1)\n",
      "Requirement already satisfied: protobuf!=4.21.0,!=4.21.1,!=4.21.2,!=4.21.3,!=4.21.4,!=4.21.5,<5.0.0dev,>=3.20.3 in /usr/local/lib/python3.10/dist-packages (from tensorflow) (3.20.3)\n",
      "Requirement already satisfied: setuptools in /usr/local/lib/python3.10/dist-packages (from tensorflow) (67.7.2)\n",
      "Requirement already satisfied: six>=1.12.0 in /usr/local/lib/python3.10/dist-packages (from tensorflow) (1.16.0)\n",
      "Requirement already satisfied: tensorboard<2.13,>=2.12 in /usr/local/lib/python3.10/dist-packages (from tensorflow) (2.12.2)\n",
      "Requirement already satisfied: tensorflow-estimator<2.13,>=2.12.0 in /usr/local/lib/python3.10/dist-packages (from tensorflow) (2.12.0)\n",
      "Requirement already satisfied: termcolor>=1.1.0 in /usr/local/lib/python3.10/dist-packages (from tensorflow) (2.3.0)\n",
      "Requirement already satisfied: typing-extensions>=3.6.6 in /usr/local/lib/python3.10/dist-packages (from tensorflow) (4.5.0)\n",
      "Requirement already satisfied: wrapt<1.15,>=1.11.0 in /usr/local/lib/python3.10/dist-packages (from tensorflow) (1.14.1)\n",
      "Requirement already satisfied: tensorflow-io-gcs-filesystem>=0.23.1 in /usr/local/lib/python3.10/dist-packages (from tensorflow) (0.32.0)\n",
      "Requirement already satisfied: wheel<1.0,>=0.23.0 in /usr/local/lib/python3.10/dist-packages (from astunparse>=1.6.0->tensorflow) (0.40.0)\n",
      "Requirement already satisfied: ml-dtypes>=0.0.3 in /usr/local/lib/python3.10/dist-packages (from jax>=0.3.15->tensorflow) (0.1.0)\n",
      "Requirement already satisfied: scipy>=1.7 in /usr/local/lib/python3.10/dist-packages (from jax>=0.3.15->tensorflow) (1.10.1)\n",
      "Requirement already satisfied: google-auth<3,>=1.6.3 in /usr/local/lib/python3.10/dist-packages (from tensorboard<2.13,>=2.12->tensorflow) (2.17.3)\n",
      "Requirement already satisfied: google-auth-oauthlib<1.1,>=0.5 in /usr/local/lib/python3.10/dist-packages (from tensorboard<2.13,>=2.12->tensorflow) (1.0.0)\n",
      "Requirement already satisfied: markdown>=2.6.8 in /usr/local/lib/python3.10/dist-packages (from tensorboard<2.13,>=2.12->tensorflow) (3.4.3)\n",
      "Requirement already satisfied: requests<3,>=2.21.0 in /usr/local/lib/python3.10/dist-packages (from tensorboard<2.13,>=2.12->tensorflow) (2.27.1)\n",
      "Requirement already satisfied: tensorboard-data-server<0.8.0,>=0.7.0 in /usr/local/lib/python3.10/dist-packages (from tensorboard<2.13,>=2.12->tensorflow) (0.7.0)\n",
      "Requirement already satisfied: tensorboard-plugin-wit>=1.6.0 in /usr/local/lib/python3.10/dist-packages (from tensorboard<2.13,>=2.12->tensorflow) (1.8.1)\n",
      "Requirement already satisfied: werkzeug>=1.0.1 in /usr/local/lib/python3.10/dist-packages (from tensorboard<2.13,>=2.12->tensorflow) (2.3.0)\n",
      "Requirement already satisfied: cachetools<6.0,>=2.0.0 in /usr/local/lib/python3.10/dist-packages (from google-auth<3,>=1.6.3->tensorboard<2.13,>=2.12->tensorflow) (5.3.0)\n",
      "Requirement already satisfied: pyasn1-modules>=0.2.1 in /usr/local/lib/python3.10/dist-packages (from google-auth<3,>=1.6.3->tensorboard<2.13,>=2.12->tensorflow) (0.3.0)\n",
      "Requirement already satisfied: rsa<5,>=3.1.4 in /usr/local/lib/python3.10/dist-packages (from google-auth<3,>=1.6.3->tensorboard<2.13,>=2.12->tensorflow) (4.9)\n",
      "Requirement already satisfied: requests-oauthlib>=0.7.0 in /usr/local/lib/python3.10/dist-packages (from google-auth-oauthlib<1.1,>=0.5->tensorboard<2.13,>=2.12->tensorflow) (1.3.1)\n",
      "Requirement already satisfied: urllib3<1.27,>=1.21.1 in /usr/local/lib/python3.10/dist-packages (from requests<3,>=2.21.0->tensorboard<2.13,>=2.12->tensorflow) (1.26.15)\n",
      "Requirement already satisfied: certifi>=2017.4.17 in /usr/local/lib/python3.10/dist-packages (from requests<3,>=2.21.0->tensorboard<2.13,>=2.12->tensorflow) (2022.12.7)\n",
      "Requirement already satisfied: charset-normalizer~=2.0.0 in /usr/local/lib/python3.10/dist-packages (from requests<3,>=2.21.0->tensorboard<2.13,>=2.12->tensorflow) (2.0.12)\n",
      "Requirement already satisfied: idna<4,>=2.5 in /usr/local/lib/python3.10/dist-packages (from requests<3,>=2.21.0->tensorboard<2.13,>=2.12->tensorflow) (3.4)\n",
      "Requirement already satisfied: MarkupSafe>=2.1.1 in /usr/local/lib/python3.10/dist-packages (from werkzeug>=1.0.1->tensorboard<2.13,>=2.12->tensorflow) (2.1.2)\n",
      "Requirement already satisfied: pyasn1<0.6.0,>=0.4.6 in /usr/local/lib/python3.10/dist-packages (from pyasn1-modules>=0.2.1->google-auth<3,>=1.6.3->tensorboard<2.13,>=2.12->tensorflow) (0.5.0)\n",
      "Requirement already satisfied: oauthlib>=3.0.0 in /usr/local/lib/python3.10/dist-packages (from requests-oauthlib>=0.7.0->google-auth-oauthlib<1.1,>=0.5->tensorboard<2.13,>=2.12->tensorflow) (3.2.2)\n"
     ]
    }
   ],
   "source": [
    "pip install tensorflow"
   ]
  },
  {
   "cell_type": "code",
   "execution_count": 3,
   "metadata": {
    "colab": {
     "base_uri": "https://localhost:8080/"
    },
    "id": "5MHCQeDAUd3X",
    "outputId": "bfc96d71-8dbc-44b9-fec3-9fa0a8015eb7",
    "scrolled": true
   },
   "outputs": [
    {
     "name": "stdout",
     "output_type": "stream",
     "text": [
      "Looking in indexes: https://pypi.org/simple, https://us-python.pkg.dev/colab-wheels/public/simple/\n",
      "Requirement already satisfied: ipywidgets in /usr/local/lib/python3.10/dist-packages (7.7.1)\n",
      "Requirement already satisfied: ipykernel>=4.5.1 in /usr/local/lib/python3.10/dist-packages (from ipywidgets) (5.5.6)\n",
      "Requirement already satisfied: ipython-genutils~=0.2.0 in /usr/local/lib/python3.10/dist-packages (from ipywidgets) (0.2.0)\n",
      "Requirement already satisfied: traitlets>=4.3.1 in /usr/local/lib/python3.10/dist-packages (from ipywidgets) (5.7.1)\n",
      "Requirement already satisfied: widgetsnbextension~=3.6.0 in /usr/local/lib/python3.10/dist-packages (from ipywidgets) (3.6.4)\n",
      "Requirement already satisfied: ipython>=4.0.0 in /usr/local/lib/python3.10/dist-packages (from ipywidgets) (7.34.0)\n",
      "Requirement already satisfied: jupyterlab-widgets>=1.0.0 in /usr/local/lib/python3.10/dist-packages (from ipywidgets) (3.0.7)\n",
      "Requirement already satisfied: jupyter-client in /usr/local/lib/python3.10/dist-packages (from ipykernel>=4.5.1->ipywidgets) (6.1.12)\n",
      "Requirement already satisfied: tornado>=4.2 in /usr/local/lib/python3.10/dist-packages (from ipykernel>=4.5.1->ipywidgets) (6.2)\n",
      "Requirement already satisfied: setuptools>=18.5 in /usr/local/lib/python3.10/dist-packages (from ipython>=4.0.0->ipywidgets) (67.7.2)\n",
      "Collecting jedi>=0.16 (from ipython>=4.0.0->ipywidgets)\n",
      "  Downloading jedi-0.18.2-py2.py3-none-any.whl (1.6 MB)\n",
      "\u001b[2K     \u001b[90m━━━━━━━━━━━━━━━━━━━━━━━━━━━━━━━━━━━━━━━━\u001b[0m \u001b[32m1.6/1.6 MB\u001b[0m \u001b[31m16.9 MB/s\u001b[0m eta \u001b[36m0:00:00\u001b[0m\n",
      "\u001b[?25hRequirement already satisfied: decorator in /usr/local/lib/python3.10/dist-packages (from ipython>=4.0.0->ipywidgets) (4.4.2)\n",
      "Requirement already satisfied: pickleshare in /usr/local/lib/python3.10/dist-packages (from ipython>=4.0.0->ipywidgets) (0.7.5)\n",
      "Requirement already satisfied: prompt-toolkit!=3.0.0,!=3.0.1,<3.1.0,>=2.0.0 in /usr/local/lib/python3.10/dist-packages (from ipython>=4.0.0->ipywidgets) (3.0.38)\n",
      "Requirement already satisfied: pygments in /usr/local/lib/python3.10/dist-packages (from ipython>=4.0.0->ipywidgets) (2.14.0)\n",
      "Requirement already satisfied: backcall in /usr/local/lib/python3.10/dist-packages (from ipython>=4.0.0->ipywidgets) (0.2.0)\n",
      "Requirement already satisfied: matplotlib-inline in /usr/local/lib/python3.10/dist-packages (from ipython>=4.0.0->ipywidgets) (0.1.6)\n",
      "Requirement already satisfied: pexpect>4.3 in /usr/local/lib/python3.10/dist-packages (from ipython>=4.0.0->ipywidgets) (4.8.0)\n",
      "Requirement already satisfied: notebook>=4.4.1 in /usr/local/lib/python3.10/dist-packages (from widgetsnbextension~=3.6.0->ipywidgets) (6.4.8)\n",
      "Requirement already satisfied: parso<0.9.0,>=0.8.0 in /usr/local/lib/python3.10/dist-packages (from jedi>=0.16->ipython>=4.0.0->ipywidgets) (0.8.3)\n",
      "Requirement already satisfied: jinja2 in /usr/local/lib/python3.10/dist-packages (from notebook>=4.4.1->widgetsnbextension~=3.6.0->ipywidgets) (3.1.2)\n",
      "Requirement already satisfied: pyzmq>=17 in /usr/local/lib/python3.10/dist-packages (from notebook>=4.4.1->widgetsnbextension~=3.6.0->ipywidgets) (23.2.1)\n",
      "Requirement already satisfied: argon2-cffi in /usr/local/lib/python3.10/dist-packages (from notebook>=4.4.1->widgetsnbextension~=3.6.0->ipywidgets) (21.3.0)\n",
      "Requirement already satisfied: jupyter-core>=4.6.1 in /usr/local/lib/python3.10/dist-packages (from notebook>=4.4.1->widgetsnbextension~=3.6.0->ipywidgets) (5.3.0)\n",
      "Requirement already satisfied: nbformat in /usr/local/lib/python3.10/dist-packages (from notebook>=4.4.1->widgetsnbextension~=3.6.0->ipywidgets) (5.8.0)\n",
      "Requirement already satisfied: nbconvert in /usr/local/lib/python3.10/dist-packages (from notebook>=4.4.1->widgetsnbextension~=3.6.0->ipywidgets) (6.5.4)\n",
      "Requirement already satisfied: nest-asyncio>=1.5 in /usr/local/lib/python3.10/dist-packages (from notebook>=4.4.1->widgetsnbextension~=3.6.0->ipywidgets) (1.5.6)\n",
      "Requirement already satisfied: Send2Trash>=1.8.0 in /usr/local/lib/python3.10/dist-packages (from notebook>=4.4.1->widgetsnbextension~=3.6.0->ipywidgets) (1.8.0)\n",
      "Requirement already satisfied: terminado>=0.8.3 in /usr/local/lib/python3.10/dist-packages (from notebook>=4.4.1->widgetsnbextension~=3.6.0->ipywidgets) (0.17.1)\n",
      "Requirement already satisfied: prometheus-client in /usr/local/lib/python3.10/dist-packages (from notebook>=4.4.1->widgetsnbextension~=3.6.0->ipywidgets) (0.16.0)\n",
      "Requirement already satisfied: python-dateutil>=2.1 in /usr/local/lib/python3.10/dist-packages (from jupyter-client->ipykernel>=4.5.1->ipywidgets) (2.8.2)\n",
      "Requirement already satisfied: ptyprocess>=0.5 in /usr/local/lib/python3.10/dist-packages (from pexpect>4.3->ipython>=4.0.0->ipywidgets) (0.7.0)\n",
      "Requirement already satisfied: wcwidth in /usr/local/lib/python3.10/dist-packages (from prompt-toolkit!=3.0.0,!=3.0.1,<3.1.0,>=2.0.0->ipython>=4.0.0->ipywidgets) (0.2.6)\n",
      "Requirement already satisfied: platformdirs>=2.5 in /usr/local/lib/python3.10/dist-packages (from jupyter-core>=4.6.1->notebook>=4.4.1->widgetsnbextension~=3.6.0->ipywidgets) (3.3.0)\n",
      "Requirement already satisfied: six>=1.5 in /usr/local/lib/python3.10/dist-packages (from python-dateutil>=2.1->jupyter-client->ipykernel>=4.5.1->ipywidgets) (1.16.0)\n",
      "Requirement already satisfied: argon2-cffi-bindings in /usr/local/lib/python3.10/dist-packages (from argon2-cffi->notebook>=4.4.1->widgetsnbextension~=3.6.0->ipywidgets) (21.2.0)\n",
      "Requirement already satisfied: MarkupSafe>=2.0 in /usr/local/lib/python3.10/dist-packages (from jinja2->notebook>=4.4.1->widgetsnbextension~=3.6.0->ipywidgets) (2.1.2)\n",
      "Requirement already satisfied: lxml in /usr/local/lib/python3.10/dist-packages (from nbconvert->notebook>=4.4.1->widgetsnbextension~=3.6.0->ipywidgets) (4.9.2)\n",
      "Requirement already satisfied: beautifulsoup4 in /usr/local/lib/python3.10/dist-packages (from nbconvert->notebook>=4.4.1->widgetsnbextension~=3.6.0->ipywidgets) (4.11.2)\n",
      "Requirement already satisfied: bleach in /usr/local/lib/python3.10/dist-packages (from nbconvert->notebook>=4.4.1->widgetsnbextension~=3.6.0->ipywidgets) (6.0.0)\n",
      "Requirement already satisfied: defusedxml in /usr/local/lib/python3.10/dist-packages (from nbconvert->notebook>=4.4.1->widgetsnbextension~=3.6.0->ipywidgets) (0.7.1)\n",
      "Requirement already satisfied: entrypoints>=0.2.2 in /usr/local/lib/python3.10/dist-packages (from nbconvert->notebook>=4.4.1->widgetsnbextension~=3.6.0->ipywidgets) (0.4)\n",
      "Requirement already satisfied: jupyterlab-pygments in /usr/local/lib/python3.10/dist-packages (from nbconvert->notebook>=4.4.1->widgetsnbextension~=3.6.0->ipywidgets) (0.2.2)\n",
      "Requirement already satisfied: mistune<2,>=0.8.1 in /usr/local/lib/python3.10/dist-packages (from nbconvert->notebook>=4.4.1->widgetsnbextension~=3.6.0->ipywidgets) (0.8.4)\n",
      "Requirement already satisfied: nbclient>=0.5.0 in /usr/local/lib/python3.10/dist-packages (from nbconvert->notebook>=4.4.1->widgetsnbextension~=3.6.0->ipywidgets) (0.7.4)\n",
      "Requirement already satisfied: packaging in /usr/local/lib/python3.10/dist-packages (from nbconvert->notebook>=4.4.1->widgetsnbextension~=3.6.0->ipywidgets) (23.1)\n",
      "Requirement already satisfied: pandocfilters>=1.4.1 in /usr/local/lib/python3.10/dist-packages (from nbconvert->notebook>=4.4.1->widgetsnbextension~=3.6.0->ipywidgets) (1.5.0)\n",
      "Requirement already satisfied: tinycss2 in /usr/local/lib/python3.10/dist-packages (from nbconvert->notebook>=4.4.1->widgetsnbextension~=3.6.0->ipywidgets) (1.2.1)\n",
      "Requirement already satisfied: fastjsonschema in /usr/local/lib/python3.10/dist-packages (from nbformat->notebook>=4.4.1->widgetsnbextension~=3.6.0->ipywidgets) (2.16.3)\n",
      "Requirement already satisfied: jsonschema>=2.6 in /usr/local/lib/python3.10/dist-packages (from nbformat->notebook>=4.4.1->widgetsnbextension~=3.6.0->ipywidgets) (4.3.3)\n",
      "Requirement already satisfied: attrs>=17.4.0 in /usr/local/lib/python3.10/dist-packages (from jsonschema>=2.6->nbformat->notebook>=4.4.1->widgetsnbextension~=3.6.0->ipywidgets) (23.1.0)\n",
      "Requirement already satisfied: pyrsistent!=0.17.0,!=0.17.1,!=0.17.2,>=0.14.0 in /usr/local/lib/python3.10/dist-packages (from jsonschema>=2.6->nbformat->notebook>=4.4.1->widgetsnbextension~=3.6.0->ipywidgets) (0.19.3)\n",
      "Requirement already satisfied: cffi>=1.0.1 in /usr/local/lib/python3.10/dist-packages (from argon2-cffi-bindings->argon2-cffi->notebook>=4.4.1->widgetsnbextension~=3.6.0->ipywidgets) (1.15.1)\n",
      "Requirement already satisfied: soupsieve>1.2 in /usr/local/lib/python3.10/dist-packages (from beautifulsoup4->nbconvert->notebook>=4.4.1->widgetsnbextension~=3.6.0->ipywidgets) (2.4.1)\n",
      "Requirement already satisfied: webencodings in /usr/local/lib/python3.10/dist-packages (from bleach->nbconvert->notebook>=4.4.1->widgetsnbextension~=3.6.0->ipywidgets) (0.5.1)\n",
      "Requirement already satisfied: pycparser in /usr/local/lib/python3.10/dist-packages (from cffi>=1.0.1->argon2-cffi-bindings->argon2-cffi->notebook>=4.4.1->widgetsnbextension~=3.6.0->ipywidgets) (2.21)\n",
      "Installing collected packages: jedi\n",
      "Successfully installed jedi-0.18.2\n"
     ]
    }
   ],
   "source": [
    "pip install ipywidgets "
   ]
  },
  {
   "cell_type": "markdown",
   "metadata": {
    "id": "yT4jogzoKj85"
   },
   "source": [
    "### Importowanie wymaganych bibliotek"
   ]
  },
  {
   "cell_type": "code",
   "execution_count": 4,
   "metadata": {
    "id": "z4nn0PkVUlJp"
   },
   "outputs": [],
   "source": [
    "import tensorflow as tf \n",
    "from tensorflow import keras \n",
    "from tensorflow.keras.layers import Dense \n",
    "from tensorflow.keras.layers import Flatten \n",
    "from tensorflow.keras.layers import Input \n",
    "from tensorflow.keras.layers import BatchNormalization \n",
    "from tensorflow.keras.layers import Dropout \n",
    "from tensorflow.keras.layers import LSTM \n",
    "from tensorflow.keras.models import Model \n",
    "from tensorflow.keras.models import Sequential \n",
    "from tensorflow.keras.models import load_model \n",
    "from keras.callbacks import EarlyStopping \n",
    "\n",
    "import matplotlib.pyplot as plt  \n",
    "import seaborn as sns  \n",
    "import pandas as pd  \n",
    "import numpy as np \n",
    "import math \n",
    "\n",
    "from IPython.display import display \n",
    "import ipywidgets as widgets \n",
    "from ipywidgets import interact \n",
    "from ipywidgets import interactive\n",
    "from ipywidgets import interact_manual\n",
    "\n",
    "from sklearn.model_selection import train_test_split \n",
    "from sklearn.metrics import r2_score\n",
    "from sklearn.metrics import mean_absolute_error \n",
    "from sklearn.metrics import mean_squared_error \n",
    "from sklearn.preprocessing import MinMaxScaler \n"
   ]
  },
  {
   "cell_type": "markdown",
   "metadata": {
    "id": "iJAPsNnHKj86"
   },
   "source": [
    "### Wczytanie bazy firmy Monari"
   ]
  },
  {
   "cell_type": "code",
   "execution_count": 33,
   "metadata": {
    "id": "xNXhr96tUzag"
   },
   "outputs": [],
   "source": [
    "data = pd.read_csv('monari.csv')"
   ]
  },
  {
   "cell_type": "markdown",
   "metadata": {
    "id": "F28mhURdVfUZ"
   },
   "source": [
    "### Podzial na zbiór treningowy i testowy"
   ]
  },
  {
   "cell_type": "code",
   "execution_count": 34,
   "metadata": {
    "colab": {
     "base_uri": "https://localhost:8080/"
    },
    "id": "w7rcw-LcKj86",
    "outputId": "e99fa1b4-c35f-4e8f-8f59-c2c1ab885be0"
   },
   "outputs": [
    {
     "name": "stdout",
     "output_type": "stream",
     "text": [
      "(2001, 6)\n"
     ]
    }
   ],
   "source": [
    "print(data.shape) "
   ]
  },
  {
   "cell_type": "code",
   "execution_count": 36,
   "metadata": {
    "colab": {
     "base_uri": "https://localhost:8080/"
    },
    "id": "tVIFFmksVtX7",
    "outputId": "a30d2ffe-e805-470a-cc5e-d231eed2aeb7"
   },
   "outputs": [
    {
     "name": "stdout",
     "output_type": "stream",
     "text": [
      "(1600, 6)\n"
     ]
    }
   ],
   "source": [
    "ratio = 0.8  \n",
    "N = int(len(data)*ratio)  \n",
    "train_df, test_df = data[:N], data[N:] \n",
    "print(train_df.shape)"
   ]
  },
  {
   "cell_type": "code",
   "execution_count": 37,
   "metadata": {
    "colab": {
     "base_uri": "https://localhost:8080/"
    },
    "id": "b0jVcRkvWVDV",
    "outputId": "b4ae569f-af52-4af2-ba19-f13e3cf76463"
   },
   "outputs": [
    {
     "name": "stdout",
     "output_type": "stream",
     "text": [
      "(400, 6)\n"
     ]
    }
   ],
   "source": [
    "ratio = 0.2\n",
    "N = int(len(data)*ratio)\n",
    "test_df, val_df = test_df[:N], test_df[N:]\n",
    "print(test_df.shape)"
   ]
  },
  {
   "cell_type": "code",
   "execution_count": 38,
   "metadata": {
    "colab": {
     "base_uri": "https://localhost:8080/",
     "height": 300
    },
    "id": "yxOZAIQgWjaW",
    "outputId": "c17651ed-743a-49c3-9a71-32cc2824a256"
   },
   "outputs": [
    {
     "data": {
      "text/html": [
       "\n",
       "  <div id=\"df-00a66334-160b-422f-816c-a5b49f65cf9d\">\n",
       "    <div class=\"colab-df-container\">\n",
       "      <div>\n",
       "<style scoped>\n",
       "    .dataframe tbody tr th:only-of-type {\n",
       "        vertical-align: middle;\n",
       "    }\n",
       "\n",
       "    .dataframe tbody tr th {\n",
       "        vertical-align: top;\n",
       "    }\n",
       "\n",
       "    .dataframe thead th {\n",
       "        text-align: right;\n",
       "    }\n",
       "</style>\n",
       "<table border=\"1\" class=\"dataframe\">\n",
       "  <thead>\n",
       "    <tr style=\"text-align: right;\">\n",
       "      <th></th>\n",
       "      <th>Otwarcie</th>\n",
       "      <th>Najwyzszy</th>\n",
       "      <th>Najnizszy</th>\n",
       "      <th>Zamkniecie</th>\n",
       "      <th>Wolumen</th>\n",
       "    </tr>\n",
       "  </thead>\n",
       "  <tbody>\n",
       "    <tr>\n",
       "      <th>count</th>\n",
       "      <td>1600.000000</td>\n",
       "      <td>1600.000000</td>\n",
       "      <td>1600.000000</td>\n",
       "      <td>1600.000000</td>\n",
       "      <td>1.600000e+03</td>\n",
       "    </tr>\n",
       "    <tr>\n",
       "      <th>mean</th>\n",
       "      <td>7.604321</td>\n",
       "      <td>7.706073</td>\n",
       "      <td>7.463012</td>\n",
       "      <td>7.590291</td>\n",
       "      <td>5.470960e+04</td>\n",
       "    </tr>\n",
       "    <tr>\n",
       "      <th>std</th>\n",
       "      <td>4.688539</td>\n",
       "      <td>4.741040</td>\n",
       "      <td>4.621373</td>\n",
       "      <td>4.686287</td>\n",
       "      <td>8.456938e+04</td>\n",
       "    </tr>\n",
       "    <tr>\n",
       "      <th>min</th>\n",
       "      <td>1.380000</td>\n",
       "      <td>1.410000</td>\n",
       "      <td>1.350000</td>\n",
       "      <td>1.370000</td>\n",
       "      <td>2.610000e+02</td>\n",
       "    </tr>\n",
       "    <tr>\n",
       "      <th>25%</th>\n",
       "      <td>3.040000</td>\n",
       "      <td>3.087500</td>\n",
       "      <td>2.970000</td>\n",
       "      <td>3.030000</td>\n",
       "      <td>1.335200e+04</td>\n",
       "    </tr>\n",
       "    <tr>\n",
       "      <th>50%</th>\n",
       "      <td>7.095000</td>\n",
       "      <td>7.200000</td>\n",
       "      <td>6.940000</td>\n",
       "      <td>7.075000</td>\n",
       "      <td>2.865750e+04</td>\n",
       "    </tr>\n",
       "    <tr>\n",
       "      <th>75%</th>\n",
       "      <td>10.237500</td>\n",
       "      <td>10.382500</td>\n",
       "      <td>10.002500</td>\n",
       "      <td>10.200000</td>\n",
       "      <td>6.264975e+04</td>\n",
       "    </tr>\n",
       "    <tr>\n",
       "      <th>max</th>\n",
       "      <td>19.255000</td>\n",
       "      <td>19.699000</td>\n",
       "      <td>19.048000</td>\n",
       "      <td>19.255000</td>\n",
       "      <td>1.052235e+06</td>\n",
       "    </tr>\n",
       "  </tbody>\n",
       "</table>\n",
       "</div>\n",
       "      <button class=\"colab-df-convert\" onclick=\"convertToInteractive('df-00a66334-160b-422f-816c-a5b49f65cf9d')\"\n",
       "              title=\"Convert this dataframe to an interactive table.\"\n",
       "              style=\"display:none;\">\n",
       "        \n",
       "  <svg xmlns=\"http://www.w3.org/2000/svg\" height=\"24px\"viewBox=\"0 0 24 24\"\n",
       "       width=\"24px\">\n",
       "    <path d=\"M0 0h24v24H0V0z\" fill=\"none\"/>\n",
       "    <path d=\"M18.56 5.44l.94 2.06.94-2.06 2.06-.94-2.06-.94-.94-2.06-.94 2.06-2.06.94zm-11 1L8.5 8.5l.94-2.06 2.06-.94-2.06-.94L8.5 2.5l-.94 2.06-2.06.94zm10 10l.94 2.06.94-2.06 2.06-.94-2.06-.94-.94-2.06-.94 2.06-2.06.94z\"/><path d=\"M17.41 7.96l-1.37-1.37c-.4-.4-.92-.59-1.43-.59-.52 0-1.04.2-1.43.59L10.3 9.45l-7.72 7.72c-.78.78-.78 2.05 0 2.83L4 21.41c.39.39.9.59 1.41.59.51 0 1.02-.2 1.41-.59l7.78-7.78 2.81-2.81c.8-.78.8-2.07 0-2.86zM5.41 20L4 18.59l7.72-7.72 1.47 1.35L5.41 20z\"/>\n",
       "  </svg>\n",
       "      </button>\n",
       "      \n",
       "  <style>\n",
       "    .colab-df-container {\n",
       "      display:flex;\n",
       "      flex-wrap:wrap;\n",
       "      gap: 12px;\n",
       "    }\n",
       "\n",
       "    .colab-df-convert {\n",
       "      background-color: #E8F0FE;\n",
       "      border: none;\n",
       "      border-radius: 50%;\n",
       "      cursor: pointer;\n",
       "      display: none;\n",
       "      fill: #1967D2;\n",
       "      height: 32px;\n",
       "      padding: 0 0 0 0;\n",
       "      width: 32px;\n",
       "    }\n",
       "\n",
       "    .colab-df-convert:hover {\n",
       "      background-color: #E2EBFA;\n",
       "      box-shadow: 0px 1px 2px rgba(60, 64, 67, 0.3), 0px 1px 3px 1px rgba(60, 64, 67, 0.15);\n",
       "      fill: #174EA6;\n",
       "    }\n",
       "\n",
       "    [theme=dark] .colab-df-convert {\n",
       "      background-color: #3B4455;\n",
       "      fill: #D2E3FC;\n",
       "    }\n",
       "\n",
       "    [theme=dark] .colab-df-convert:hover {\n",
       "      background-color: #434B5C;\n",
       "      box-shadow: 0px 1px 3px 1px rgba(0, 0, 0, 0.15);\n",
       "      filter: drop-shadow(0px 1px 2px rgba(0, 0, 0, 0.3));\n",
       "      fill: #FFFFFF;\n",
       "    }\n",
       "  </style>\n",
       "\n",
       "      <script>\n",
       "        const buttonEl =\n",
       "          document.querySelector('#df-00a66334-160b-422f-816c-a5b49f65cf9d button.colab-df-convert');\n",
       "        buttonEl.style.display =\n",
       "          google.colab.kernel.accessAllowed ? 'block' : 'none';\n",
       "\n",
       "        async function convertToInteractive(key) {\n",
       "          const element = document.querySelector('#df-00a66334-160b-422f-816c-a5b49f65cf9d');\n",
       "          const dataTable =\n",
       "            await google.colab.kernel.invokeFunction('convertToInteractive',\n",
       "                                                     [key], {});\n",
       "          if (!dataTable) return;\n",
       "\n",
       "          const docLinkHtml = 'Like what you see? Visit the ' +\n",
       "            '<a target=\"_blank\" href=https://colab.research.google.com/notebooks/data_table.ipynb>data table notebook</a>'\n",
       "            + ' to learn more about interactive tables.';\n",
       "          element.innerHTML = '';\n",
       "          dataTable['output_type'] = 'display_data';\n",
       "          await google.colab.output.renderOutput(dataTable, element);\n",
       "          const docLink = document.createElement('div');\n",
       "          docLink.innerHTML = docLinkHtml;\n",
       "          element.appendChild(docLink);\n",
       "        }\n",
       "      </script>\n",
       "    </div>\n",
       "  </div>\n",
       "  "
      ],
      "text/plain": [
       "          Otwarcie    Najwyzszy    Najnizszy   Zamkniecie       Wolumen\n",
       "count  1600.000000  1600.000000  1600.000000  1600.000000  1.600000e+03\n",
       "mean      7.604321     7.706073     7.463012     7.590291  5.470960e+04\n",
       "std       4.688539     4.741040     4.621373     4.686287  8.456938e+04\n",
       "min       1.380000     1.410000     1.350000     1.370000  2.610000e+02\n",
       "25%       3.040000     3.087500     2.970000     3.030000  1.335200e+04\n",
       "50%       7.095000     7.200000     6.940000     7.075000  2.865750e+04\n",
       "75%      10.237500    10.382500    10.002500    10.200000  6.264975e+04\n",
       "max      19.255000    19.699000    19.048000    19.255000  1.052235e+06"
      ]
     },
     "execution_count": 38,
     "metadata": {},
     "output_type": "execute_result"
    }
   ],
   "source": [
    "train_df.describe() "
   ]
  },
  {
   "cell_type": "code",
   "execution_count": 39,
   "metadata": {
    "id": "HrtXH7VgWqsD"
   },
   "outputs": [],
   "source": [
    "rolling = data.rolling(window=7)"
   ]
  },
  {
   "cell_type": "code",
   "execution_count": 40,
   "metadata": {
    "id": "IaOjWnf3WuAB"
   },
   "outputs": [],
   "source": [
    "data_roll = pd.DataFrame()\n",
    "data_roll['Zamkniecie']=train_df['Zamkniecie']"
   ]
  },
  {
   "cell_type": "code",
   "execution_count": 41,
   "metadata": {
    "colab": {
     "base_uri": "https://localhost:8080/",
     "height": 81,
     "referenced_widgets": [
      "8f0f58fdbb3c4499b45beed592e855f5",
      "cea060455b2f4bc2a74a94b2f73fc273",
      "c34668348799495b8704bf3311484dcd",
      "d4a49f35cbd64d2584072dd0cab1ac6a",
      "bbb718c58bc743a69d390d76762e0c68",
      "e7634fa1193446529af5016bed2e524c",
      "8fe9da53b08f41cc8ae9f11b8d5a1077",
      "c5acbae482164b8d93e469845c279f01",
      "ccc73acdcb7f407cb7fa2a92bd9f78ff",
      "ad8391bb0fe94cffa012bd8eacf2f0f2"
     ]
    },
    "id": "9liwthJDKj88",
    "outputId": "cd290e88-0800-4836-c77b-ed345249c1ee"
   },
   "outputs": [
    {
     "data": {
      "application/vnd.jupyter.widget-view+json": {
       "model_id": "8f0f58fdbb3c4499b45beed592e855f5",
       "version_major": 2,
       "version_minor": 0
      },
      "text/plain": [
       "interactive(children=(IntSlider(value=50, description='lw', min=1), Button(description='Run Interact', style=B…"
      ]
     },
     "metadata": {},
     "output_type": "display_data"
    }
   ],
   "source": [
    "@widgets.interact_manual(lw=(1, 100))\n",
    "def plot(lw):\n",
    "  rolling = data.rolling(window=lw, center=True)\n",
    "  data_roll = pd.DataFrame()\n",
    " \n",
    "  data_roll['Zamkniecie']=data['Zamkniecie']\n",
    "  data_roll['7 days rolling_mean(srednia kroczaca)']=data_roll['Zamkniecie'].rolling(lw, min_periods=1).mean()\n",
    "  ax = data_roll.plot(style=['-', '--'], rot=90, figsize=(20, 10)) \n",
    "  ax.lines[0].set_alpha(0.3)  "
   ]
  },
  {
   "cell_type": "markdown",
   "metadata": {
    "id": "8eSGFce8W3jD"
   },
   "source": [
    "### Przygotowanie danych do uczenia na sieci LSTM (zmiana wymiarow macierzy, by model zaczal obrabiac dane)"
   ]
  },
  {
   "cell_type": "code",
   "execution_count": 42,
   "metadata": {
    "id": "e4v22vMBXlIn"
   },
   "outputs": [],
   "source": [
    "zmienna_przewidywana = \"Zamkniecie\"  \n",
    "\n",
    "def prepare_dataset_to_lstm(zmienna_przewidywana, train_df, ratio): \n",
    "\n",
    "  dataset = train_df[zmienna_przewidywana].values  \n",
    "  dataset = dataset.astype('float32') \n",
    "  dataset = np.reshape(dataset, (-1, 1)) \n",
    "  scaler = MinMaxScaler(feature_range=(0, 1)) \n",
    "  dataset = scaler.fit_transform(dataset) \n",
    "\n",
    "  train_size = int(len(dataset) * ratio) \n",
    "  test_size = len(dataset) - train_size \n",
    "  train, test = dataset[0:train_size,:], dataset[train_size:len(dataset),:] \n",
    "\n",
    "  return train, test, scaler\n",
    "\n",
    "train, test, scaler = prepare_dataset_to_lstm(zmienna_przewidywana, train_df, ratio=0.8)\n"
   ]
  },
  {
   "cell_type": "code",
   "execution_count": 43,
   "metadata": {
    "id": "BPKKHxCWXpe1"
   },
   "outputs": [],
   "source": [
    "def create_dataset_lstm(dataset, look_back=1):   \n",
    "    X, Y = [], [] \n",
    "    for i in range(len(dataset)-look_back-1): \n",
    "        a = dataset[i:(i+look_back), 0] \n",
    "        X.append(a) \n",
    "        Y.append(dataset[i + look_back, 0])\n",
    "    return np.array(X), np.array(Y) \n",
    "\n",
    "look_back = 20 \n",
    "X_train, Y_train = create_dataset_lstm(train, look_back) \n",
    "X_test, Y_test = create_dataset_lstm(test, look_back) \n",
    "\n",
    "X_train = np.reshape(X_train, (X_train.shape[0], 1, X_train.shape[1])) \n",
    "X_test = np.reshape(X_test, (X_test.shape[0], 1, X_test.shape[1])) "
   ]
  },
  {
   "cell_type": "markdown",
   "metadata": {
    "id": "lu0pQXiDZYM7"
   },
   "source": [
    "## Uczenie modelu"
   ]
  },
  {
   "cell_type": "code",
   "execution_count": 44,
   "metadata": {
    "id": "24NO3QG3Y7Pp"
   },
   "outputs": [],
   "source": [
    "def lstm_model(X_train, Y_train, X_test, Y_test, batch_size=20): \n",
    "  model = Sequential() \n",
    "  model.add(LSTM(20, input_shape=(X_train.shape[1], X_train.shape[2]))) \n",
    "  model.add(Dropout(0.1)) \n",
    "  model.add(Dense(8)) \n",
    "  model.compile(loss='mean_squared_error', optimizer='adam') \n",
    "\n",
    "  history = model.fit(X_train, Y_train, epochs=5, batch_size=10, validation_data=(X_test, Y_test), \n",
    "                      callbacks=[EarlyStopping(monitor='val_loss', patience=10)], verbose=1, shuffle=False) \n",
    "  return model "
   ]
  },
  {
   "cell_type": "markdown",
   "metadata": {
    "id": "bPnSxCs7Kj8-"
   },
   "source": [
    "## Ewaluacja modelu"
   ]
  },
  {
   "cell_type": "code",
   "execution_count": 45,
   "metadata": {
    "id": "7OKDU7BRZhqQ"
   },
   "outputs": [],
   "source": [
    "def evaluation_model(model,X_train, X_test, Y_train, testing=False):\n",
    "  dataset = train_df[zmienna_przewidywana].values\n",
    "  dataset = dataset.astype('float32') \n",
    "  dataset = np.reshape(dataset, (-1, 1)) \n",
    "  scaler = MinMaxScaler(feature_range=(0, 1)) \n",
    "  dataset = scaler.fit_transform(dataset) \n",
    "  \n",
    "  train_predict = model.predict(X_train) \n",
    "  test_predict = model.predict(X_test) \n",
    "\n",
    "  train_predict = scaler.inverse_transform(train_predict)\n",
    "  Y_train = scaler.inverse_transform([Y_train])\n",
    "\n",
    "  _mean_absolute_error = mean_absolute_error(Y_train[0], train_predict[:,0])  \n",
    "  _mean_squared_error = np.sqrt(mean_squared_error(Y_train[0], train_predict[:,0])) \n",
    "  print('Train Mean Absolute Error:', _mean_absolute_error) \n",
    "  print('Train Root Mean Squared Error:',_mean_squared_error)\n",
    "  if testing:\n",
    "    return Y_train, train_predict, _mean_absolute_error, _mean_squared_error \n",
    "  return Y_train, train_predict "
   ]
  },
  {
   "cell_type": "code",
   "execution_count": 46,
   "metadata": {
    "colab": {
     "base_uri": "https://localhost:8080/"
    },
    "id": "xiujQG_iduIb",
    "outputId": "856ef324-3f72-4bf2-eec5-7b3454425801"
   },
   "outputs": [
    {
     "name": "stdout",
     "output_type": "stream",
     "text": [
      "(1, 2, (10, 20))\n",
      "1 2 (10, 20)\n"
     ]
    }
   ],
   "source": [
    "def a():\n",
    "    return 1, 2, (10, 20)\n",
    "\n",
    "x,y, error = a()\n",
    "print(a())\n",
    "print(x,y, error)"
   ]
  },
  {
   "cell_type": "code",
   "execution_count": 47,
   "metadata": {
    "colab": {
     "base_uri": "https://localhost:8080/"
    },
    "id": "dgXynbpvZ_ZT",
    "outputId": "21d5a411-d71d-4d2f-ff89-051dedc8e439"
   },
   "outputs": [
    {
     "name": "stdout",
     "output_type": "stream",
     "text": [
      "Epoch 1/5\n",
      "126/126 [==============================] - 5s 20ms/step - loss: 0.1203 - val_loss: 0.0030\n",
      "Epoch 2/5\n",
      "126/126 [==============================] - 1s 7ms/step - loss: 0.0106 - val_loss: 0.0028\n",
      "Epoch 3/5\n",
      "126/126 [==============================] - 1s 6ms/step - loss: 0.0082 - val_loss: 0.0022\n",
      "Epoch 4/5\n",
      "126/126 [==============================] - 1s 4ms/step - loss: 0.0076 - val_loss: 0.0017\n",
      "Epoch 5/5\n",
      "126/126 [==============================] - 1s 4ms/step - loss: 0.0061 - val_loss: 0.0014\n"
     ]
    }
   ],
   "source": [
    "history = lstm_model(X_train, Y_train, X_test, Y_test, batch_size=10)"
   ]
  },
  {
   "cell_type": "code",
   "execution_count": 48,
   "metadata": {
    "colab": {
     "base_uri": "https://localhost:8080/"
    },
    "id": "bBRLWe2tal_k",
    "outputId": "4271de18-f60c-42e8-dd01-c30a134f6520"
   },
   "outputs": [
    {
     "name": "stdout",
     "output_type": "stream",
     "text": [
      "Saved model to disk\n"
     ]
    }
   ],
   "source": [
    "model_json = history.to_json()\n",
    "with open(\"model.json\", \"w\") as json_file: \n",
    "    json_file.write(model_json)\n",
    "history.save_weights(\"model.h5\")  \n",
    "print(\"Saved model to disk\")  "
   ]
  },
  {
   "cell_type": "code",
   "execution_count": 49,
   "metadata": {
    "colab": {
     "base_uri": "https://localhost:8080/"
    },
    "id": "WfuK6w9caHN8",
    "outputId": "f5421e05-da01-4a48-cc5c-123de4a307be"
   },
   "outputs": [
    {
     "name": "stdout",
     "output_type": "stream",
     "text": [
      "40/40 [==============================] - 1s 2ms/step\n",
      "10/10 [==============================] - 0s 2ms/step\n",
      "Train Mean Absolute Error: 0.5964731755700233\n",
      "Train Root Mean Squared Error: 0.7779235964164061\n"
     ]
    },
    {
     "data": {
      "text/plain": [
       "(array([[15.73500052, 15.51799967, 15.21300025, ...,  1.73000005,\n",
       "          1.73499999,  1.73000005]]),\n",
       " array([[14.29175  , 13.923281 , 13.311797 , ..., 13.654763 , 13.589095 ,\n",
       "         13.930693 ],\n",
       "        [14.287557 , 13.935256 , 13.376933 , ..., 13.69668  , 13.594006 ,\n",
       "         13.995075 ],\n",
       "        [14.386644 , 13.941026 , 13.392823 , ..., 13.7435875, 13.712262 ,\n",
       "         14.039455 ],\n",
       "        ...,\n",
       "        [ 2.3754132,  2.8014095,  2.75827  , ...,  2.6689699,  2.4432595,\n",
       "          2.6941094],\n",
       "        [ 2.3279767,  2.8096356,  2.7973602, ...,  2.674914 ,  2.4327645,\n",
       "          2.6847908],\n",
       "        [ 2.3287058,  2.8145514,  2.8013046, ...,  2.6666384,  2.4480407,\n",
       "          2.6707175]], dtype=float32))"
      ]
     },
     "execution_count": 49,
     "metadata": {},
     "output_type": "execute_result"
    }
   ],
   "source": [
    "evaluation_model(history,X_train, X_test, Y_train)"
   ]
  },
  {
   "cell_type": "code",
   "execution_count": 50,
   "metadata": {
    "colab": {
     "base_uri": "https://localhost:8080/"
    },
    "id": "JFznAylEdG8X",
    "outputId": "b2833240-a20b-4bed-8bd4-eab71e77b6f0"
   },
   "outputs": [
    {
     "name": "stdout",
     "output_type": "stream",
     "text": [
      "40/40 [==============================] - 0s 2ms/step\n",
      "10/10 [==============================] - 0s 2ms/step\n",
      "Train Mean Absolute Error: 0.5964731755700233\n",
      "Train Root Mean Squared Error: 0.7779235964164061\n"
     ]
    }
   ],
   "source": [
    "Y_train, train_predict = evaluation_model(history,X_train, X_test, Y_train)"
   ]
  },
  {
   "cell_type": "code",
   "execution_count": 51,
   "metadata": {
    "id": "VQ-5nMYZcgXv"
   },
   "outputs": [],
   "source": [
    "def visualization(Y_train, train_predict):\n",
    "  N = len(Y_train[0]) \n",
    "  aa=[x for x in range(N)]\n",
    "  plt.figure(figsize=(8,4))\n",
    "  plt.plot(aa, Y_train[0], marker='.', label=\"actual\") \n",
    "  plt.plot(aa, train_predict[:,0], 'r', label=\"prediction\")\n",
    "  plt.tight_layout()  \n",
    "  sns.despine(top=True) \n",
    "  plt.subplots_adjust(left=0.07)  \n",
    "  plt.title(\" prediction\")\n",
    "  plt.xlabel('Time step', size=15) \n",
    "  plt.legend(fontsize=15) \n",
    "  plt.show();  "
   ]
  },
  {
   "cell_type": "code",
   "execution_count": 52,
   "metadata": {
    "colab": {
     "base_uri": "https://localhost:8080/",
     "height": 451
    },
    "id": "2QEN7oeKc4W-",
    "outputId": "39aa4343-9888-4480-93c0-b6a5e99186e1"
   },
   "outputs": [
    {
     "data": {
      "image/png": "[encoded data removed]",
      "text/plain": [
       "<Figure size 800x400 with 1 Axes>"
      ]
     },
     "metadata": {},
     "output_type": "display_data"
    }
   ],
   "source": [
    "visualization(Y_train, train_predict)"
   ]
  },
  {
   "cell_type": "markdown",
   "metadata": {
    "id": "186VBDTrd3yn"
   },
   "source": [
    "## Zmieniamy wielkosc batch, by zobaczyc jaki wplyw ma ta zmienna na wyniki"
   ]
  },
  {
   "cell_type": "code",
   "execution_count": 53,
   "metadata": {
    "colab": {
     "base_uri": "https://localhost:8080/"
    },
    "id": "0RAuJONqejpj",
    "outputId": "68a5c8c5-ac9c-4f6c-ce44-cc96ae9a573d"
   },
   "outputs": [
    {
     "name": "stdout",
     "output_type": "stream",
     "text": [
      "[[0.02180598 0.01984903 0.02460162]\n",
      " [0.01984903 0.02460162 0.03913894]\n",
      " [0.02460162 0.03913894 0.0301929 ]\n",
      " [0.03913894 0.0301929  0.03131115]\n",
      " [0.0301929  0.03131115 0.03690243]\n",
      " [0.03131115 0.03690243 0.03410679]\n",
      " [0.03690243 0.03410679 0.04193458]\n",
      " [0.03410679 0.04193458 0.04081632]\n",
      " [0.04193458 0.04081632 0.05759016]\n",
      " [0.04081632 0.05759016 0.05703104]\n",
      " [0.05759016 0.05703104 0.0503215 ]\n",
      " [0.05703104 0.0503215  0.04920324]\n",
      " [0.0503215  0.04920324 0.04696673]\n",
      " [0.04920324 0.04696673 0.03690243]\n",
      " [0.04696673 0.03690243 0.04081632]\n",
      " [0.03690243 0.04081632 0.04193458]\n",
      " [0.04081632 0.04193458 0.04584848]\n",
      " [0.04193458 0.04584848 0.04193458]\n",
      " [0.04584848 0.04193458 0.04137545]\n",
      " [0.04193458 0.04137545 0.04081632]\n",
      " [0.04137545 0.04081632 0.04193458]\n",
      " [0.04081632 0.04193458 0.04249372]\n",
      " [0.04193458 0.04249372 0.04249372]\n",
      " [0.04249372 0.04249372 0.04640761]\n",
      " [0.04249372 0.04640761 0.04249372]\n",
      " [0.04640761 0.04249372 0.04137545]\n",
      " [0.04249372 0.04137545 0.04081632]\n",
      " [0.04137545 0.04081632 0.04081632]\n",
      " [0.04081632 0.04081632 0.04081632]\n",
      " [0.04081632 0.04081632 0.04137545]\n",
      " [0.04081632 0.04137545 0.03746156]\n",
      " [0.04137545 0.03746156 0.04025719]\n",
      " [0.03746156 0.04025719 0.03857981]\n",
      " [0.04025719 0.03857981 0.04025719]\n",
      " [0.03857981 0.04025719 0.03969806]\n",
      " [0.04025719 0.03969806 0.04417109]\n",
      " [0.03969806 0.04417109 0.04193458]\n",
      " [0.04417109 0.04193458 0.04193458]\n",
      " [0.04193458 0.04193458 0.03522505]\n",
      " [0.04193458 0.03522505 0.03410679]\n",
      " [0.03522505 0.03410679 0.03802069]\n",
      " [0.03410679 0.03802069 0.03969806]\n",
      " [0.03802069 0.03969806 0.03969806]\n",
      " [0.03969806 0.03969806 0.03913894]\n",
      " [0.03969806 0.03913894 0.04025719]\n",
      " [0.03913894 0.04025719 0.04528935]\n",
      " [0.04025719 0.04528935 0.03802069]\n",
      " [0.04528935 0.03802069 0.04137545]\n",
      " [0.03802069 0.04137545 0.03857981]\n",
      " [0.04137545 0.03857981 0.04025719]\n",
      " [0.03857981 0.04025719 0.03913894]\n",
      " [0.04025719 0.03913894 0.04025719]\n",
      " [0.03913894 0.04025719 0.03466592]\n",
      " [0.04025719 0.03466592 0.03578418]\n",
      " [0.03466592 0.03578418 0.03522505]\n",
      " [0.03578418 0.03522505 0.03634331]\n",
      " [0.03522505 0.03634331 0.03802069]\n",
      " [0.03634331 0.03802069 0.03690243]\n",
      " [0.03802069 0.03690243 0.03690243]\n",
      " [0.03690243 0.03690243 0.03522505]\n",
      " [0.03690243 0.03522505 0.03410679]\n",
      " [0.03522505 0.03410679 0.03242941]\n",
      " [0.03410679 0.03242941 0.03298854]\n",
      " [0.03242941 0.03298854 0.03075203]\n",
      " [0.03298854 0.03075203 0.03187028]\n",
      " [0.03075203 0.03187028 0.02963377]\n",
      " [0.03187028 0.02963377 0.0301929 ]\n",
      " [0.02963377 0.0301929  0.0301929 ]\n",
      " [0.0301929  0.0301929  0.02739726]\n",
      " [0.0301929  0.02739726 0.02795639]\n",
      " [0.02739726 0.02795639 0.02823595]\n",
      " [0.02795639 0.02823595 0.02963377]\n",
      " [0.02823595 0.02963377 0.02739726]\n",
      " [0.02963377 0.02739726 0.02404249]\n",
      " [0.02739726 0.02404249 0.01901034]\n",
      " [0.02404249 0.01901034 0.01956947]\n",
      " [0.01901034 0.01956947 0.02739726]\n",
      " [0.01956947 0.02739726 0.02851552]\n",
      " [0.02739726 0.02851552 0.02907464]\n",
      " [0.02851552 0.02907464 0.02683813]\n",
      " [0.02907464 0.02683813 0.02516075]\n",
      " [0.02683813 0.02516075 0.0232038 ]\n",
      " [0.02516075 0.0232038  0.02683813]\n",
      " [0.0232038  0.02683813 0.02655857]\n",
      " [0.02683813 0.02655857 0.02460162]\n",
      " [0.02655857 0.02460162 0.02264467]\n",
      " [0.02460162 0.02264467 0.02236511]\n",
      " [0.02264467 0.02236511 0.02040816]\n",
      " [0.02236511 0.02040816 0.02236511]\n",
      " [0.02040816 0.02236511 0.02404249]\n",
      " [0.02236511 0.02404249 0.02180598]\n",
      " [0.02404249 0.02180598 0.02432206]\n",
      " [0.02180598 0.02432206 0.02208555]\n",
      " [0.02432206 0.02208555 0.02571988]\n",
      " [0.02208555 0.02571988 0.026279  ]\n",
      " [0.02571988 0.026279   0.02516075]\n",
      " [0.026279   0.02516075 0.02348337]\n",
      " [0.02516075 0.02348337 0.02348337]\n",
      " [0.02348337 0.02348337 0.02208555]\n",
      " [0.02348337 0.02208555 0.01845121]\n",
      " [0.02208555 0.01845121 0.01845121]\n",
      " [0.01845121 0.01845121 0.01677383]\n",
      " [0.01845121 0.01677383 0.01202124]\n",
      " [0.01677383 0.01202124 0.01034386]\n",
      " [0.01202124 0.01034386 0.01062343]\n",
      " [0.01034386 0.01062343 0.00726866]\n",
      " [0.01062343 0.00726866 0.00894604]\n",
      " [0.00726866 0.00894604 0.00531171]\n",
      " [0.00894604 0.00531171 0.00391389]\n",
      " [0.00531171 0.00391389 0.00223651]\n",
      " [0.00391389 0.00223651 0.00223651]\n",
      " [0.00223651 0.00223651 0.00223651]\n",
      " [0.00223651 0.00223651 0.00363433]\n",
      " [0.00223651 0.00363433 0.00251607]\n",
      " [0.00363433 0.00251607 0.00167738]\n",
      " [0.00251607 0.00167738 0.        ]\n",
      " [0.00167738 0.         0.00223651]\n",
      " [0.         0.00223651 0.00391389]\n",
      " [0.00223651 0.00391389 0.0162147 ]\n",
      " [0.00391389 0.0162147  0.01174168]\n",
      " [0.0162147  0.01174168 0.01174168]\n",
      " [0.01174168 0.01174168 0.00559127]\n",
      " [0.01174168 0.00559127 0.01034386]\n",
      " [0.00559127 0.01034386 0.00810735]\n",
      " [0.01034386 0.00810735 0.00782779]\n",
      " [0.00810735 0.00782779 0.00782779]\n",
      " [0.00782779 0.00782779 0.01761252]\n",
      " [0.00782779 0.01761252 0.03634331]\n",
      " [0.01761252 0.03634331 0.02963377]\n",
      " [0.03634331 0.02963377 0.03075203]\n",
      " [0.02963377 0.03075203 0.02823595]\n",
      " [0.03075203 0.02823595 0.02963377]\n",
      " [0.02823595 0.02963377 0.02851552]\n",
      " [0.02963377 0.02851552 0.02851552]\n",
      " [0.02851552 0.02851552 0.02823595]\n",
      " [0.02851552 0.02823595 0.03075203]\n",
      " [0.02823595 0.03075203 0.04584848]\n",
      " [0.03075203 0.04584848 0.04137545]\n",
      " [0.04584848 0.04137545 0.04081632]\n",
      " [0.04137545 0.04081632 0.03746156]\n",
      " [0.04081632 0.03746156 0.03913894]\n",
      " [0.03746156 0.03913894 0.03802069]\n",
      " [0.03913894 0.03802069 0.03634331]\n",
      " [0.03802069 0.03634331 0.03969806]\n",
      " [0.03634331 0.03969806 0.04081632]\n",
      " [0.03969806 0.04081632 0.03410679]\n",
      " [0.04081632 0.03410679 0.03298854]\n",
      " [0.03410679 0.03298854 0.02739726]\n",
      " [0.03298854 0.02739726 0.026279  ]\n",
      " [0.02739726 0.026279   0.02795639]\n",
      " [0.026279   0.02795639 0.02907464]\n",
      " [0.02795639 0.02907464 0.03298854]\n",
      " [0.02907464 0.03298854 0.03466592]\n",
      " [0.03298854 0.03466592 0.03242941]\n",
      " [0.03466592 0.03242941 0.03298854]\n",
      " [0.03242941 0.03298854 0.03242941]\n",
      " [0.03298854 0.03242941 0.03103159]\n",
      " [0.03242941 0.03103159 0.02683813]\n",
      " [0.03103159 0.02683813 0.02516075]\n",
      " [0.02683813 0.02516075 0.02571988]\n",
      " [0.02516075 0.02571988 0.02544031]\n",
      " [0.02571988 0.02544031 0.02516075]\n",
      " [0.02544031 0.02516075 0.02404249]\n",
      " [0.02516075 0.02404249 0.02404249]\n",
      " [0.02404249 0.02404249 0.02376293]\n",
      " [0.02404249 0.02376293 0.02488118]\n",
      " [0.02376293 0.02488118 0.0232038 ]\n",
      " [0.02488118 0.0232038  0.026279  ]\n",
      " [0.0232038  0.026279   0.04025719]\n",
      " [0.026279   0.04025719 0.02935421]\n",
      " [0.04025719 0.02935421 0.03466592]\n",
      " [0.02935421 0.03466592 0.03075203]\n",
      " [0.03466592 0.03075203 0.03187028]\n",
      " [0.03075203 0.03187028 0.03187028]\n",
      " [0.03187028 0.03187028 0.03578418]\n",
      " [0.03187028 0.03578418 0.03522505]\n",
      " [0.03578418 0.03522505 0.03466592]\n",
      " [0.03522505 0.03466592 0.03410679]\n",
      " [0.03466592 0.03410679 0.03634331]\n",
      " [0.03410679 0.03634331 0.04473022]\n",
      " [0.03634331 0.04473022 0.04137545]\n",
      " [0.04473022 0.04137545 0.04081632]\n",
      " [0.04137545 0.04081632 0.04025719]\n",
      " [0.04081632 0.04025719 0.04025719]\n",
      " [0.04025719 0.04025719 0.03802069]\n",
      " [0.04025719 0.03802069 0.03522505]\n",
      " [0.03802069 0.03522505 0.03578418]\n",
      " [0.03522505 0.03578418 0.03187028]\n",
      " [0.03578418 0.03187028 0.03159072]\n",
      " [0.03187028 0.03159072 0.03187028]\n",
      " [0.03159072 0.03187028 0.03242941]\n",
      " [0.03187028 0.03242941 0.0301929 ]\n",
      " [0.03242941 0.0301929  0.02963377]\n",
      " [0.0301929  0.02963377 0.02963377]\n",
      " [0.02963377 0.02963377 0.03522505]\n",
      " [0.02963377 0.03522505 0.03802069]\n",
      " [0.03522505 0.03802069 0.03578418]\n",
      " [0.03802069 0.03578418 0.04361197]\n",
      " [0.03578418 0.04361197 0.03857981]\n",
      " [0.04361197 0.03857981 0.04193458]\n",
      " [0.03857981 0.04193458 0.04025719]\n",
      " [0.04193458 0.04025719 0.04081632]\n",
      " [0.04025719 0.04081632 0.03857981]\n",
      " [0.04081632 0.03857981 0.04025719]\n",
      " [0.03857981 0.04025719 0.03746156]\n",
      " [0.04025719 0.03746156 0.03746156]\n",
      " [0.03746156 0.03746156 0.03410679]\n",
      " [0.03746156 0.03410679 0.03466592]\n",
      " [0.03410679 0.03466592 0.03466592]\n",
      " [0.03466592 0.03466592 0.03298854]\n",
      " [0.03466592 0.03298854 0.03354767]\n",
      " [0.03298854 0.03354767 0.03354767]\n",
      " [0.03354767 0.03354767 0.03354767]\n",
      " [0.03354767 0.03354767 0.03634331]\n",
      " [0.03354767 0.03634331 0.03466592]\n",
      " [0.03634331 0.03466592 0.03634331]\n",
      " [0.03466592 0.03634331 0.04528935]\n",
      " [0.03634331 0.04528935 0.0603858 ]\n",
      " [0.04528935 0.0603858  0.06709533]\n",
      " [0.0603858  0.06709533 0.06821359]\n",
      " [0.06709533 0.06821359 0.06877271]\n",
      " [0.06821359 0.06877271 0.06821359]\n",
      " [0.06877271 0.06821359 0.06318144]\n",
      " [0.06821359 0.06318144 0.05311713]\n",
      " [0.06318144 0.05311713 0.05982668]\n",
      " [0.05311713 0.05982668 0.0603858 ]\n",
      " [0.05982668 0.0603858  0.05535365]\n",
      " [0.0603858  0.05535365 0.05647191]\n",
      " [0.05535365 0.05647191 0.05870842]\n",
      " [0.05647191 0.05870842 0.05759016]\n",
      " [0.05870842 0.05759016 0.05703104]\n",
      " [0.05759016 0.05703104 0.04808499]\n",
      " [0.05703104 0.04808499 0.05982668]\n",
      " [0.04808499 0.05982668 0.0642997 ]\n",
      " [0.05982668 0.0642997  0.06374057]\n",
      " [0.0642997  0.06374057 0.0603858 ]\n",
      " [0.06374057 0.0603858  0.074364  ]\n",
      " [0.0603858  0.074364   0.074364  ]\n",
      " [0.074364   0.074364   0.07380488]\n",
      " [0.074364   0.07380488 0.08722394]\n",
      " [0.07380488 0.08722394 0.09672911]\n",
      " [0.08722394 0.09672911 0.09113783]\n",
      " [0.09672911 0.09113783 0.100643  ]\n",
      " [0.09113783 0.100643   0.10120214]\n",
      " [0.100643   0.10120214 0.10623427]\n",
      " [0.10120214 0.10623427 0.10176126]\n",
      " [0.10623427 0.10176126 0.09505173]\n",
      " [0.10176126 0.09505173 0.09393347]\n",
      " [0.09505173 0.09393347 0.09281521]\n",
      " [0.09393347 0.09281521 0.09337433]\n",
      " [0.09281521 0.09337433 0.09561085]\n",
      " [0.09337433 0.09561085 0.09393347]\n",
      " [0.09561085 0.09393347 0.09561085]\n",
      " [0.09393347 0.09561085 0.10511603]\n",
      " [0.09561085 0.10511603 0.1023204 ]\n",
      " [0.10511603 0.1023204  0.09001958]\n",
      " [0.1023204  0.09001958 0.08610568]\n",
      " [0.09001958 0.08610568 0.09001958]\n",
      " [0.08610568 0.09001958 0.08946045]\n",
      " [0.09001958 0.08946045 0.09337433]\n",
      " [0.08946045 0.09337433 0.09393347]\n",
      " [0.09337433 0.09393347 0.0883422 ]\n",
      " [0.09393347 0.0883422  0.09113783]\n",
      " [0.0883422  0.09113783 0.09225609]\n",
      " [0.09113783 0.09225609 0.08554656]\n",
      " [0.09225609 0.08554656 0.09169696]\n",
      " [0.08554656 0.09169696 0.09001958]\n",
      " [0.09169696 0.09001958 0.09113783]\n",
      " [0.09001958 0.09113783 0.09337433]\n",
      " [0.09113783 0.09337433 0.09616997]\n",
      " [0.09337433 0.09616997 0.11070731]\n",
      " [0.09616997 0.11070731 0.1123847 ]\n",
      " [0.11070731 0.1123847  0.11350294]\n",
      " [0.1123847  0.11350294 0.11294382]\n",
      " [0.11350294 0.11294382 0.10567515]\n",
      " [0.11294382 0.10567515 0.09896562]\n",
      " [0.10567515 0.09896562 0.09672911]\n",
      " [0.09896562 0.09672911 0.100643  ]\n",
      " [0.09672911 0.100643   0.0984065 ]\n",
      " [0.100643   0.0984065  0.09449259]\n",
      " [0.0984065  0.09449259 0.09728823]\n",
      " [0.09449259 0.09728823 0.09113783]\n",
      " [0.09728823 0.09113783 0.09281521]\n",
      " [0.09113783 0.09281521 0.09113783]\n",
      " [0.09281521 0.09113783 0.09281521]\n",
      " [0.09113783 0.09281521 0.09337433]\n",
      " [0.09281521 0.09337433 0.09225609]\n",
      " [0.09337433 0.09225609 0.09616997]\n",
      " [0.09225609 0.09616997 0.0844283 ]\n",
      " [0.09616997 0.0844283  0.08275091]\n",
      " [0.0844283  0.08275091 0.09616997]\n",
      " [0.08275091 0.09616997 0.08946045]\n",
      " [0.09616997 0.08946045 0.09281521]\n",
      " [0.08946045 0.09281521 0.0844283 ]\n",
      " [0.09281521 0.0844283  0.08386917]\n",
      " [0.0844283  0.08386917 0.08554656]\n",
      " [0.08386917 0.08554656 0.0883422 ]\n",
      " [0.08554656 0.0883422  0.08554656]\n",
      " [0.0883422  0.08554656 0.08722394]\n",
      " [0.08554656 0.08722394 0.08610568]\n",
      " [0.08722394 0.08610568 0.0844283 ]\n",
      " [0.08610568 0.0844283  0.08554656]\n",
      " [0.0844283  0.08554656 0.08554656]\n",
      " [0.08554656 0.08554656 0.08498742]\n",
      " [0.08554656 0.08498742 0.08386917]\n",
      " [0.08498742 0.08386917 0.08722394]\n",
      " [0.08386917 0.08722394 0.09113783]\n",
      " [0.08722394 0.09113783 0.09337433]\n",
      " [0.09113783 0.09337433 0.0905787 ]\n",
      " [0.09337433 0.0905787  0.08946045]\n",
      " [0.0905787  0.08946045 0.08498742]\n",
      " [0.08946045 0.08498742 0.08331003]\n",
      " [0.08498742 0.08331003 0.08386917]\n",
      " [0.08331003 0.08386917 0.08051439]\n",
      " [0.08386917 0.08051439 0.07995527]\n",
      " [0.08051439 0.07995527 0.08275091]\n",
      " [0.07995527 0.08275091 0.08163265]]\n"
     ]
    }
   ],
   "source": [
    "train, test, scaler = prepare_dataset_to_lstm(zmienna_przewidywana, train_df, ratio=0.8)\n",
    "\n",
    "def create_dataset_lstm(dataset, look_back=1):\n",
    "    X, Y = [], []\n",
    "    for i in range(len(dataset)-look_back):\n",
    "        a = dataset[i:(i+look_back), 0]\n",
    "        X.append(a)\n",
    "        Y.append(dataset[i + look_back, 0])\n",
    "    return np.array(X), np.array(Y)\n",
    "    \n",
    "look_back = 3 \n",
    "X_train, Y_train = create_dataset_lstm(train, look_back)\n",
    "X_test, Y_test = create_dataset_lstm(test, look_back)\n",
    "print(X_test)\n",
    "\n",
    "X_train = np.reshape(X_train, (X_train.shape[0], 1, X_train.shape[1]))\n",
    "X_test = np.reshape(X_test, (X_test.shape[0], 1, X_test.shape[1]))"
   ]
  },
  {
   "cell_type": "code",
   "execution_count": 54,
   "metadata": {
    "colab": {
     "base_uri": "https://localhost:8080/"
    },
    "id": "RB4mp_3neAns",
    "outputId": "b089bbeb-1da5-4e48-d178-5930f095caf2"
   },
   "outputs": [
    {
     "name": "stdout",
     "output_type": "stream",
     "text": [
      "-------------------------------30--------------------------\n",
      "Epoch 1/5\n",
      "128/128 [==============================] - 3s 8ms/step - loss: 0.1755 - val_loss: 0.0080\n",
      "Epoch 2/5\n",
      "128/128 [==============================] - 0s 4ms/step - loss: 0.0527 - val_loss: 0.0211\n",
      "Epoch 3/5\n",
      "128/128 [==============================] - 1s 4ms/step - loss: 0.0168 - val_loss: 0.0147\n",
      "Epoch 4/5\n",
      "128/128 [==============================] - 1s 5ms/step - loss: 0.0108 - val_loss: 0.0091\n",
      "Epoch 5/5\n",
      "128/128 [==============================] - 1s 6ms/step - loss: 0.0075 - val_loss: 0.0053\n",
      "40/40 [==============================] - 1s 2ms/step\n",
      "10/10 [==============================] - 0s 3ms/step\n",
      "Train Mean Absolute Error: 1.2350777398238335\n",
      "Train Root Mean Squared Error: 1.5415274813643567\n",
      "-------------------------------31--------------------------\n",
      "Epoch 1/5\n",
      "128/128 [==============================] - 3s 8ms/step - loss: 0.1858 - val_loss: 0.0055\n",
      "Epoch 2/5\n",
      "128/128 [==============================] - 0s 4ms/step - loss: 0.0642 - val_loss: 0.0207\n",
      "Epoch 3/5\n",
      "128/128 [==============================] - 0s 4ms/step - loss: 0.0173 - val_loss: 0.0166\n",
      "Epoch 4/5\n",
      "128/128 [==============================] - 1s 4ms/step - loss: 0.0118 - val_loss: 0.0108\n",
      "Epoch 5/5\n",
      "128/128 [==============================] - 0s 4ms/step - loss: 0.0083 - val_loss: 0.0067\n",
      "40/40 [==============================] - 1s 2ms/step\n",
      "10/10 [==============================] - 0s 2ms/step\n",
      "Train Mean Absolute Error: 1.2323227920095752\n",
      "Train Root Mean Squared Error: 1.5168716247114293\n",
      "-------------------------------32--------------------------\n",
      "Epoch 1/5\n",
      "128/128 [==============================] - 4s 11ms/step - loss: 0.1570 - val_loss: 0.0081\n",
      "Epoch 2/5\n",
      "128/128 [==============================] - 1s 6ms/step - loss: 0.0384 - val_loss: 0.0178\n",
      "Epoch 3/5\n",
      "128/128 [==============================] - 1s 4ms/step - loss: 0.0122 - val_loss: 0.0117\n",
      "Epoch 4/5\n",
      "128/128 [==============================] - 1s 4ms/step - loss: 0.0088 - val_loss: 0.0072\n",
      "Epoch 5/5\n",
      "128/128 [==============================] - 0s 4ms/step - loss: 0.0059 - val_loss: 0.0043\n",
      "40/40 [==============================] - 0s 2ms/step\n",
      "10/10 [==============================] - 0s 2ms/step\n",
      "Train Mean Absolute Error: 0.9257896986929056\n",
      "Train Root Mean Squared Error: 1.1066744782601317\n",
      "-------------------------------33--------------------------\n",
      "Epoch 1/5\n",
      "128/128 [==============================] - 5s 9ms/step - loss: 0.1544 - val_loss: 0.0080\n",
      "Epoch 2/5\n",
      "128/128 [==============================] - 1s 4ms/step - loss: 0.0384 - val_loss: 0.0179\n",
      "Epoch 3/5\n",
      "128/128 [==============================] - 1s 4ms/step - loss: 0.0118 - val_loss: 0.0119\n",
      "Epoch 4/5\n",
      "128/128 [==============================] - 1s 4ms/step - loss: 0.0081 - val_loss: 0.0074\n",
      "Epoch 5/5\n",
      "128/128 [==============================] - 1s 6ms/step - loss: 0.0062 - val_loss: 0.0045\n",
      "40/40 [==============================] - 1s 2ms/step\n",
      "10/10 [==============================] - 0s 2ms/step\n",
      "Train Mean Absolute Error: 0.93867019245076\n",
      "Train Root Mean Squared Error: 1.1199749824929655\n",
      "-------------------------------34--------------------------\n",
      "Epoch 1/5\n",
      "128/128 [==============================] - 3s 8ms/step - loss: 0.1781 - val_loss: 0.0061\n",
      "Epoch 2/5\n",
      "128/128 [==============================] - 1s 4ms/step - loss: 0.0605 - val_loss: 0.0223\n",
      "Epoch 3/5\n",
      "128/128 [==============================] - 1s 4ms/step - loss: 0.0179 - val_loss: 0.0167\n",
      "Epoch 4/5\n",
      "128/128 [==============================] - 1s 4ms/step - loss: 0.0117 - val_loss: 0.0106\n",
      "Epoch 5/5\n",
      "128/128 [==============================] - 1s 4ms/step - loss: 0.0080 - val_loss: 0.0062\n",
      "40/40 [==============================] - 1s 2ms/step\n",
      "10/10 [==============================] - 0s 2ms/step\n",
      "Train Mean Absolute Error: 1.2200517818782144\n",
      "Train Root Mean Squared Error: 1.4916286876329192\n",
      "-------------------------------35--------------------------\n",
      "Epoch 1/5\n",
      "128/128 [==============================] - 4s 10ms/step - loss: 0.1910 - val_loss: 0.0068\n",
      "Epoch 2/5\n",
      "128/128 [==============================] - 1s 6ms/step - loss: 0.0622 - val_loss: 0.0219\n",
      "Epoch 3/5\n",
      "128/128 [==============================] - 1s 6ms/step - loss: 0.0182 - val_loss: 0.0165\n",
      "Epoch 4/5\n",
      "128/128 [==============================] - 1s 5ms/step - loss: 0.0119 - val_loss: 0.0105\n",
      "Epoch 5/5\n",
      "128/128 [==============================] - 0s 4ms/step - loss: 0.0077 - val_loss: 0.0061\n",
      "40/40 [==============================] - 1s 2ms/step\n",
      "10/10 [==============================] - 0s 2ms/step\n",
      "Train Mean Absolute Error: 1.355334335112192\n",
      "Train Root Mean Squared Error: 1.6656512379648978\n",
      "-------------------------------36--------------------------\n",
      "Epoch 1/5\n",
      "128/128 [==============================] - 3s 8ms/step - loss: 0.1825 - val_loss: 0.0073\n",
      "Epoch 2/5\n",
      "128/128 [==============================] - 1s 4ms/step - loss: 0.0566 - val_loss: 0.0217\n",
      "Epoch 3/5\n",
      "128/128 [==============================] - 1s 4ms/step - loss: 0.0172 - val_loss: 0.0167\n",
      "Epoch 4/5\n",
      "128/128 [==============================] - 1s 4ms/step - loss: 0.0113 - val_loss: 0.0108\n",
      "Epoch 5/5\n",
      "128/128 [==============================] - 1s 4ms/step - loss: 0.0077 - val_loss: 0.0069\n",
      "40/40 [==============================] - 1s 2ms/step\n",
      "10/10 [==============================] - 0s 2ms/step\n",
      "Train Mean Absolute Error: 0.9390295078706691\n",
      "Train Root Mean Squared Error: 1.087542593008921\n",
      "-------------------------------37--------------------------\n",
      "Epoch 1/5\n",
      "128/128 [==============================] - 5s 8ms/step - loss: 0.1757 - val_loss: 0.0058\n",
      "Epoch 2/5\n",
      "128/128 [==============================] - 1s 4ms/step - loss: 0.0580 - val_loss: 0.0204\n",
      "Epoch 3/5\n",
      "128/128 [==============================] - 1s 4ms/step - loss: 0.0167 - val_loss: 0.0149\n",
      "Epoch 4/5\n",
      "128/128 [==============================] - 1s 4ms/step - loss: 0.0106 - val_loss: 0.0094\n",
      "Epoch 5/5\n",
      "128/128 [==============================] - 1s 4ms/step - loss: 0.0073 - val_loss: 0.0054\n",
      "40/40 [==============================] - 1s 2ms/step\n",
      "10/10 [==============================] - 0s 2ms/step\n",
      "Train Mean Absolute Error: 0.9638819024393656\n",
      "Train Root Mean Squared Error: 1.153516666587452\n",
      "-------------------------------38--------------------------\n",
      "Epoch 1/5\n",
      "128/128 [==============================] - 3s 8ms/step - loss: 0.1834 - val_loss: 0.0062\n",
      "Epoch 2/5\n",
      "128/128 [==============================] - 1s 4ms/step - loss: 0.0614 - val_loss: 0.0211\n",
      "Epoch 3/5\n",
      "128/128 [==============================] - 1s 4ms/step - loss: 0.0185 - val_loss: 0.0170\n",
      "Epoch 4/5\n",
      "128/128 [==============================] - 1s 4ms/step - loss: 0.0117 - val_loss: 0.0114\n",
      "Epoch 5/5\n",
      "128/128 [==============================] - 1s 4ms/step - loss: 0.0085 - val_loss: 0.0071\n",
      "40/40 [==============================] - 1s 2ms/step\n",
      "10/10 [==============================] - 0s 2ms/step\n",
      "Train Mean Absolute Error: 0.9371820962430907\n",
      "Train Root Mean Squared Error: 1.1166178552872013\n",
      "-------------------------------39--------------------------\n",
      "Epoch 1/5\n",
      "128/128 [==============================] - 3s 8ms/step - loss: 0.1872 - val_loss: 0.0059\n",
      "Epoch 2/5\n",
      "128/128 [==============================] - 1s 4ms/step - loss: 0.0630 - val_loss: 0.0234\n",
      "Epoch 3/5\n",
      "128/128 [==============================] - 1s 4ms/step - loss: 0.0187 - val_loss: 0.0179\n",
      "Epoch 4/5\n",
      "128/128 [==============================] - 0s 4ms/step - loss: 0.0123 - val_loss: 0.0117\n",
      "Epoch 5/5\n",
      "128/128 [==============================] - 0s 4ms/step - loss: 0.0084 - val_loss: 0.0073\n",
      "40/40 [==============================] - 1s 2ms/step\n",
      "10/10 [==============================] - 0s 2ms/step\n",
      "Train Mean Absolute Error: 1.5185527199595235\n",
      "Train Root Mean Squared Error: 1.8612757658972838\n",
      "-------------------------------30--------------------------\n",
      "Epoch 1/5\n",
      "127/127 [==============================] - 3s 8ms/step - loss: 0.1408 - val_loss: 0.0055\n",
      "Epoch 2/5\n",
      "127/127 [==============================] - 1s 4ms/step - loss: 0.0162 - val_loss: 0.0059\n",
      "Epoch 3/5\n",
      "127/127 [==============================] - 1s 4ms/step - loss: 0.0070 - val_loss: 0.0037\n",
      "Epoch 4/5\n",
      "127/127 [==============================] - 1s 4ms/step - loss: 0.0062 - val_loss: 0.0025\n",
      "Epoch 5/5\n",
      "127/127 [==============================] - 1s 4ms/step - loss: 0.0054 - val_loss: 0.0017\n",
      "40/40 [==============================] - 0s 2ms/step\n",
      "10/10 [==============================] - 0s 2ms/step\n",
      "Train Mean Absolute Error: 0.6774469967468614\n",
      "Train Root Mean Squared Error: 0.8537252427901835\n",
      "-------------------------------31--------------------------\n",
      "Epoch 1/5\n",
      "127/127 [==============================] - 4s 8ms/step - loss: 0.1324 - val_loss: 0.0048\n",
      "Epoch 2/5\n",
      "127/127 [==============================] - 0s 4ms/step - loss: 0.0146 - val_loss: 0.0053\n",
      "Epoch 3/5\n",
      "127/127 [==============================] - 0s 4ms/step - loss: 0.0068 - val_loss: 0.0035\n",
      "Epoch 4/5\n",
      "127/127 [==============================] - 0s 4ms/step - loss: 0.0056 - val_loss: 0.0024\n",
      "Epoch 5/5\n",
      "127/127 [==============================] - 0s 4ms/step - loss: 0.0055 - val_loss: 0.0017\n",
      "40/40 [==============================] - 1s 2ms/step\n",
      "10/10 [==============================] - 0s 2ms/step\n",
      "Train Mean Absolute Error: 0.5413128536150735\n",
      "Train Root Mean Squared Error: 0.6890542899522742\n",
      "-------------------------------32--------------------------\n",
      "Epoch 1/5\n",
      "127/127 [==============================] - 4s 10ms/step - loss: 0.1179 - val_loss: 0.0043\n",
      "Epoch 2/5\n",
      "127/127 [==============================] - 0s 4ms/step - loss: 0.0143 - val_loss: 0.0046\n",
      "Epoch 3/5\n",
      "127/127 [==============================] - 0s 3ms/step - loss: 0.0068 - val_loss: 0.0029\n",
      "Epoch 4/5\n",
      "127/127 [==============================] - 0s 3ms/step - loss: 0.0059 - val_loss: 0.0019\n",
      "Epoch 5/5\n",
      "127/127 [==============================] - 0s 3ms/step - loss: 0.0053 - val_loss: 0.0014\n",
      "40/40 [==============================] - 1s 2ms/step\n",
      "10/10 [==============================] - 0s 2ms/step\n",
      "Train Mean Absolute Error: 0.4383779506721008\n",
      "Train Root Mean Squared Error: 0.5656152285975191\n",
      "-------------------------------33--------------------------\n",
      "Epoch 1/5\n",
      "127/127 [==============================] - 3s 7ms/step - loss: 0.1605 - val_loss: 0.0053\n",
      "Epoch 2/5\n",
      "127/127 [==============================] - 0s 3ms/step - loss: 0.0221 - val_loss: 0.0070\n",
      "Epoch 3/5\n",
      "127/127 [==============================] - 0s 4ms/step - loss: 0.0084 - val_loss: 0.0047\n",
      "Epoch 4/5\n",
      "127/127 [==============================] - 0s 3ms/step - loss: 0.0072 - val_loss: 0.0032\n",
      "Epoch 5/5\n",
      "127/127 [==============================] - 0s 3ms/step - loss: 0.0054 - val_loss: 0.0021\n",
      "40/40 [==============================] - 0s 2ms/step\n",
      "10/10 [==============================] - 0s 2ms/step\n",
      "Train Mean Absolute Error: 0.8651037496460768\n",
      "Train Root Mean Squared Error: 1.1053229622959357\n",
      "-------------------------------34--------------------------\n",
      "Epoch 1/5\n",
      "127/127 [==============================] - 4s 10ms/step - loss: 0.1910 - val_loss: 0.0054\n",
      "Epoch 2/5\n",
      "127/127 [==============================] - 1s 4ms/step - loss: 0.0246 - val_loss: 0.0082\n",
      "Epoch 3/5\n",
      "127/127 [==============================] - 0s 4ms/step - loss: 0.0085 - val_loss: 0.0058\n",
      "Epoch 4/5\n",
      "127/127 [==============================] - 0s 3ms/step - loss: 0.0075 - val_loss: 0.0042\n",
      "Epoch 5/5\n",
      "127/127 [==============================] - 0s 3ms/step - loss: 0.0064 - val_loss: 0.0031\n",
      "40/40 [==============================] - 0s 2ms/step\n",
      "10/10 [==============================] - 0s 2ms/step\n",
      "Train Mean Absolute Error: 0.6619856002626382\n",
      "Train Root Mean Squared Error: 0.8171484592942703\n",
      "-------------------------------35--------------------------\n",
      "Epoch 1/5\n",
      "127/127 [==============================] - 4s 17ms/step - loss: 0.1602 - val_loss: 0.0053\n",
      "Epoch 2/5\n",
      "127/127 [==============================] - 0s 4ms/step - loss: 0.0204 - val_loss: 0.0063\n",
      "Epoch 3/5\n",
      "127/127 [==============================] - 0s 3ms/step - loss: 0.0080 - val_loss: 0.0042\n",
      "Epoch 4/5\n",
      "127/127 [==============================] - 0s 3ms/step - loss: 0.0063 - val_loss: 0.0030\n",
      "Epoch 5/5\n",
      "127/127 [==============================] - 0s 3ms/step - loss: 0.0060 - val_loss: 0.0020\n",
      "40/40 [==============================] - 1s 2ms/step\n",
      "10/10 [==============================] - 0s 3ms/step\n",
      "Train Mean Absolute Error: 0.8418067922370838\n",
      "Train Root Mean Squared Error: 1.0191971928513854\n",
      "-------------------------------36--------------------------\n",
      "Epoch 1/5\n",
      "127/127 [==============================] - 3s 8ms/step - loss: 0.1464 - val_loss: 0.0039\n",
      "Epoch 2/5\n",
      "127/127 [==============================] - 0s 4ms/step - loss: 0.0242 - val_loss: 0.0062\n",
      "Epoch 3/5\n",
      "127/127 [==============================] - 1s 4ms/step - loss: 0.0087 - val_loss: 0.0043\n",
      "Epoch 4/5\n",
      "127/127 [==============================] - 1s 4ms/step - loss: 0.0068 - val_loss: 0.0031\n",
      "Epoch 5/5\n",
      "127/127 [==============================] - 0s 4ms/step - loss: 0.0057 - val_loss: 0.0022\n",
      "40/40 [==============================] - 1s 2ms/step\n",
      "10/10 [==============================] - 0s 2ms/step\n",
      "Train Mean Absolute Error: 0.7878607763916042\n",
      "Train Root Mean Squared Error: 1.012145024907679\n",
      "-------------------------------37--------------------------\n",
      "Epoch 1/5\n",
      "127/127 [==============================] - 3s 7ms/step - loss: 0.1642 - val_loss: 0.0048\n",
      "Epoch 2/5\n",
      "127/127 [==============================] - 0s 4ms/step - loss: 0.0257 - val_loss: 0.0072\n",
      "Epoch 3/5\n",
      "127/127 [==============================] - 0s 4ms/step - loss: 0.0083 - val_loss: 0.0051\n",
      "Epoch 4/5\n",
      "127/127 [==============================] - 1s 5ms/step - loss: 0.0063 - val_loss: 0.0037\n",
      "Epoch 5/5\n",
      "127/127 [==============================] - 1s 6ms/step - loss: 0.0056 - val_loss: 0.0026\n",
      "40/40 [==============================] - 1s 2ms/step\n",
      "10/10 [==============================] - 0s 2ms/step\n",
      "Train Mean Absolute Error: 0.8031074702415203\n",
      "Train Root Mean Squared Error: 1.024673377631242\n",
      "-------------------------------38--------------------------\n",
      "Epoch 1/5\n",
      "127/127 [==============================] - 3s 8ms/step - loss: 0.1281 - val_loss: 0.0044\n",
      "Epoch 2/5\n",
      "127/127 [==============================] - 0s 3ms/step - loss: 0.0228 - val_loss: 0.0055\n",
      "Epoch 3/5\n",
      "127/127 [==============================] - 0s 3ms/step - loss: 0.0089 - val_loss: 0.0035\n",
      "Epoch 4/5\n",
      "127/127 [==============================] - 0s 3ms/step - loss: 0.0073 - val_loss: 0.0022\n",
      "Epoch 5/5\n",
      "127/127 [==============================] - 0s 4ms/step - loss: 0.0056 - val_loss: 0.0015\n",
      "40/40 [==============================] - 0s 2ms/step\n",
      "10/10 [==============================] - 0s 2ms/step\n",
      "Train Mean Absolute Error: 0.66443849418934\n",
      "Train Root Mean Squared Error: 0.870387950806883\n",
      "-------------------------------39--------------------------\n",
      "Epoch 1/5\n",
      "127/127 [==============================] - 3s 9ms/step - loss: 0.1298 - val_loss: 0.0045\n",
      "Epoch 2/5\n",
      "127/127 [==============================] - 1s 5ms/step - loss: 0.0161 - val_loss: 0.0050\n",
      "Epoch 3/5\n",
      "127/127 [==============================] - 1s 5ms/step - loss: 0.0071 - val_loss: 0.0034\n",
      "Epoch 4/5\n",
      "127/127 [==============================] - 1s 4ms/step - loss: 0.0061 - val_loss: 0.0023\n",
      "Epoch 5/5\n",
      "127/127 [==============================] - 1s 5ms/step - loss: 0.0055 - val_loss: 0.0016\n",
      "40/40 [==============================] - 1s 2ms/step\n",
      "10/10 [==============================] - 0s 3ms/step\n",
      "Train Mean Absolute Error: 0.5036446885836355\n",
      "Train Root Mean Squared Error: 0.6599966276229399\n",
      "-------------------------------30--------------------------\n",
      "Epoch 1/5\n",
      "125/125 [==============================] - 3s 8ms/step - loss: 0.0983 - val_loss: 0.0016\n",
      "Epoch 2/5\n",
      "125/125 [==============================] - 0s 4ms/step - loss: 0.0146 - val_loss: 0.0012\n",
      "Epoch 3/5\n",
      "125/125 [==============================] - 1s 4ms/step - loss: 0.0102 - val_loss: 9.6687e-04\n",
      "Epoch 4/5\n",
      "125/125 [==============================] - 1s 4ms/step - loss: 0.0092 - val_loss: 8.5172e-04\n",
      "Epoch 5/5\n",
      "125/125 [==============================] - 0s 4ms/step - loss: 0.0074 - val_loss: 7.6468e-04\n",
      "40/40 [==============================] - 1s 2ms/step\n",
      "10/10 [==============================] - 0s 2ms/step\n",
      "Train Mean Absolute Error: 0.7881699975254395\n",
      "Train Root Mean Squared Error: 1.0584211629439095\n",
      "-------------------------------31--------------------------\n",
      "Epoch 1/5\n",
      "125/125 [==============================] - 4s 8ms/step - loss: 0.0867 - val_loss: 0.0014\n",
      "Epoch 2/5\n",
      "125/125 [==============================] - 0s 4ms/step - loss: 0.0103 - val_loss: 9.8281e-04\n",
      "Epoch 3/5\n",
      "125/125 [==============================] - 0s 4ms/step - loss: 0.0081 - val_loss: 7.1592e-04\n",
      "Epoch 4/5\n",
      "125/125 [==============================] - 0s 4ms/step - loss: 0.0072 - val_loss: 5.7234e-04\n",
      "Epoch 5/5\n",
      "125/125 [==============================] - 0s 4ms/step - loss: 0.0064 - val_loss: 4.7216e-04\n",
      "40/40 [==============================] - 1s 2ms/step\n",
      "10/10 [==============================] - 0s 2ms/step\n",
      "Train Mean Absolute Error: 0.8831639656145363\n",
      "Train Root Mean Squared Error: 1.186720033004345\n",
      "-------------------------------32--------------------------\n",
      "Epoch 1/5\n",
      "125/125 [==============================] - 3s 8ms/step - loss: 0.1264 - val_loss: 0.0021\n",
      "Epoch 2/5\n",
      "125/125 [==============================] - 0s 4ms/step - loss: 0.0160 - val_loss: 0.0017\n",
      "Epoch 3/5\n",
      "125/125 [==============================] - 1s 4ms/step - loss: 0.0110 - val_loss: 0.0014\n",
      "Epoch 4/5\n",
      "125/125 [==============================] - 1s 5ms/step - loss: 0.0094 - val_loss: 0.0012\n",
      "Epoch 5/5\n",
      "125/125 [==============================] - 1s 5ms/step - loss: 0.0078 - val_loss: 0.0011\n",
      "40/40 [==============================] - 1s 3ms/step\n",
      "10/10 [==============================] - 0s 4ms/step\n",
      "Train Mean Absolute Error: 0.9438251342116231\n",
      "Train Root Mean Squared Error: 1.2768144034107307\n",
      "-------------------------------33--------------------------\n",
      "Epoch 1/5\n",
      "125/125 [==============================] - 3s 7ms/step - loss: 0.1148 - val_loss: 0.0019\n",
      "Epoch 2/5\n",
      "125/125 [==============================] - 0s 3ms/step - loss: 0.0117 - val_loss: 0.0019\n",
      "Epoch 3/5\n",
      "125/125 [==============================] - 0s 3ms/step - loss: 0.0085 - val_loss: 0.0016\n",
      "Epoch 4/5\n",
      "125/125 [==============================] - 0s 3ms/step - loss: 0.0078 - val_loss: 0.0013\n",
      "Epoch 5/5\n",
      "125/125 [==============================] - 0s 3ms/step - loss: 0.0068 - val_loss: 0.0011\n",
      "40/40 [==============================] - 1s 2ms/step\n",
      "10/10 [==============================] - 0s 2ms/step\n",
      "Train Mean Absolute Error: 0.6070495508210113\n",
      "Train Root Mean Squared Error: 0.8263654780314479\n",
      "-------------------------------34--------------------------\n",
      "Epoch 1/5\n",
      "125/125 [==============================] - 5s 11ms/step - loss: 0.0989 - val_loss: 0.0017\n",
      "Epoch 2/5\n",
      "125/125 [==============================] - 0s 4ms/step - loss: 0.0103 - val_loss: 0.0012\n",
      "Epoch 3/5\n",
      "125/125 [==============================] - 0s 3ms/step - loss: 0.0090 - val_loss: 0.0010\n",
      "Epoch 4/5\n",
      "125/125 [==============================] - 0s 3ms/step - loss: 0.0076 - val_loss: 8.2215e-04\n",
      "Epoch 5/5\n",
      "125/125 [==============================] - 0s 3ms/step - loss: 0.0068 - val_loss: 6.9861e-04\n",
      "40/40 [==============================] - 1s 2ms/step\n",
      "10/10 [==============================] - 0s 2ms/step\n",
      "Train Mean Absolute Error: 0.8965028648684498\n",
      "Train Root Mean Squared Error: 1.1939729834706463\n",
      "-------------------------------35--------------------------\n",
      "Epoch 1/5\n",
      "125/125 [==============================] - 3s 8ms/step - loss: 0.0595 - val_loss: 0.0011\n",
      "Epoch 2/5\n",
      "125/125 [==============================] - 0s 4ms/step - loss: 0.0080 - val_loss: 8.8636e-04\n",
      "Epoch 3/5\n",
      "125/125 [==============================] - 0s 4ms/step - loss: 0.0068 - val_loss: 7.7119e-04\n",
      "Epoch 4/5\n",
      "125/125 [==============================] - 0s 4ms/step - loss: 0.0062 - val_loss: 6.8216e-04\n",
      "Epoch 5/5\n",
      "125/125 [==============================] - 0s 4ms/step - loss: 0.0056 - val_loss: 6.1765e-04\n",
      "40/40 [==============================] - 1s 3ms/step\n",
      "10/10 [==============================] - 0s 3ms/step\n",
      "Train Mean Absolute Error: 0.577525103278367\n",
      "Train Root Mean Squared Error: 0.7950961860658564\n",
      "-------------------------------36--------------------------\n",
      "Epoch 1/5\n",
      "125/125 [==============================] - 3s 7ms/step - loss: 0.1150 - val_loss: 0.0024\n",
      "Epoch 2/5\n",
      "125/125 [==============================] - 0s 3ms/step - loss: 0.0132 - val_loss: 0.0017\n",
      "Epoch 3/5\n",
      "125/125 [==============================] - 0s 4ms/step - loss: 0.0100 - val_loss: 0.0013\n",
      "Epoch 4/5\n",
      "125/125 [==============================] - 0s 3ms/step - loss: 0.0092 - val_loss: 0.0010\n",
      "Epoch 5/5\n",
      "125/125 [==============================] - 0s 3ms/step - loss: 0.0082 - val_loss: 8.3208e-04\n",
      "40/40 [==============================] - 1s 2ms/step\n",
      "10/10 [==============================] - 0s 3ms/step\n",
      "Train Mean Absolute Error: 0.7895467863329996\n",
      "Train Root Mean Squared Error: 1.0207827319862\n",
      "-------------------------------37--------------------------\n",
      "Epoch 1/5\n",
      "125/125 [==============================] - 3s 7ms/step - loss: 0.1010 - val_loss: 0.0015\n",
      "Epoch 2/5\n",
      "125/125 [==============================] - 0s 3ms/step - loss: 0.0116 - val_loss: 0.0012\n",
      "Epoch 3/5\n",
      "125/125 [==============================] - 0s 4ms/step - loss: 0.0096 - val_loss: 0.0011\n",
      "Epoch 4/5\n",
      "125/125 [==============================] - 0s 4ms/step - loss: 0.0084 - val_loss: 9.1304e-04\n",
      "Epoch 5/5\n",
      "125/125 [==============================] - 0s 4ms/step - loss: 0.0077 - val_loss: 8.5536e-04\n",
      "40/40 [==============================] - 1s 2ms/step\n",
      "10/10 [==============================] - 0s 3ms/step\n",
      "Train Mean Absolute Error: 0.9498727164558811\n",
      "Train Root Mean Squared Error: 1.2553851618479217\n",
      "-------------------------------38--------------------------\n",
      "Epoch 1/5\n",
      "125/125 [==============================] - 5s 8ms/step - loss: 0.1124 - val_loss: 0.0020\n",
      "Epoch 2/5\n",
      "125/125 [==============================] - 0s 3ms/step - loss: 0.0118 - val_loss: 0.0016\n",
      "Epoch 3/5\n",
      "125/125 [==============================] - 0s 4ms/step - loss: 0.0092 - val_loss: 0.0014\n",
      "Epoch 4/5\n",
      "125/125 [==============================] - 0s 4ms/step - loss: 0.0084 - val_loss: 0.0012\n",
      "Epoch 5/5\n",
      "125/125 [==============================] - 0s 4ms/step - loss: 0.0067 - val_loss: 0.0010\n",
      "40/40 [==============================] - 1s 2ms/step\n",
      "10/10 [==============================] - 0s 2ms/step\n",
      "Train Mean Absolute Error: 1.009606029852216\n",
      "Train Root Mean Squared Error: 1.3276126313296852\n",
      "-------------------------------39--------------------------\n",
      "Epoch 1/5\n",
      "125/125 [==============================] - 3s 7ms/step - loss: 0.0905 - val_loss: 0.0016\n",
      "Epoch 2/5\n",
      "125/125 [==============================] - 1s 4ms/step - loss: 0.0124 - val_loss: 0.0013\n",
      "Epoch 3/5\n",
      "125/125 [==============================] - 0s 3ms/step - loss: 0.0096 - val_loss: 0.0012\n",
      "Epoch 4/5\n",
      "125/125 [==============================] - 0s 4ms/step - loss: 0.0081 - val_loss: 0.0011\n",
      "Epoch 5/5\n",
      "125/125 [==============================] - 1s 5ms/step - loss: 0.0076 - val_loss: 0.0010\n",
      "40/40 [==============================] - 1s 2ms/step\n",
      "10/10 [==============================] - 0s 2ms/step\n",
      "Train Mean Absolute Error: 1.1192299351564612\n",
      "Train Root Mean Squared Error: 1.4445714440207116\n"
     ]
    }
   ],
   "source": [
    "batch_start, batch_end = 30, 40\n",
    "look_backs = [3,10,30] \n",
    "\n",
    "\n",
    "error_look_back = {}\n",
    "for look_back in look_backs:\n",
    "  MAEs = []\n",
    "  MSEs = []\n",
    "  Y_trains = []\n",
    "  train_predicts = []\n",
    "\n",
    "  X_train, Y_train = create_dataset_lstm(train, look_back)\n",
    "  X_test, Y_test = create_dataset_lstm(test, look_back)\n",
    "  X_train = np.reshape(X_train, (X_train.shape[0], 1, X_train.shape[1]))\n",
    "  X_test = np.reshape(X_test, (X_test.shape[0], 1, X_test.shape[1]))\n",
    "  for batch in range(batch_start, batch_end):\n",
    "    print(f'-------------------------------{batch}--------------------------')\n",
    "    history = lstm_model(X_train, Y_train, X_test, Y_test, batch_size=batch)\n",
    "    tmp_Y_train, tmp_train_predict, MAE, MSE  = evaluation_model(history,X_train, X_test, Y_train, testing=True)\n",
    "    \n",
    "    MAEs.append(MAE)\n",
    "    MSEs.append(MSE)\n",
    "    Y_trains.append(tmp_Y_train)\n",
    "    train_predicts.append(tmp_train_predict)\n",
    "  error_look_back[look_back] = {\"MAE\":MAEs, \"MSE\":MSEs, \"Y_trains\": Y_trains, \"train_predicts\": train_predicts}\n",
    "\n"
   ]
  },
  {
   "cell_type": "markdown",
   "metadata": {
    "id": "_pt1fJ8IKj9A"
   },
   "source": [
    "#### Wraz ze wzrostem batch'a, pogorszaja sie na wyniki - MAE i MSE idealnie powinny rownac sie zero, wiec generalnie im mniejsze ich wartosci, tym model uwazamy za lepszy"
   ]
  },
  {
   "cell_type": "code",
   "execution_count": 55,
   "metadata": {
    "colab": {
     "base_uri": "https://localhost:8080/"
    },
    "id": "nNeu-weeMnsY",
    "outputId": "00840f30-6cdc-48dd-e15d-db68adcc0ff9"
   },
   "outputs": [
    {
     "data": {
      "text/plain": [
       "(1259, 8)"
      ]
     },
     "execution_count": 55,
     "metadata": {},
     "output_type": "execute_result"
    }
   ],
   "source": [
    "train_predict.shape"
   ]
  },
  {
   "cell_type": "code",
   "execution_count": 56,
   "metadata": {
    "colab": {
     "base_uri": "https://localhost:8080/"
    },
    "id": "G0W86g-KKj9A",
    "outputId": "2ade3e53-dd0c-428f-ec0d-7546b3717e1a"
   },
   "outputs": [
    {
     "data": {
      "text/plain": [
       "[1.5415274813643567,\n",
       " 1.5168716247114293,\n",
       " 1.1066744782601317,\n",
       " 1.1199749824929655,\n",
       " 1.4916286876329192,\n",
       " 1.6656512379648978,\n",
       " 1.087542593008921,\n",
       " 1.153516666587452,\n",
       " 1.1166178552872013,\n",
       " 1.8612757658972838]"
      ]
     },
     "execution_count": 56,
     "metadata": {},
     "output_type": "execute_result"
    }
   ],
   "source": [
    "error_look_back[3][\"MSE\"]"
   ]
  },
  {
   "cell_type": "code",
   "execution_count": 57,
   "metadata": {
    "colab": {
     "base_uri": "https://localhost:8080/"
    },
    "id": "QVFzpdz8NCvZ",
    "outputId": "87b6fc75-08bf-4476-ff03-07b5dd01f708"
   },
   "outputs": [
    {
     "name": "stdout",
     "output_type": "stream",
     "text": [
      "[0.7950961860658564, 0.8263654780314479, 1.0207827319862, 1.0584211629439095, 1.186720033004345, 1.1939729834706463, 1.2553851618479217, 1.2768144034107307, 1.3276126313296852, 1.4445714440207116]\n"
     ]
    }
   ],
   "source": [
    "MSEs.sort()\n",
    "print(MSEs)"
   ]
  },
  {
   "cell_type": "code",
   "execution_count": 58,
   "metadata": {
    "colab": {
     "base_uri": "https://localhost:8080/",
     "height": 448
    },
    "id": "IDLSfMoeSYIJ",
    "outputId": "fdf8bbae-2ad7-48d2-eb52-bc97ed889846"
   },
   "outputs": [
    {
     "data": {
      "text/plain": [
       "<Axes: >"
      ]
     },
     "execution_count": 58,
     "metadata": {},
     "output_type": "execute_result"
    },
    {
     "data": {
      "image/png": "[encoded data removed]",
      "text/plain": [
       "<Figure size 640x480 with 1 Axes>"
      ]
     },
     "metadata": {},
     "output_type": "display_data"
    }
   ],
   "source": [
    "look_back_to_check = 3\n",
    "sns.lineplot(x=[a for a in range(batch_start, batch_end)], y=error_look_back[look_back_to_check][\"MSE\"])\n",
    "sns.lineplot(x=[a for a in range(batch_start, batch_end)], y=error_look_back[look_back_to_check][\"MAE\"])"
   ]
  },
  {
   "cell_type": "code",
   "execution_count": 59,
   "metadata": {
    "colab": {
     "base_uri": "https://localhost:8080/",
     "height": 451
    },
    "id": "FKkdbS5adpp3",
    "outputId": "37ff3736-eeee-401f-ac64-f04985be2f7b"
   },
   "outputs": [
    {
     "data": {
      "image/png": "[encoded data removed]",
      "text/plain": [
       "<Figure size 800x400 with 1 Axes>"
      ]
     },
     "metadata": {},
     "output_type": "display_data"
    }
   ],
   "source": [
    "batch_index = 6 \n",
    "look_back_to_check = 3\n",
    "visualization(Y_train = error_look_back[look_back_to_check][\"Y_trains\"][batch_index], train_predict = error_look_back[look_back_to_check][\"train_predicts\"][batch_index])"
   ]
  },
  {
   "cell_type": "code",
   "execution_count": 60,
   "metadata": {
    "colab": {
     "base_uri": "https://localhost:8080/"
    },
    "id": "fC3jQGyaeOHF",
    "outputId": "1b3d42ba-ea02-4be4-bf65-374095f91cb7"
   },
   "outputs": [
    {
     "data": {
      "text/plain": [
       "array([[14.98600004, 14.78900002, 14.57200023, ...,  1.73499999,\n",
       "         1.73000005,  1.78      ]])"
      ]
     },
     "execution_count": 60,
     "metadata": {},
     "output_type": "execute_result"
    }
   ],
   "source": [
    "error_look_back[3][\"Y_trains\"][0]"
   ]
  }
 ],
 "metadata": {
  "colab": {
   "provenance": []
  },
  "kernelspec": {
   "display_name": "Python 3 (ipykernel)",
   "language": "python",
   "name": "python3"
  },
  "language_info": {
   "codemirror_mode": {
    "name": "ipython",
    "version": 3
   },
   "file_extension": ".py",
   "mimetype": "text/x-python",
   "name": "python",
   "nbconvert_exporter": "python",
   "pygments_lexer": "ipython3",
   "version": "3.9.7"
  },
  "widgets": {
   "application/vnd.jupyter.widget-state+json": {
    "8f0f58fdbb3c4499b45beed592e855f5": {
     "model_module": "@jupyter-widgets/controls",
     "model_module_version": "1.5.0",
     "model_name": "VBoxModel",
     "state": {
      "_dom_classes": [
       "widget-interact"
      ],
      "_model_module": "@jupyter-widgets/controls",
      "_model_module_version": "1.5.0",
      "_model_name": "VBoxModel",
      "_view_count": null,
      "_view_module": "@jupyter-widgets/controls",
      "_view_module_version": "1.5.0",
      "_view_name": "VBoxView",
      "box_style": "",
      "children": [
       "IPY_MODEL_cea060455b2f4bc2a74a94b2f73fc273",
       "IPY_MODEL_c34668348799495b8704bf3311484dcd",
       "IPY_MODEL_d4a49f35cbd64d2584072dd0cab1ac6a"
      ],
      "layout": "IPY_MODEL_bbb718c58bc743a69d390d76762e0c68"
     }
    },
    "8fe9da53b08f41cc8ae9f11b8d5a1077": {
     "model_module": "@jupyter-widgets/controls",
     "model_module_version": "1.5.0",
     "model_name": "SliderStyleModel",
     "state": {
      "_model_module": "@jupyter-widgets/controls",
      "_model_module_version": "1.5.0",
      "_model_name": "SliderStyleModel",
      "_view_count": null,
      "_view_module": "@jupyter-widgets/base",
      "_view_module_version": "1.2.0",
      "_view_name": "StyleView",
      "description_width": "",
      "handle_color": null
     }
    },
    "ad8391bb0fe94cffa012bd8eacf2f0f2": {
     "model_module": "@jupyter-widgets/base",
     "model_module_version": "1.2.0",
     "model_name": "LayoutModel",
     "state": {
      "_model_module": "@jupyter-widgets/base",
      "_model_module_version": "1.2.0",
      "_model_name": "LayoutModel",
      "_view_count": null,
      "_view_module": "@jupyter-widgets/base",
      "_view_module_version": "1.2.0",
      "_view_name": "LayoutView",
      "align_content": null,
      "align_items": null,
      "align_self": null,
      "border": null,
      "bottom": null,
      "display": null,
      "flex": null,
      "flex_flow": null,
      "grid_area": null,
      "grid_auto_columns": null,
      "grid_auto_flow": null,
      "grid_auto_rows": null,
      "grid_column": null,
      "grid_gap": null,
      "grid_row": null,
      "grid_template_areas": null,
      "grid_template_columns": null,
      "grid_template_rows": null,
      "height": null,
      "justify_content": null,
      "justify_items": null,
      "left": null,
      "margin": null,
      "max_height": null,
      "max_width": null,
      "min_height": null,
      "min_width": null,
      "object_fit": null,
      "object_position": null,
      "order": null,
      "overflow": null,
      "overflow_x": null,
      "overflow_y": null,
      "padding": null,
      "right": null,
      "top": null,
      "visibility": null,
      "width": null
     }
    },
    "bbb718c58bc743a69d390d76762e0c68": {
     "model_module": "@jupyter-widgets/base",
     "model_module_version": "1.2.0",
     "model_name": "LayoutModel",
     "state": {
      "_model_module": "@jupyter-widgets/base",
      "_model_module_version": "1.2.0",
      "_model_name": "LayoutModel",
      "_view_count": null,
      "_view_module": "@jupyter-widgets/base",
      "_view_module_version": "1.2.0",
      "_view_name": "LayoutView",
      "align_content": null,
      "align_items": null,
      "align_self": null,
      "border": null,
      "bottom": null,
      "display": null,
      "flex": null,
      "flex_flow": null,
      "grid_area": null,
      "grid_auto_columns": null,
      "grid_auto_flow": null,
      "grid_auto_rows": null,
      "grid_column": null,
      "grid_gap": null,
      "grid_row": null,
      "grid_template_areas": null,
      "grid_template_columns": null,
      "grid_template_rows": null,
      "height": null,
      "justify_content": null,
      "justify_items": null,
      "left": null,
      "margin": null,
      "max_height": null,
      "max_width": null,
      "min_height": null,
      "min_width": null,
      "object_fit": null,
      "object_position": null,
      "order": null,
      "overflow": null,
      "overflow_x": null,
      "overflow_y": null,
      "padding": null,
      "right": null,
      "top": null,
      "visibility": null,
      "width": null
     }
    },
    "c34668348799495b8704bf3311484dcd": {
     "model_module": "@jupyter-widgets/controls",
     "model_module_version": "1.5.0",
     "model_name": "ButtonModel",
     "state": {
      "_dom_classes": [],
      "_model_module": "@jupyter-widgets/controls",
      "_model_module_version": "1.5.0",
      "_model_name": "ButtonModel",
      "_view_count": null,
      "_view_module": "@jupyter-widgets/controls",
      "_view_module_version": "1.5.0",
      "_view_name": "ButtonView",
      "button_style": "",
      "description": "Run Interact",
      "disabled": false,
      "icon": "",
      "layout": "IPY_MODEL_c5acbae482164b8d93e469845c279f01",
      "style": "IPY_MODEL_ccc73acdcb7f407cb7fa2a92bd9f78ff",
      "tooltip": ""
     }
    },
    "c5acbae482164b8d93e469845c279f01": {
     "model_module": "@jupyter-widgets/base",
     "model_module_version": "1.2.0",
     "model_name": "LayoutModel",
     "state": {
      "_model_module": "@jupyter-widgets/base",
      "_model_module_version": "1.2.0",
      "_model_name": "LayoutModel",
      "_view_count": null,
      "_view_module": "@jupyter-widgets/base",
      "_view_module_version": "1.2.0",
      "_view_name": "LayoutView",
      "align_content": null,
      "align_items": null,
      "align_self": null,
      "border": null,
      "bottom": null,
      "display": null,
      "flex": null,
      "flex_flow": null,
      "grid_area": null,
      "grid_auto_columns": null,
      "grid_auto_flow": null,
      "grid_auto_rows": null,
      "grid_column": null,
      "grid_gap": null,
      "grid_row": null,
      "grid_template_areas": null,
      "grid_template_columns": null,
      "grid_template_rows": null,
      "height": null,
      "justify_content": null,
      "justify_items": null,
      "left": null,
      "margin": null,
      "max_height": null,
      "max_width": null,
      "min_height": null,
      "min_width": null,
      "object_fit": null,
      "object_position": null,
      "order": null,
      "overflow": null,
      "overflow_x": null,
      "overflow_y": null,
      "padding": null,
      "right": null,
      "top": null,
      "visibility": null,
      "width": null
     }
    },
    "ccc73acdcb7f407cb7fa2a92bd9f78ff": {
     "model_module": "@jupyter-widgets/controls",
     "model_module_version": "1.5.0",
     "model_name": "ButtonStyleModel",
     "state": {
      "_model_module": "@jupyter-widgets/controls",
      "_model_module_version": "1.5.0",
      "_model_name": "ButtonStyleModel",
      "_view_count": null,
      "_view_module": "@jupyter-widgets/base",
      "_view_module_version": "1.2.0",
      "_view_name": "StyleView",
      "button_color": null,
      "font_weight": ""
     }
    },
    "cea060455b2f4bc2a74a94b2f73fc273": {
     "model_module": "@jupyter-widgets/controls",
     "model_module_version": "1.5.0",
     "model_name": "IntSliderModel",
     "state": {
      "_dom_classes": [],
      "_model_module": "@jupyter-widgets/controls",
      "_model_module_version": "1.5.0",
      "_model_name": "IntSliderModel",
      "_view_count": null,
      "_view_module": "@jupyter-widgets/controls",
      "_view_module_version": "1.5.0",
      "_view_name": "IntSliderView",
      "continuous_update": true,
      "description": "lw",
      "description_tooltip": null,
      "disabled": false,
      "layout": "IPY_MODEL_e7634fa1193446529af5016bed2e524c",
      "max": 100,
      "min": 1,
      "orientation": "horizontal",
      "readout": true,
      "readout_format": "d",
      "step": 1,
      "style": "IPY_MODEL_8fe9da53b08f41cc8ae9f11b8d5a1077",
      "value": 50
     }
    },
    "d4a49f35cbd64d2584072dd0cab1ac6a": {
     "model_module": "@jupyter-widgets/output",
     "model_module_version": "1.0.0",
     "model_name": "OutputModel",
     "state": {
      "_dom_classes": [],
      "_model_module": "@jupyter-widgets/output",
      "_model_module_version": "1.0.0",
      "_model_name": "OutputModel",
      "_view_count": null,
      "_view_module": "@jupyter-widgets/output",
      "_view_module_version": "1.0.0",
      "_view_name": "OutputView",
      "layout": "IPY_MODEL_ad8391bb0fe94cffa012bd8eacf2f0f2",
      "msg_id": "",
      "outputs": []
     }
    },
    "e7634fa1193446529af5016bed2e524c": {
     "model_module": "@jupyter-widgets/base",
     "model_module_version": "1.2.0",
     "model_name": "LayoutModel",
     "state": {
      "_model_module": "@jupyter-widgets/base",
      "_model_module_version": "1.2.0",
      "_model_name": "LayoutModel",
      "_view_count": null,
      "_view_module": "@jupyter-widgets/base",
      "_view_module_version": "1.2.0",
      "_view_name": "LayoutView",
      "align_content": null,
      "align_items": null,
      "align_self": null,
      "border": null,
      "bottom": null,
      "display": null,
      "flex": null,
      "flex_flow": null,
      "grid_area": null,
      "grid_auto_columns": null,
      "grid_auto_flow": null,
      "grid_auto_rows": null,
      "grid_column": null,
      "grid_gap": null,
      "grid_row": null,
      "grid_template_areas": null,
      "grid_template_columns": null,
      "grid_template_rows": null,
      "height": null,
      "justify_content": null,
      "justify_items": null,
      "left": null,
      "margin": null,
      "max_height": null,
      "max_width": null,
      "min_height": null,
      "min_width": null,
      "object_fit": null,
      "object_position": null,
      "order": null,
      "overflow": null,
      "overflow_x": null,
      "overflow_y": null,
      "padding": null,
      "right": null,
      "top": null,
      "visibility": null,
      "width": null
     }
    }
   }
  }
 },
 "nbformat": 4,
 "nbformat_minor": 1
}
