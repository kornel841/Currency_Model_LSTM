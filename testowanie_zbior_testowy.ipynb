{
  "cells": [
    {
      "cell_type": "markdown",
      "metadata": {
        "pycharm": {
          "name": "#%% md\n"
        },
        "id": "ohfO944aKvO-"
      },
      "source": [
        "### Instalacja potrzebnych bibliotek"
      ]
    },
    {
      "cell_type": "code",
      "execution_count": 1,
      "metadata": {
        "id": "5MHCQeDAUd3X",
        "pycharm": {
          "name": "#%%\n"
        },
        "scrolled": true,
        "colab": {
          "base_uri": "https://localhost:8080/"
        },
        "outputId": "c942571d-60b5-4738-f895-d53f176a0467"
      },
      "outputs": [
        {
          "output_type": "stream",
          "name": "stdout",
          "text": [
            "Looking in indexes: https://pypi.org/simple, https://us-python.pkg.dev/colab-wheels/public/simple/\n",
            "Requirement already satisfied: ipywidgets in /usr/local/lib/python3.10/dist-packages (7.7.1)\n",
            "Requirement already satisfied: ipykernel>=4.5.1 in /usr/local/lib/python3.10/dist-packages (from ipywidgets) (5.5.6)\n",
            "Requirement already satisfied: ipython-genutils~=0.2.0 in /usr/local/lib/python3.10/dist-packages (from ipywidgets) (0.2.0)\n",
            "Requirement already satisfied: traitlets>=4.3.1 in /usr/local/lib/python3.10/dist-packages (from ipywidgets) (5.7.1)\n",
            "Requirement already satisfied: widgetsnbextension~=3.6.0 in /usr/local/lib/python3.10/dist-packages (from ipywidgets) (3.6.4)\n",
            "Requirement already satisfied: ipython>=4.0.0 in /usr/local/lib/python3.10/dist-packages (from ipywidgets) (7.34.0)\n",
            "Requirement already satisfied: jupyterlab-widgets>=1.0.0 in /usr/local/lib/python3.10/dist-packages (from ipywidgets) (3.0.7)\n",
            "Requirement already satisfied: jupyter-client in /usr/local/lib/python3.10/dist-packages (from ipykernel>=4.5.1->ipywidgets) (6.1.12)\n",
            "Requirement already satisfied: tornado>=4.2 in /usr/local/lib/python3.10/dist-packages (from ipykernel>=4.5.1->ipywidgets) (6.2)\n",
            "Requirement already satisfied: setuptools>=18.5 in /usr/local/lib/python3.10/dist-packages (from ipython>=4.0.0->ipywidgets) (67.7.2)\n",
            "Collecting jedi>=0.16 (from ipython>=4.0.0->ipywidgets)\n",
            "  Downloading jedi-0.18.2-py2.py3-none-any.whl (1.6 MB)\n",
            "\u001b[2K     \u001b[90m━━━━━━━━━━━━━━━━━━━━━━━━━━━━━━━━━━━━━━━━\u001b[0m \u001b[32m1.6/1.6 MB\u001b[0m \u001b[31m19.9 MB/s\u001b[0m eta \u001b[36m0:00:00\u001b[0m\n",
            "\u001b[?25hRequirement already satisfied: decorator in /usr/local/lib/python3.10/dist-packages (from ipython>=4.0.0->ipywidgets) (4.4.2)\n",
            "Requirement already satisfied: pickleshare in /usr/local/lib/python3.10/dist-packages (from ipython>=4.0.0->ipywidgets) (0.7.5)\n",
            "Requirement already satisfied: prompt-toolkit!=3.0.0,!=3.0.1,<3.1.0,>=2.0.0 in /usr/local/lib/python3.10/dist-packages (from ipython>=4.0.0->ipywidgets) (3.0.38)\n",
            "Requirement already satisfied: pygments in /usr/local/lib/python3.10/dist-packages (from ipython>=4.0.0->ipywidgets) (2.14.0)\n",
            "Requirement already satisfied: backcall in /usr/local/lib/python3.10/dist-packages (from ipython>=4.0.0->ipywidgets) (0.2.0)\n",
            "Requirement already satisfied: matplotlib-inline in /usr/local/lib/python3.10/dist-packages (from ipython>=4.0.0->ipywidgets) (0.1.6)\n",
            "Requirement already satisfied: pexpect>4.3 in /usr/local/lib/python3.10/dist-packages (from ipython>=4.0.0->ipywidgets) (4.8.0)\n",
            "Requirement already satisfied: notebook>=4.4.1 in /usr/local/lib/python3.10/dist-packages (from widgetsnbextension~=3.6.0->ipywidgets) (6.4.8)\n",
            "Requirement already satisfied: parso<0.9.0,>=0.8.0 in /usr/local/lib/python3.10/dist-packages (from jedi>=0.16->ipython>=4.0.0->ipywidgets) (0.8.3)\n",
            "Requirement already satisfied: jinja2 in /usr/local/lib/python3.10/dist-packages (from notebook>=4.4.1->widgetsnbextension~=3.6.0->ipywidgets) (3.1.2)\n",
            "Requirement already satisfied: pyzmq>=17 in /usr/local/lib/python3.10/dist-packages (from notebook>=4.4.1->widgetsnbextension~=3.6.0->ipywidgets) (23.2.1)\n",
            "Requirement already satisfied: argon2-cffi in /usr/local/lib/python3.10/dist-packages (from notebook>=4.4.1->widgetsnbextension~=3.6.0->ipywidgets) (21.3.0)\n",
            "Requirement already satisfied: jupyter-core>=4.6.1 in /usr/local/lib/python3.10/dist-packages (from notebook>=4.4.1->widgetsnbextension~=3.6.0->ipywidgets) (5.3.0)\n",
            "Requirement already satisfied: nbformat in /usr/local/lib/python3.10/dist-packages (from notebook>=4.4.1->widgetsnbextension~=3.6.0->ipywidgets) (5.8.0)\n",
            "Requirement already satisfied: nbconvert in /usr/local/lib/python3.10/dist-packages (from notebook>=4.4.1->widgetsnbextension~=3.6.0->ipywidgets) (6.5.4)\n",
            "Requirement already satisfied: nest-asyncio>=1.5 in /usr/local/lib/python3.10/dist-packages (from notebook>=4.4.1->widgetsnbextension~=3.6.0->ipywidgets) (1.5.6)\n",
            "Requirement already satisfied: Send2Trash>=1.8.0 in /usr/local/lib/python3.10/dist-packages (from notebook>=4.4.1->widgetsnbextension~=3.6.0->ipywidgets) (1.8.0)\n",
            "Requirement already satisfied: terminado>=0.8.3 in /usr/local/lib/python3.10/dist-packages (from notebook>=4.4.1->widgetsnbextension~=3.6.0->ipywidgets) (0.17.1)\n",
            "Requirement already satisfied: prometheus-client in /usr/local/lib/python3.10/dist-packages (from notebook>=4.4.1->widgetsnbextension~=3.6.0->ipywidgets) (0.16.0)\n",
            "Requirement already satisfied: python-dateutil>=2.1 in /usr/local/lib/python3.10/dist-packages (from jupyter-client->ipykernel>=4.5.1->ipywidgets) (2.8.2)\n",
            "Requirement already satisfied: ptyprocess>=0.5 in /usr/local/lib/python3.10/dist-packages (from pexpect>4.3->ipython>=4.0.0->ipywidgets) (0.7.0)\n",
            "Requirement already satisfied: wcwidth in /usr/local/lib/python3.10/dist-packages (from prompt-toolkit!=3.0.0,!=3.0.1,<3.1.0,>=2.0.0->ipython>=4.0.0->ipywidgets) (0.2.6)\n",
            "Requirement already satisfied: platformdirs>=2.5 in /usr/local/lib/python3.10/dist-packages (from jupyter-core>=4.6.1->notebook>=4.4.1->widgetsnbextension~=3.6.0->ipywidgets) (3.3.0)\n",
            "Requirement already satisfied: six>=1.5 in /usr/local/lib/python3.10/dist-packages (from python-dateutil>=2.1->jupyter-client->ipykernel>=4.5.1->ipywidgets) (1.16.0)\n",
            "Requirement already satisfied: argon2-cffi-bindings in /usr/local/lib/python3.10/dist-packages (from argon2-cffi->notebook>=4.4.1->widgetsnbextension~=3.6.0->ipywidgets) (21.2.0)\n",
            "Requirement already satisfied: MarkupSafe>=2.0 in /usr/local/lib/python3.10/dist-packages (from jinja2->notebook>=4.4.1->widgetsnbextension~=3.6.0->ipywidgets) (2.1.2)\n",
            "Requirement already satisfied: lxml in /usr/local/lib/python3.10/dist-packages (from nbconvert->notebook>=4.4.1->widgetsnbextension~=3.6.0->ipywidgets) (4.9.2)\n",
            "Requirement already satisfied: beautifulsoup4 in /usr/local/lib/python3.10/dist-packages (from nbconvert->notebook>=4.4.1->widgetsnbextension~=3.6.0->ipywidgets) (4.11.2)\n",
            "Requirement already satisfied: bleach in /usr/local/lib/python3.10/dist-packages (from nbconvert->notebook>=4.4.1->widgetsnbextension~=3.6.0->ipywidgets) (6.0.0)\n",
            "Requirement already satisfied: defusedxml in /usr/local/lib/python3.10/dist-packages (from nbconvert->notebook>=4.4.1->widgetsnbextension~=3.6.0->ipywidgets) (0.7.1)\n",
            "Requirement already satisfied: entrypoints>=0.2.2 in /usr/local/lib/python3.10/dist-packages (from nbconvert->notebook>=4.4.1->widgetsnbextension~=3.6.0->ipywidgets) (0.4)\n",
            "Requirement already satisfied: jupyterlab-pygments in /usr/local/lib/python3.10/dist-packages (from nbconvert->notebook>=4.4.1->widgetsnbextension~=3.6.0->ipywidgets) (0.2.2)\n",
            "Requirement already satisfied: mistune<2,>=0.8.1 in /usr/local/lib/python3.10/dist-packages (from nbconvert->notebook>=4.4.1->widgetsnbextension~=3.6.0->ipywidgets) (0.8.4)\n",
            "Requirement already satisfied: nbclient>=0.5.0 in /usr/local/lib/python3.10/dist-packages (from nbconvert->notebook>=4.4.1->widgetsnbextension~=3.6.0->ipywidgets) (0.7.4)\n",
            "Requirement already satisfied: packaging in /usr/local/lib/python3.10/dist-packages (from nbconvert->notebook>=4.4.1->widgetsnbextension~=3.6.0->ipywidgets) (23.1)\n",
            "Requirement already satisfied: pandocfilters>=1.4.1 in /usr/local/lib/python3.10/dist-packages (from nbconvert->notebook>=4.4.1->widgetsnbextension~=3.6.0->ipywidgets) (1.5.0)\n",
            "Requirement already satisfied: tinycss2 in /usr/local/lib/python3.10/dist-packages (from nbconvert->notebook>=4.4.1->widgetsnbextension~=3.6.0->ipywidgets) (1.2.1)\n",
            "Requirement already satisfied: fastjsonschema in /usr/local/lib/python3.10/dist-packages (from nbformat->notebook>=4.4.1->widgetsnbextension~=3.6.0->ipywidgets) (2.16.3)\n",
            "Requirement already satisfied: jsonschema>=2.6 in /usr/local/lib/python3.10/dist-packages (from nbformat->notebook>=4.4.1->widgetsnbextension~=3.6.0->ipywidgets) (4.3.3)\n",
            "Requirement already satisfied: attrs>=17.4.0 in /usr/local/lib/python3.10/dist-packages (from jsonschema>=2.6->nbformat->notebook>=4.4.1->widgetsnbextension~=3.6.0->ipywidgets) (23.1.0)\n",
            "Requirement already satisfied: pyrsistent!=0.17.0,!=0.17.1,!=0.17.2,>=0.14.0 in /usr/local/lib/python3.10/dist-packages (from jsonschema>=2.6->nbformat->notebook>=4.4.1->widgetsnbextension~=3.6.0->ipywidgets) (0.19.3)\n",
            "Requirement already satisfied: cffi>=1.0.1 in /usr/local/lib/python3.10/dist-packages (from argon2-cffi-bindings->argon2-cffi->notebook>=4.4.1->widgetsnbextension~=3.6.0->ipywidgets) (1.15.1)\n",
            "Requirement already satisfied: soupsieve>1.2 in /usr/local/lib/python3.10/dist-packages (from beautifulsoup4->nbconvert->notebook>=4.4.1->widgetsnbextension~=3.6.0->ipywidgets) (2.4.1)\n",
            "Requirement already satisfied: webencodings in /usr/local/lib/python3.10/dist-packages (from bleach->nbconvert->notebook>=4.4.1->widgetsnbextension~=3.6.0->ipywidgets) (0.5.1)\n",
            "Requirement already satisfied: pycparser in /usr/local/lib/python3.10/dist-packages (from cffi>=1.0.1->argon2-cffi-bindings->argon2-cffi->notebook>=4.4.1->widgetsnbextension~=3.6.0->ipywidgets) (2.21)\n",
            "Installing collected packages: jedi\n",
            "Successfully installed jedi-0.18.2\n"
          ]
        }
      ],
      "source": [
        "pip install ipywidgets # interaktywne widżety HTML dla notebooków Jupyter i jądra IPython"
      ]
    },
    {
      "cell_type": "code",
      "execution_count": 2,
      "metadata": {
        "pycharm": {
          "name": "#%%\n"
        },
        "colab": {
          "base_uri": "https://localhost:8080/"
        },
        "id": "OalVQLjgKvPK",
        "outputId": "5b0c3a44-b8fc-4f80-c17a-2a6d119f85f9"
      },
      "outputs": [
        {
          "output_type": "stream",
          "name": "stdout",
          "text": [
            "Looking in indexes: https://pypi.org/simple, https://us-python.pkg.dev/colab-wheels/public/simple/\n",
            "Requirement already satisfied: keras in /usr/local/lib/python3.10/dist-packages (2.12.0)\n"
          ]
        }
      ],
      "source": [
        "pip install keras "
      ]
    },
    {
      "cell_type": "code",
      "execution_count": 3,
      "metadata": {
        "pycharm": {
          "name": "#%%\n"
        },
        "colab": {
          "base_uri": "https://localhost:8080/"
        },
        "id": "JZC4xA0qKvPL",
        "outputId": "a20f5d93-0be1-48b6-ab81-a3ba4be87e6a"
      },
      "outputs": [
        {
          "output_type": "stream",
          "name": "stdout",
          "text": [
            "Looking in indexes: https://pypi.org/simple, https://us-python.pkg.dev/colab-wheels/public/simple/\n",
            "Requirement already satisfied: tensorflow in /usr/local/lib/python3.10/dist-packages (2.12.0)\n",
            "Requirement already satisfied: absl-py>=1.0.0 in /usr/local/lib/python3.10/dist-packages (from tensorflow) (1.4.0)\n",
            "Requirement already satisfied: astunparse>=1.6.0 in /usr/local/lib/python3.10/dist-packages (from tensorflow) (1.6.3)\n",
            "Requirement already satisfied: flatbuffers>=2.0 in /usr/local/lib/python3.10/dist-packages (from tensorflow) (23.3.3)\n",
            "Requirement already satisfied: gast<=0.4.0,>=0.2.1 in /usr/local/lib/python3.10/dist-packages (from tensorflow) (0.4.0)\n",
            "Requirement already satisfied: google-pasta>=0.1.1 in /usr/local/lib/python3.10/dist-packages (from tensorflow) (0.2.0)\n",
            "Requirement already satisfied: grpcio<2.0,>=1.24.3 in /usr/local/lib/python3.10/dist-packages (from tensorflow) (1.54.0)\n",
            "Requirement already satisfied: h5py>=2.9.0 in /usr/local/lib/python3.10/dist-packages (from tensorflow) (3.8.0)\n",
            "Requirement already satisfied: jax>=0.3.15 in /usr/local/lib/python3.10/dist-packages (from tensorflow) (0.4.8)\n",
            "Requirement already satisfied: keras<2.13,>=2.12.0 in /usr/local/lib/python3.10/dist-packages (from tensorflow) (2.12.0)\n",
            "Requirement already satisfied: libclang>=13.0.0 in /usr/local/lib/python3.10/dist-packages (from tensorflow) (16.0.0)\n",
            "Requirement already satisfied: numpy<1.24,>=1.22 in /usr/local/lib/python3.10/dist-packages (from tensorflow) (1.22.4)\n",
            "Requirement already satisfied: opt-einsum>=2.3.2 in /usr/local/lib/python3.10/dist-packages (from tensorflow) (3.3.0)\n",
            "Requirement already satisfied: packaging in /usr/local/lib/python3.10/dist-packages (from tensorflow) (23.1)\n",
            "Requirement already satisfied: protobuf!=4.21.0,!=4.21.1,!=4.21.2,!=4.21.3,!=4.21.4,!=4.21.5,<5.0.0dev,>=3.20.3 in /usr/local/lib/python3.10/dist-packages (from tensorflow) (3.20.3)\n",
            "Requirement already satisfied: setuptools in /usr/local/lib/python3.10/dist-packages (from tensorflow) (67.7.2)\n",
            "Requirement already satisfied: six>=1.12.0 in /usr/local/lib/python3.10/dist-packages (from tensorflow) (1.16.0)\n",
            "Requirement already satisfied: tensorboard<2.13,>=2.12 in /usr/local/lib/python3.10/dist-packages (from tensorflow) (2.12.2)\n",
            "Requirement already satisfied: tensorflow-estimator<2.13,>=2.12.0 in /usr/local/lib/python3.10/dist-packages (from tensorflow) (2.12.0)\n",
            "Requirement already satisfied: termcolor>=1.1.0 in /usr/local/lib/python3.10/dist-packages (from tensorflow) (2.3.0)\n",
            "Requirement already satisfied: typing-extensions>=3.6.6 in /usr/local/lib/python3.10/dist-packages (from tensorflow) (4.5.0)\n",
            "Requirement already satisfied: wrapt<1.15,>=1.11.0 in /usr/local/lib/python3.10/dist-packages (from tensorflow) (1.14.1)\n",
            "Requirement already satisfied: tensorflow-io-gcs-filesystem>=0.23.1 in /usr/local/lib/python3.10/dist-packages (from tensorflow) (0.32.0)\n",
            "Requirement already satisfied: wheel<1.0,>=0.23.0 in /usr/local/lib/python3.10/dist-packages (from astunparse>=1.6.0->tensorflow) (0.40.0)\n",
            "Requirement already satisfied: ml-dtypes>=0.0.3 in /usr/local/lib/python3.10/dist-packages (from jax>=0.3.15->tensorflow) (0.1.0)\n",
            "Requirement already satisfied: scipy>=1.7 in /usr/local/lib/python3.10/dist-packages (from jax>=0.3.15->tensorflow) (1.10.1)\n",
            "Requirement already satisfied: google-auth<3,>=1.6.3 in /usr/local/lib/python3.10/dist-packages (from tensorboard<2.13,>=2.12->tensorflow) (2.17.3)\n",
            "Requirement already satisfied: google-auth-oauthlib<1.1,>=0.5 in /usr/local/lib/python3.10/dist-packages (from tensorboard<2.13,>=2.12->tensorflow) (1.0.0)\n",
            "Requirement already satisfied: markdown>=2.6.8 in /usr/local/lib/python3.10/dist-packages (from tensorboard<2.13,>=2.12->tensorflow) (3.4.3)\n",
            "Requirement already satisfied: requests<3,>=2.21.0 in /usr/local/lib/python3.10/dist-packages (from tensorboard<2.13,>=2.12->tensorflow) (2.27.1)\n",
            "Requirement already satisfied: tensorboard-data-server<0.8.0,>=0.7.0 in /usr/local/lib/python3.10/dist-packages (from tensorboard<2.13,>=2.12->tensorflow) (0.7.0)\n",
            "Requirement already satisfied: tensorboard-plugin-wit>=1.6.0 in /usr/local/lib/python3.10/dist-packages (from tensorboard<2.13,>=2.12->tensorflow) (1.8.1)\n",
            "Requirement already satisfied: werkzeug>=1.0.1 in /usr/local/lib/python3.10/dist-packages (from tensorboard<2.13,>=2.12->tensorflow) (2.3.0)\n",
            "Requirement already satisfied: cachetools<6.0,>=2.0.0 in /usr/local/lib/python3.10/dist-packages (from google-auth<3,>=1.6.3->tensorboard<2.13,>=2.12->tensorflow) (5.3.0)\n",
            "Requirement already satisfied: pyasn1-modules>=0.2.1 in /usr/local/lib/python3.10/dist-packages (from google-auth<3,>=1.6.3->tensorboard<2.13,>=2.12->tensorflow) (0.3.0)\n",
            "Requirement already satisfied: rsa<5,>=3.1.4 in /usr/local/lib/python3.10/dist-packages (from google-auth<3,>=1.6.3->tensorboard<2.13,>=2.12->tensorflow) (4.9)\n",
            "Requirement already satisfied: requests-oauthlib>=0.7.0 in /usr/local/lib/python3.10/dist-packages (from google-auth-oauthlib<1.1,>=0.5->tensorboard<2.13,>=2.12->tensorflow) (1.3.1)\n",
            "Requirement already satisfied: urllib3<1.27,>=1.21.1 in /usr/local/lib/python3.10/dist-packages (from requests<3,>=2.21.0->tensorboard<2.13,>=2.12->tensorflow) (1.26.15)\n",
            "Requirement already satisfied: certifi>=2017.4.17 in /usr/local/lib/python3.10/dist-packages (from requests<3,>=2.21.0->tensorboard<2.13,>=2.12->tensorflow) (2022.12.7)\n",
            "Requirement already satisfied: charset-normalizer~=2.0.0 in /usr/local/lib/python3.10/dist-packages (from requests<3,>=2.21.0->tensorboard<2.13,>=2.12->tensorflow) (2.0.12)\n",
            "Requirement already satisfied: idna<4,>=2.5 in /usr/local/lib/python3.10/dist-packages (from requests<3,>=2.21.0->tensorboard<2.13,>=2.12->tensorflow) (3.4)\n",
            "Requirement already satisfied: MarkupSafe>=2.1.1 in /usr/local/lib/python3.10/dist-packages (from werkzeug>=1.0.1->tensorboard<2.13,>=2.12->tensorflow) (2.1.2)\n",
            "Requirement already satisfied: pyasn1<0.6.0,>=0.4.6 in /usr/local/lib/python3.10/dist-packages (from pyasn1-modules>=0.2.1->google-auth<3,>=1.6.3->tensorboard<2.13,>=2.12->tensorflow) (0.5.0)\n",
            "Requirement already satisfied: oauthlib>=3.0.0 in /usr/local/lib/python3.10/dist-packages (from requests-oauthlib>=0.7.0->google-auth-oauthlib<1.1,>=0.5->tensorboard<2.13,>=2.12->tensorflow) (3.2.2)\n"
          ]
        }
      ],
      "source": [
        "pip install tensorflow"
      ]
    },
    {
      "cell_type": "markdown",
      "metadata": {
        "pycharm": {
          "name": "#%% md\n"
        },
        "id": "a5dS8QUEKvPM"
      },
      "source": [
        "### Importowanie wymaganych bibliotek"
      ]
    },
    {
      "cell_type": "code",
      "execution_count": 33,
      "metadata": {
        "id": "z4nn0PkVUlJp",
        "pycharm": {
          "name": "#%%\n"
        }
      },
      "outputs": [],
      "source": [
        "import tensorflow as tf \n",
        "from tensorflow import keras\n",
        "from tensorflow.keras.layers import Dense # głęboko połączona warstwa przekazująca neurony dalej (batch, size)\n",
        "from tensorflow.keras.layers import Flatten # \"spłaszcza\" dane wejściowe, przekształca w 1wymiarową tablicę; nie wpływa na wielkość partii\n",
        "from tensorflow.keras.layers import Input\n",
        "from tensorflow.keras.layers import BatchNormalization #warstwa normalizująca dane wejściowe\n",
        "from tensorflow.keras.layers import Dropout # odrzuca część losową informacji, gdy sieć wyciąga za dużo informacji\n",
        "from tensorflow.keras.layers import LSTM # warstwa pamięci długookresowej (sztuczna rekurencyjna architektura sieci neuronowej RNN)\n",
        "from tensorflow.keras.models import Model # grupuje warstwy w obiekt z funkacjami uczenia i wnioskowania\n",
        "from tensorflow.keras.models import Sequential, load_model # do zaczytywania i wczytywania modelu\n",
        "import matplotlib.pyplot as plt\n",
        "import seaborn as sns\n",
        "import pandas as pd\n",
        "import numpy as np\n",
        "from IPython.display import display # tworzymy obiekt audio \n",
        "import ipywidgets as widgets\n",
        "from ipywidgets import interact, interact_manual # automatyczne tworzenie kontrolek interfejsu użytkownika  (user interface UI)\n",
        "from ipywidgets import interactive\n",
        "\n",
        "from sklearn.model_selection import train_test_split # dzielenie tablic lub macierzy na losowe podzbioru trenowania i testowania. \n",
        "from ipywidgets import interact, interact_manual\n",
        "from ipywidgets import interactive\n",
        "from sklearn.metrics import r2_score # R2- współczynnik determinacji; funkcja oceny regresji \n",
        "from sklearn.metrics import mean_absolute_error #MAE oraz MSE (błędy)\n",
        "from sklearn.metrics import mean_squared_error"
      ]
    },
    {
      "cell_type": "markdown",
      "metadata": {
        "pycharm": {
          "name": "#%% md\n"
        },
        "id": "rN1ntv-nKvPO"
      },
      "source": [
        "##### Import bibliotek do stworzenia sieci LSTM"
      ]
    },
    {
      "cell_type": "code",
      "execution_count": 34,
      "metadata": {
        "pycharm": {
          "name": "#%%\n"
        },
        "id": "12jplw0cKvPO"
      },
      "outputs": [],
      "source": [
        "import math\n",
        "import keras\n",
        "from keras.models import Sequential\n",
        "from keras.layers import Dense\n",
        "from keras.layers import LSTM\n",
        "from keras.layers import Dropout\n",
        "from keras.layers import *\n",
        "from sklearn.preprocessing import MinMaxScaler # przekształcanie cech skalując każdą z cech do określonego zakresu\n",
        "from sklearn.metrics import mean_squared_error\n",
        "from sklearn.metrics import mean_absolute_error\n",
        "from keras.callbacks import EarlyStopping # przerywa trenowanie, gdy monitorowana metryka przestanie się poprawiać; \n",
        "                                          # estymator ten skaluje i tłumaczy każdą cechę indywidualnie tak, że znajduje się ona w zadanym zakresie na zbiorze uczącym (np. między 0 a 1)"
      ]
    },
    {
      "cell_type": "markdown",
      "metadata": {
        "pycharm": {
          "name": "#%% md\n"
        },
        "id": "MJYfn3IWKvPP"
      },
      "source": [
        "### Wczytanie bazy"
      ]
    },
    {
      "cell_type": "code",
      "execution_count": 62,
      "metadata": {
        "id": "xNXhr96tUzag",
        "pycharm": {
          "name": "#%%\n"
        }
      },
      "outputs": [],
      "source": [
        "# katalog z plikiem powinien się znajdować w tym samym folderze, co obecnie odpalony plik\n",
        "data = pd.read_csv('monari.csv')"
      ]
    },
    {
      "cell_type": "markdown",
      "metadata": {
        "id": "F28mhURdVfUZ",
        "pycharm": {
          "name": "#%% md\n"
        }
      },
      "source": [
        "### Podzial na zbiór treningowy i testowy"
      ]
    },
    {
      "cell_type": "code",
      "execution_count": 63,
      "metadata": {
        "pycharm": {
          "name": "#%%\n"
        },
        "colab": {
          "base_uri": "https://localhost:8080/"
        },
        "id": "YpW5svx6KvPR",
        "outputId": "ebac090d-2254-4d61-9ebe-5eb12ac39291"
      },
      "outputs": [
        {
          "output_type": "stream",
          "name": "stdout",
          "text": [
            "(2001, 6)\n"
          ]
        }
      ],
      "source": [
        "# pierwsza liczba oznacza ilość wierszy, natomiast druga ilość kolumn w zbiorze danych\n",
        "print(data.shape)"
      ]
    },
    {
      "cell_type": "code",
      "execution_count": 99,
      "metadata": {
        "id": "tVIFFmksVtX7",
        "pycharm": {
          "name": "#%%\n"
        },
        "colab": {
          "base_uri": "https://localhost:8080/"
        },
        "outputId": "56f8fdbe-0e3b-4ed4-f0cb-04cf91a56b0b"
      },
      "outputs": [
        {
          "output_type": "stream",
          "name": "stdout",
          "text": [
            "(1200, 6)\n"
          ]
        }
      ],
      "source": [
        "# zbiór treningowy\n",
        "ratio = 0.6  # współczynnik proporcji wymiarów (0.6 w stosunku do całego zbioru danych)\n",
        "N = int(len(data)*ratio)   # liczba próbek na klasę\n",
        "train_df, test_df = data[:N], data[N:]   # przypisanie próbek do zmiennych\n",
        "print(train_df.shape)"
      ]
    },
    {
      "cell_type": "code",
      "execution_count": 100,
      "metadata": {
        "id": "b0jVcRkvWVDV",
        "pycharm": {
          "name": "#%%\n"
        },
        "colab": {
          "base_uri": "https://localhost:8080/"
        },
        "outputId": "54a20c3f-2349-4fca-998c-5f3874063971"
      },
      "outputs": [
        {
          "output_type": "stream",
          "name": "stdout",
          "text": [
            "(800, 6)\n"
          ]
        }
      ],
      "source": [
        "# zbiór testowy\n",
        "ratio = 0.4\n",
        "N = int(len(data)*ratio)\n",
        "test_df, val_df = test_df[:N], test_df[N:]\n",
        "print(test_df.shape)"
      ]
    },
    {
      "cell_type": "code",
      "execution_count": 101,
      "metadata": {
        "colab": {
          "base_uri": "https://localhost:8080/",
          "height": 300
        },
        "id": "yxOZAIQgWjaW",
        "outputId": "e62d0f2c-c571-46b4-95ad-fcda628beb9d",
        "pycharm": {
          "name": "#%%\n"
        }
      },
      "outputs": [
        {
          "output_type": "execute_result",
          "data": {
            "text/plain": [
              "          Otwarcie    Najwyzszy    Najnizszy   Zamkniecie        Wolumen\n",
              "count  1200.000000  1200.000000  1200.000000  1200.000000    1200.000000\n",
              "mean      9.404553     9.522976     9.234962     9.385788   42571.486667\n",
              "std       4.032288     4.083562     3.979028     4.037248   63978.188043\n",
              "min       2.720000     2.800000     2.710000     2.760000     261.000000\n",
              "25%       5.890000     5.917500     5.760000     5.877500   11164.500000\n",
              "50%       8.850000     8.930000     8.720000     8.815000   23914.000000\n",
              "75%      13.458000    13.609500    13.252750    13.452000   46878.250000\n",
              "max      19.255000    19.699000    19.048000    19.255000  845260.000000"
            ],
            "text/html": [
              "\n",
              "  <div id=\"df-96eadbe3-27b9-4540-b06d-427026f03c64\">\n",
              "    <div class=\"colab-df-container\">\n",
              "      <div>\n",
              "<style scoped>\n",
              "    .dataframe tbody tr th:only-of-type {\n",
              "        vertical-align: middle;\n",
              "    }\n",
              "\n",
              "    .dataframe tbody tr th {\n",
              "        vertical-align: top;\n",
              "    }\n",
              "\n",
              "    .dataframe thead th {\n",
              "        text-align: right;\n",
              "    }\n",
              "</style>\n",
              "<table border=\"1\" class=\"dataframe\">\n",
              "  <thead>\n",
              "    <tr style=\"text-align: right;\">\n",
              "      <th></th>\n",
              "      <th>Otwarcie</th>\n",
              "      <th>Najwyzszy</th>\n",
              "      <th>Najnizszy</th>\n",
              "      <th>Zamkniecie</th>\n",
              "      <th>Wolumen</th>\n",
              "    </tr>\n",
              "  </thead>\n",
              "  <tbody>\n",
              "    <tr>\n",
              "      <th>count</th>\n",
              "      <td>1200.000000</td>\n",
              "      <td>1200.000000</td>\n",
              "      <td>1200.000000</td>\n",
              "      <td>1200.000000</td>\n",
              "      <td>1200.000000</td>\n",
              "    </tr>\n",
              "    <tr>\n",
              "      <th>mean</th>\n",
              "      <td>9.404553</td>\n",
              "      <td>9.522976</td>\n",
              "      <td>9.234962</td>\n",
              "      <td>9.385788</td>\n",
              "      <td>42571.486667</td>\n",
              "    </tr>\n",
              "    <tr>\n",
              "      <th>std</th>\n",
              "      <td>4.032288</td>\n",
              "      <td>4.083562</td>\n",
              "      <td>3.979028</td>\n",
              "      <td>4.037248</td>\n",
              "      <td>63978.188043</td>\n",
              "    </tr>\n",
              "    <tr>\n",
              "      <th>min</th>\n",
              "      <td>2.720000</td>\n",
              "      <td>2.800000</td>\n",
              "      <td>2.710000</td>\n",
              "      <td>2.760000</td>\n",
              "      <td>261.000000</td>\n",
              "    </tr>\n",
              "    <tr>\n",
              "      <th>25%</th>\n",
              "      <td>5.890000</td>\n",
              "      <td>5.917500</td>\n",
              "      <td>5.760000</td>\n",
              "      <td>5.877500</td>\n",
              "      <td>11164.500000</td>\n",
              "    </tr>\n",
              "    <tr>\n",
              "      <th>50%</th>\n",
              "      <td>8.850000</td>\n",
              "      <td>8.930000</td>\n",
              "      <td>8.720000</td>\n",
              "      <td>8.815000</td>\n",
              "      <td>23914.000000</td>\n",
              "    </tr>\n",
              "    <tr>\n",
              "      <th>75%</th>\n",
              "      <td>13.458000</td>\n",
              "      <td>13.609500</td>\n",
              "      <td>13.252750</td>\n",
              "      <td>13.452000</td>\n",
              "      <td>46878.250000</td>\n",
              "    </tr>\n",
              "    <tr>\n",
              "      <th>max</th>\n",
              "      <td>19.255000</td>\n",
              "      <td>19.699000</td>\n",
              "      <td>19.048000</td>\n",
              "      <td>19.255000</td>\n",
              "      <td>845260.000000</td>\n",
              "    </tr>\n",
              "  </tbody>\n",
              "</table>\n",
              "</div>\n",
              "      <button class=\"colab-df-convert\" onclick=\"convertToInteractive('df-96eadbe3-27b9-4540-b06d-427026f03c64')\"\n",
              "              title=\"Convert this dataframe to an interactive table.\"\n",
              "              style=\"display:none;\">\n",
              "        \n",
              "  <svg xmlns=\"http://www.w3.org/2000/svg\" height=\"24px\"viewBox=\"0 0 24 24\"\n",
              "       width=\"24px\">\n",
              "    <path d=\"M0 0h24v24H0V0z\" fill=\"none\"/>\n",
              "    <path d=\"M18.56 5.44l.94 2.06.94-2.06 2.06-.94-2.06-.94-.94-2.06-.94 2.06-2.06.94zm-11 1L8.5 8.5l.94-2.06 2.06-.94-2.06-.94L8.5 2.5l-.94 2.06-2.06.94zm10 10l.94 2.06.94-2.06 2.06-.94-2.06-.94-.94-2.06-.94 2.06-2.06.94z\"/><path d=\"M17.41 7.96l-1.37-1.37c-.4-.4-.92-.59-1.43-.59-.52 0-1.04.2-1.43.59L10.3 9.45l-7.72 7.72c-.78.78-.78 2.05 0 2.83L4 21.41c.39.39.9.59 1.41.59.51 0 1.02-.2 1.41-.59l7.78-7.78 2.81-2.81c.8-.78.8-2.07 0-2.86zM5.41 20L4 18.59l7.72-7.72 1.47 1.35L5.41 20z\"/>\n",
              "  </svg>\n",
              "      </button>\n",
              "      \n",
              "  <style>\n",
              "    .colab-df-container {\n",
              "      display:flex;\n",
              "      flex-wrap:wrap;\n",
              "      gap: 12px;\n",
              "    }\n",
              "\n",
              "    .colab-df-convert {\n",
              "      background-color: #E8F0FE;\n",
              "      border: none;\n",
              "      border-radius: 50%;\n",
              "      cursor: pointer;\n",
              "      display: none;\n",
              "      fill: #1967D2;\n",
              "      height: 32px;\n",
              "      padding: 0 0 0 0;\n",
              "      width: 32px;\n",
              "    }\n",
              "\n",
              "    .colab-df-convert:hover {\n",
              "      background-color: #E2EBFA;\n",
              "      box-shadow: 0px 1px 2px rgba(60, 64, 67, 0.3), 0px 1px 3px 1px rgba(60, 64, 67, 0.15);\n",
              "      fill: #174EA6;\n",
              "    }\n",
              "\n",
              "    [theme=dark] .colab-df-convert {\n",
              "      background-color: #3B4455;\n",
              "      fill: #D2E3FC;\n",
              "    }\n",
              "\n",
              "    [theme=dark] .colab-df-convert:hover {\n",
              "      background-color: #434B5C;\n",
              "      box-shadow: 0px 1px 3px 1px rgba(0, 0, 0, 0.15);\n",
              "      filter: drop-shadow(0px 1px 2px rgba(0, 0, 0, 0.3));\n",
              "      fill: #FFFFFF;\n",
              "    }\n",
              "  </style>\n",
              "\n",
              "      <script>\n",
              "        const buttonEl =\n",
              "          document.querySelector('#df-96eadbe3-27b9-4540-b06d-427026f03c64 button.colab-df-convert');\n",
              "        buttonEl.style.display =\n",
              "          google.colab.kernel.accessAllowed ? 'block' : 'none';\n",
              "\n",
              "        async function convertToInteractive(key) {\n",
              "          const element = document.querySelector('#df-96eadbe3-27b9-4540-b06d-427026f03c64');\n",
              "          const dataTable =\n",
              "            await google.colab.kernel.invokeFunction('convertToInteractive',\n",
              "                                                     [key], {});\n",
              "          if (!dataTable) return;\n",
              "\n",
              "          const docLinkHtml = 'Like what you see? Visit the ' +\n",
              "            '<a target=\"_blank\" href=https://colab.research.google.com/notebooks/data_table.ipynb>data table notebook</a>'\n",
              "            + ' to learn more about interactive tables.';\n",
              "          element.innerHTML = '';\n",
              "          dataTable['output_type'] = 'display_data';\n",
              "          await google.colab.output.renderOutput(dataTable, element);\n",
              "          const docLink = document.createElement('div');\n",
              "          docLink.innerHTML = docLinkHtml;\n",
              "          element.appendChild(docLink);\n",
              "        }\n",
              "      </script>\n",
              "    </div>\n",
              "  </div>\n",
              "  "
            ]
          },
          "metadata": {},
          "execution_count": 101
        }
      ],
      "source": [
        "# funkcja oblicza podsumowanie statystyk odnoszących się do kolumny DataFrame. \n",
        "# ta funkcja podaje wartości średnie, standardowe i odstęp międzykwartylowy.\n",
        "train_df.describe()"
      ]
    },
    {
      "cell_type": "code",
      "execution_count": 102,
      "metadata": {
        "id": "HrtXH7VgWqsD",
        "pycharm": {
          "name": "#%%\n"
        }
      },
      "outputs": [],
      "source": [
        "# zapewnia obliczania w oknie kroczącym. \n",
        "# windows = rozmiar ruchomego okna, jest to liczba obserwacji użytych do obliczenia statystyki. \n",
        "# każde okno będzie miało stały rozmiar.\n",
        "rolling = data.rolling(window=7)"
      ]
    },
    {
      "cell_type": "code",
      "execution_count": 103,
      "metadata": {
        "id": "IaOjWnf3WuAB",
        "pycharm": {
          "name": "#%%\n"
        }
      },
      "outputs": [],
      "source": [
        "# definiujemy nasz y, który chcemy przewidzieć; trenujemy model tylko na \"Zamkniecie\"\n",
        "data_roll = pd.DataFrame()\n",
        "data_roll['Zamkniecie']=train_df['Zamkniecie']"
      ]
    },
    {
      "cell_type": "code",
      "execution_count": 104,
      "metadata": {
        "pycharm": {
          "name": "#%%\n"
        },
        "colab": {
          "base_uri": "https://localhost:8080/",
          "height": 608,
          "referenced_widgets": [
            "760e128ddb4741c08c4ce7fc9a1cfe16",
            "6207d3132b60461b9c68df9816fe96a8",
            "7aade4e415a7484db4eea938d652ee99",
            "ad83b329046145138bb1d712cd55ab1c",
            "291b570cbd1749fa8c6b7d9371009397",
            "c5921b70aaf148449cba3a10cfd977c9",
            "5c325897aa724640b1e3f85dfbbfbcd7",
            "96ed8ea2810c4a9b9203b005aede76b1",
            "07e6d3a648a5495084bd967ff3661f34",
            "971c48c378834c41ba3ec14ac019d292"
          ]
        },
        "id": "7r0H4Nd2KvPV",
        "outputId": "cc4a5824-7ced-4d36-f9d6-13e5ba14e26b"
      },
      "outputs": [
        {
          "output_type": "display_data",
          "data": {
            "text/plain": [
              "interactive(children=(IntSlider(value=50, description='lw', min=1), Button(description='Run Interact', style=B…"
            ],
            "application/vnd.jupyter.widget-view+json": {
              "version_major": 2,
              "version_minor": 0,
              "model_id": "760e128ddb4741c08c4ce7fc9a1cfe16"
            }
          },
          "metadata": {}
        },
        {
          "output_type": "display_data",
          "data": {
            "text/plain": [
              "<Figure size 2000x1000 with 1 Axes>"
            ],
            "image/png": "[encoded data removed]"
          },
          "metadata": {}
        }
      ],
      "source": [
        "@widgets.interact_manual(lw=(1, 100))  #wstawia suwak do ręcznego wywoływania funkcji. Nie ma potrzeby uruchamiać za każdym razem kod, gdy zmieniamy wartość. \n",
        "def plot(lw):\n",
        "  rolling = data.rolling(window=lw, center=True)\n",
        "  data_roll = pd.DataFrame()\n",
        " \n",
        "  data_roll['Zamkniecie']=data['Zamkniecie']\n",
        "  data_roll['7 days rolling_mean(srednia kroczaca)']=data_roll['Zamkniecie'].rolling(lw, min_periods=1).mean()\n",
        "  ax = data_roll.plot(style=['-', '--'], rot=90, figsize=(20, 10)) #odpowiada za rozmiar wykresu, oraz styl linii\n",
        "  ax.lines[0].set_alpha(0.3)   #zmienia przeźroczystość linii wskazującej \"Zamknięcie\"."
      ]
    },
    {
      "cell_type": "markdown",
      "metadata": {
        "id": "8eSGFce8W3jD",
        "pycharm": {
          "name": "#%% md\n"
        }
      },
      "source": [
        "### Przygotowanie danych do uczenia na sieci LSTM (zmiana wymiarow macierzy, by model zaczal obrabiac dane)"
      ]
    },
    {
      "cell_type": "code",
      "execution_count": 105,
      "metadata": {
        "id": "e4v22vMBXlIn",
        "pycharm": {
          "name": "#%%\n"
        }
      },
      "outputs": [],
      "source": [
        "zmienna_przewidywana = \"Zamkniecie\"\n",
        "\n",
        "def prepare_dataset_to_lstm(zmienna_przewidywana, train_df, ratio):\n",
        "  dataset = train_df[zmienna_przewidywana].values #numpy.ndarray\n",
        "  dataset = dataset.astype('float32') #zamiana typu na float\n",
        "  dataset = np.reshape(dataset, (-1, 1)) #przekształcamy tablicę; wynikowa tablica ma tylko 1 kolumnę\n",
        "  scaler = MinMaxScaler(feature_range=(0, 1)) #skalowanie zmiennych do postaci (0,1)\n",
        "  dataset = scaler.fit_transform(dataset) # wszystkie inne wartości są liniowo skalowane między tymi wartościami\n",
        "\n",
        "#dzielimy uporządkowany zestaw danych do trenowania i testowania. Oblicza index punktu podziału i rozdziela dane na zestawy szkoleniowe z test. obserwacji, których można użyć do trenowania modelu, pozostawiając pozostałe do przetestowania\n",
        "  train_size = int(len(dataset) * ratio)\n",
        "  test_size = len(dataset) - train_size\n",
        "  train, test = dataset[0:train_size,:], dataset[train_size:len(dataset),:]\n",
        "\n",
        "  return train, test, scaler\n",
        "\n",
        "#uruchamiany tą funkcję z wyżej, przygotowanie modelu pod LSTM\n",
        "train, test, scaler = prepare_dataset_to_lstm(zmienna_przewidywana, train_df, ratio=0.8) #scaler - skaluje dane do zakresu 0, 1 (tak zwana normalizacja)"
      ]
    },
    {
      "cell_type": "code",
      "execution_count": 106,
      "metadata": {
        "id": "BPKKHxCWXpe1",
        "pycharm": {
          "name": "#%%\n"
        }
      },
      "outputs": [],
      "source": [
        "# look_back- liczba poprzednich kroków czasowych, które mają być użyte jako zmienne wejściowe do przewidywania następnego okresu czasu, w tym przypadku domyślnie 1.\n",
        "# scaler- skaluje dane do zakresu 0,1 (normalizacja)\n",
        "# tworzenie back(ów); konwertujemy tablicę wartości na macierz zestawu danych\n",
        "def create_dataset_lstm(dataset, look_back=1):   #look_back - wielkość kroku z którą testujemy dataset\n",
        "    X, Y = [], []\n",
        "    for i in range(len(dataset)-look_back-1): # żeby nie wyszło poza zasięg\n",
        "        a = dataset[i:(i+look_back), 0]\n",
        "        X.append(a)\n",
        "        Y.append(dataset[i + look_back, 0])\n",
        "    return np.array(X), np.array(Y)\n",
        "\n",
        "#używamy funkcji by przygotować zestaw i przetestować zestawy danych do modelowania.\n",
        "look_back = 10 #liczba probek ktora pobieramy, minimalnie jedna próbka, maksymalnie tyle, ile ma ciąg elementów\n",
        "X_train, Y_train = create_dataset_lstm(train, look_back)\n",
        "X_test, Y_test = create_dataset_lstm(test, look_back)\n",
        "\n",
        "#Zmienia kształt wejścia na próbki, kroki czasowe, cechy,\n",
        "X_train = np.reshape(X_train, (X_train.shape[0], 1, X_train.shape[1]))\n",
        "X_test = np.reshape(X_test, (X_test.shape[0], 1, X_test.shape[1]))"
      ]
    },
    {
      "cell_type": "markdown",
      "metadata": {
        "id": "lu0pQXiDZYM7",
        "pycharm": {
          "name": "#%% md\n"
        }
      },
      "source": [
        "## Uczenie modelu"
      ]
    },
    {
      "cell_type": "code",
      "execution_count": 107,
      "metadata": {
        "id": "24NO3QG3Y7Pp",
        "pycharm": {
          "name": "#%%\n"
        }
      },
      "outputs": [],
      "source": [
        "#Tworzymy i dopasowujemy model LSTM (zmiana batch_size). W poniższym modelu jest jedno wejście w warstwie wejściowej\n",
        "# i 10 neuronów w warstwie ukrytej. Warstwa wyjściowa przewiduje wartości\n",
        "def lstm_model(X_train, Y_train, X_test, Y_test, batch_size=20):\n",
        "  model = Sequential()  #liniowy stos warstw\n",
        "  model.add(LSTM(20, input_shape=(X_train.shape[1], X_train.shape[2])))\n",
        "  model.add(Dropout(0.1)) \n",
        "  model.add(Dense(8))\n",
        "# definiujemy w czym będziemy wyrażać naszą jakość uczenia\n",
        "  model.compile(loss='mean_squared_error', optimizer='adam') #definiujemy w czym będziemy wyrażać naszą jakośc uczenia\n",
        "\n",
        "# epochs - Funkcja aktywacji powtarzana jest 5 razy\n",
        "  model.fit(X_train, Y_train, epochs=5, batch_size=10, validation_data=(X_test, Y_test),\n",
        "                      # przerwij trenowanie, gdy monitorowana metryka przestanie się poprawiać\n",
        "                      callbacks=[EarlyStopping(monitor='val_loss', patience=10)], verbose=1, shuffle=False)\n",
        "  return model\n",
        "\n"
      ]
    },
    {
      "cell_type": "markdown",
      "metadata": {
        "pycharm": {
          "name": "#%% md\n"
        },
        "id": "-Ww0aBZuKvPZ"
      },
      "source": [
        "## Ewaluacja modelu"
      ]
    },
    {
      "cell_type": "code",
      "execution_count": 108,
      "metadata": {
        "id": "7OKDU7BRZhqQ",
        "pycharm": {
          "name": "#%%\n"
        }
      },
      "outputs": [],
      "source": [
        "#ewaluacja modelu #modyfikujemy niepotrzebne rzeczy\n",
        "def evaluation_model(model, X_train, X_test, Y_train, Y_test, testing=False): #zmieniamy\n",
        "\n",
        "#wykonaj prognozy\n",
        "  # train_predict = model.predict(X_train)\n",
        "  test_predict = model.predict(X_test)\n",
        "\n",
        "#odwróć prognozy, przy obliczaniu błędu przekonwertujemy dane na tą samą jednostkę.  \n",
        "  test_predict = scaler.inverse_transform(test_predict)\n",
        "  Y_test = scaler.inverse_transform([Y_test])\n",
        "\n",
        "#oblicz średni kwadrat błędu\n",
        "  _mean_absolute_error = mean_absolute_error(Y_test[0], test_predict[:,0])   #jak mamy listę 13 elementów, to wstawiając [3,:] pobierze od 3 do 13 elementu\n",
        "  _mean_squared_error = np.sqrt(mean_squared_error(Y_test[0], test_predict[:,0]))\n",
        "  print('Train Mean Absolute Error:', _mean_absolute_error)\n",
        "  print('Train Root Mean Squared Error:',_mean_squared_error)\n",
        "  if testing:\n",
        "    return Y_test, test_predict, _mean_absolute_error, _mean_squared_error\n",
        "  return Y_test, test_predict\n",
        "\n"
      ]
    },
    {
      "cell_type": "code",
      "execution_count": 109,
      "metadata": {
        "colab": {
          "base_uri": "https://localhost:8080/"
        },
        "id": "xiujQG_iduIb",
        "outputId": "aa10ffcd-9c69-4a05-f02b-cb1f0758d904",
        "pycharm": {
          "name": "#%%\n"
        }
      },
      "outputs": [
        {
          "output_type": "stream",
          "name": "stdout",
          "text": [
            "(1, 2, (10, 20))\n",
            "1 2 (10, 20)\n"
          ]
        }
      ],
      "source": [
        "def a():\n",
        "    return 1, 2, (10, 20)\n",
        "\n",
        "x,y, error = a()\n",
        "print(a())\n",
        "print(x,y, error)\n",
        "\n",
        "# 1 to nasz x- Y_train, 2 nasz y- train_predict  a (10-_mean_absolute_error, 20- _mean_squared_error) nasze dołożone errory (patrz analogicznie linijkę wyżej)"
      ]
    },
    {
      "cell_type": "code",
      "execution_count": 110,
      "metadata": {
        "colab": {
          "base_uri": "https://localhost:8080/"
        },
        "id": "dgXynbpvZ_ZT",
        "outputId": "43c3a14f-388c-47de-8ebc-07e3d3421f34",
        "pycharm": {
          "name": "#%%\n"
        }
      },
      "outputs": [
        {
          "output_type": "stream",
          "name": "stdout",
          "text": [
            "Epoch 1/5\n",
            "95/95 [==============================] - 3s 10ms/step - loss: 0.1856 - val_loss: 0.0034\n",
            "Epoch 2/5\n",
            "95/95 [==============================] - 0s 5ms/step - loss: 0.0315 - val_loss: 0.0067\n",
            "Epoch 3/5\n",
            "95/95 [==============================] - 0s 5ms/step - loss: 0.0094 - val_loss: 0.0054\n",
            "Epoch 4/5\n",
            "95/95 [==============================] - 0s 4ms/step - loss: 0.0080 - val_loss: 0.0046\n",
            "Epoch 5/5\n",
            "95/95 [==============================] - 0s 5ms/step - loss: 0.0070 - val_loss: 0.0040\n"
          ]
        }
      ],
      "source": [
        "#Model się uczy!\n",
        "history = lstm_model(X_train, Y_train, X_test, Y_test, batch_size=10)\n",
        "\n",
        "# loss to funkcja straty na zbiorze treningowym\n",
        "# val_loss to funkcja straty na zbiorze walidacyjnym (im mniejsza tym lepiej)\n",
        "\n",
        "# widzimy że z każdą kolejną epoką te dwa błędy są coraz mniejsze- zatem model dobrze się uczy. \n",
        "# im mniejsze błędy (bliższe 0- tym lepiej)"
      ]
    },
    {
      "cell_type": "code",
      "execution_count": 111,
      "metadata": {
        "colab": {
          "base_uri": "https://localhost:8080/"
        },
        "id": "bBRLWe2tal_k",
        "outputId": "2b08abee-caa6-4586-83d8-1dbb7fd32b91",
        "pycharm": {
          "name": "#%%\n"
        }
      },
      "outputs": [
        {
          "output_type": "stream",
          "name": "stdout",
          "text": [
            "Saved model to disk\n"
          ]
        }
      ],
      "source": [
        "# zapisujemy model sieci neuronowej w formacie JSON\n",
        "model_json = history.to_json()  #zapisanie modelu history do JSON\n",
        "with open(\"model.json\", \"w\") as json_file:  #utwórz plik model.json w trybie edycji i zatrzymaj w zmiennej json_file\n",
        "    json_file.write(model_json)\n",
        "# zapisanie wagi z modelu za pomocą funkcji save.weights. \n",
        "history.save_weights(\"model.h5\")  #wagi są zapisywane w pliku model.h5 w katalogu lokalnym.\n",
        "print(\"Saved model to disk\")  #komentarz udanej operacji"
      ]
    },
    {
      "cell_type": "markdown",
      "metadata": {
        "pycharm": {
          "name": "#%% md\n"
        },
        "id": "NJw1-e3FKvPb"
      },
      "source": []
    },
    {
      "cell_type": "code",
      "execution_count": 112,
      "metadata": {
        "colab": {
          "base_uri": "https://localhost:8080/"
        },
        "id": "WfuK6w9caHN8",
        "outputId": "7faf99ed-a4ce-4617-9fa1-7f23e78a3af0",
        "pycharm": {
          "name": "#%%\n"
        }
      },
      "outputs": [
        {
          "output_type": "stream",
          "name": "stdout",
          "text": [
            "8/8 [==============================] - 1s 3ms/step\n",
            "Train Mean Absolute Error: 1.0823020289264793\n",
            "Train Root Mean Squared Error: 1.20087695157385\n"
          ]
        },
        {
          "output_type": "execute_result",
          "data": {
            "text/plain": [
              "(array([[5.05000028, 5.1999999 , 5.48999972, 5.35000001, 5.40000005,\n",
              "         5.41999987, 5.59999971, 5.59999971, 5.56000007, 5.65000023,\n",
              "         5.80000034, 5.84999989, 5.88000011, 6.16000002, 6.07999976,\n",
              "         6.05000004, 6.13999971, 6.19999966, 6.30000022, 6.27      ,\n",
              "         6.40999971, 6.52000019, 6.48999997, 6.16999993, 6.09000016,\n",
              "         5.86999971, 5.80000034, 6.        , 6.        , 6.        ,\n",
              "         5.80000034, 6.01999982, 5.76000022, 5.92000024, 5.95999987,\n",
              "         5.94000005, 5.67999996, 5.76000022, 5.80000034, 5.80000034,\n",
              "         5.80000034, 5.82000016, 5.80000034, 5.80000034, 5.82000016,\n",
              "         5.86000029, 5.89999993, 5.83999998, 5.80000034, 5.73999991,\n",
              "         5.40000005, 5.38000023, 5.47999981, 5.47999981, 5.40000005,\n",
              "         5.44000018, 5.29999998, 5.40000005, 5.44000018, 5.35999992,\n",
              "         5.44000018, 5.32000029, 5.29999998, 5.23999954, 5.09999983,\n",
              "         5.38000023, 5.28000016, 5.35999992, 5.38000023, 5.53999976,\n",
              "         5.65999965, 5.78000003, 5.78000003, 5.65999965, 5.63999983,\n",
              "         5.3400001 , 5.3400001 , 5.3400001 , 5.44000018, 5.46      ,\n",
              "         5.44000018, 5.40000005, 5.38000023, 5.11999965, 5.17999959,\n",
              "         5.29999998, 5.32000029, 5.38000023, 5.44000018, 5.35999992,\n",
              "         5.35999992, 5.35999992, 5.28000016, 5.28000016, 5.0599997 ,\n",
              "         5.13999996, 4.88999977, 4.78000028, 4.6599999 , 4.6599999 ,\n",
              "         4.64000008, 4.76999988, 4.71999984, 4.88999977, 4.85000014,\n",
              "         4.75000006, 4.82000041, 4.91999999, 4.90000017, 4.94999972,\n",
              "         4.82000041, 4.79000019, 4.79000019, 4.79000019, 4.70000002,\n",
              "         4.75000006, 4.70999993, 4.76000046, 4.85000014, 4.97999994,\n",
              "         4.86000004, 4.5300001 , 4.8000001 , 4.82000041, 4.76999988,\n",
              "         4.8000001 , 4.81000001, 4.82999983, 4.73999966, 4.69000012,\n",
              "         4.64999999, 4.59000004, 4.55999982, 4.46999966, 4.48000006,\n",
              "         4.54      , 4.55000041, 4.48999997, 4.63000017, 4.59000004,\n",
              "         4.48999997, 4.49999988, 4.48000006, 4.40999971, 4.38999989,\n",
              "         4.32000004, 4.22999987, 4.25000018, 4.09999983, 4.16000002,\n",
              "         4.13999971, 3.63000017, 3.48000006, 3.48999997, 3.38000023,\n",
              "         3.32000004, 3.48000006, 3.39000014, 3.29000007, 3.24000003,\n",
              "         3.06999985, 3.        , 3.08000001, 3.16000002, 3.23000012,\n",
              "         3.20000015, 3.21000006, 3.18000008, 3.11999989, 3.1400002 ,\n",
              "         3.1400002 , 3.08999992, 3.08000001, 3.        , 3.02999997,\n",
              "         3.        , 2.94000005, 2.91000008, 3.08000001, 3.27      ,\n",
              "         3.27      , 3.39000014, 3.48000006, 3.60999986, 3.46      ,\n",
              "         3.42000011, 3.4100002 , 3.43000002, 3.4100002 , 3.42000011,\n",
              "         3.46      , 3.57999989, 3.16000002, 3.06999985, 3.09999983,\n",
              "         3.18000008, 3.08999992, 2.99000009, 3.08000001, 3.06999985,\n",
              "         3.06999985, 3.        , 2.97000003, 2.97999994, 2.94999996,\n",
              "         2.90000017, 2.81000001, 2.78999994, 2.90000017, 2.75999997,\n",
              "         2.81000001, 2.8599998 , 2.99000009, 3.08999992, 3.        ,\n",
              "         3.05000004, 2.97999994, 2.94999996, 3.00999991, 2.91000008,\n",
              "         2.94999996, 2.93000015, 2.8599998 , 2.79999985, 2.75999997,\n",
              "         2.76999988, 2.78999994, 2.79999985, 2.79999985]]),\n",
              " array([[6.136336 , 6.277929 , 6.0803924, ..., 5.9515862, 5.7026386,\n",
              "         5.9735284],\n",
              "        [6.1488895, 6.2899303, 6.049242 , ..., 5.922082 , 5.6485987,\n",
              "         5.932047 ],\n",
              "        [6.121196 , 6.272052 , 6.089069 , ..., 5.9275174, 5.6200128,\n",
              "         5.923304 ],\n",
              "        ...,\n",
              "        [4.651169 , 4.825968 , 4.624825 , ..., 4.3073096, 3.9690835,\n",
              "         4.4696894],\n",
              "        [4.64607  , 4.8246884, 4.6166368, ..., 4.2886386, 3.9576397,\n",
              "         4.455505 ],\n",
              "        [4.645998 , 4.8279085, 4.611832 , ..., 4.2930202, 3.942013 ,\n",
              "         4.446075 ]], dtype=float32))"
            ]
          },
          "metadata": {},
          "execution_count": 112
        }
      ],
      "source": [
        "\n",
        "evaluation_model(history,X_train, X_test, Y_train,  Y_test) #zmieniamy; dodajemy Y_test"
      ]
    },
    {
      "cell_type": "code",
      "execution_count": 113,
      "metadata": {
        "colab": {
          "base_uri": "https://localhost:8080/"
        },
        "id": "JFznAylEdG8X",
        "outputId": "33ef54b1-7dcc-468c-f4f6-17856193a971",
        "pycharm": {
          "name": "#%%\n"
        }
      },
      "outputs": [
        {
          "output_type": "stream",
          "name": "stdout",
          "text": [
            "8/8 [==============================] - 0s 3ms/step\n",
            "Train Mean Absolute Error: 1.0823020289264793\n",
            "Train Root Mean Squared Error: 1.20087695157385\n"
          ]
        }
      ],
      "source": [
        "Y_test, test_predict = evaluation_model(history,X_train, X_test, Y_train, Y_test) #zmieniamy"
      ]
    },
    {
      "cell_type": "code",
      "execution_count": 114,
      "metadata": {
        "id": "VQ-5nMYZcgXv",
        "pycharm": {
          "name": "#%%\n"
        }
      },
      "outputs": [],
      "source": [
        "def visualization(Y_train, train_predict):\n",
        "  N = len(Y_train[0]) \n",
        "  aa=[x for x in range(N)]  # N oznacza liczbę cech w punkcie danych\n",
        "  plt.figure(figsize=(8,4))\n",
        "  plt.plot(aa, Y_train[0], marker='.', label=\"actual\") # gdy . zmienimy na * to będziemy mieli zamiast . -> *\n",
        "  plt.plot(aa, train_predict[:,0], 'r', label=\"prediction\")\n",
        "  # plt.tick_params(left=False, labelleft=True) #remove ticks\n",
        "  plt.tight_layout()  # dostosuj dopełnienie między polamy pomocniczymi i wokół nich\n",
        "  sns.despine(top=True) # usuwamy grzbiet\n",
        "  plt.subplots_adjust(left=0.07)  # położenie lewej krawędzi wykresu\n",
        "  plt.title(\" prediction\")\n",
        "  plt.xlabel('Time step', size=15)  # rozmiar czcionki dla time step 15\n",
        "  plt.legend(fontsize=15)  # rozmiar czcionki elementów legendy\n",
        "  plt.show()  # uruchamiamy pętle zdarzeń, wyszukujemy wszystkie aktywne obiekty figur i otwieramy jedno lub więcej inteaktywnych okien.\n",
        "\n"
      ]
    },
    {
      "cell_type": "code",
      "execution_count": 115,
      "metadata": {
        "colab": {
          "base_uri": "https://localhost:8080/",
          "height": 454
        },
        "id": "2QEN7oeKc4W-",
        "outputId": "15ca163c-951e-4af3-d74f-fd6997604303",
        "pycharm": {
          "name": "#%%\n"
        }
      },
      "outputs": [
        {
          "output_type": "display_data",
          "data": {
            "text/plain": [
              "<Figure size 800x400 with 1 Axes>"
            ],
            "image/png": "[encoded data removed]"
          },
          "metadata": {}
        }
      ],
      "source": [
        "# Na wykresie dane nie są znormalizowane\n",
        "visualization(Y_test, test_predict)"
      ]
    },
    {
      "cell_type": "code",
      "execution_count": null,
      "metadata": {
        "id": "R_Tf46vEKvPc"
      },
      "outputs": [],
      "source": [
        "#Teraz model jest troche mniej dokładny niż ten poprzedni.\n",
        "#Testowy teoretycznie na początku może się wydawać, że całkiem lepiej wychwytuje, ale później, jak jest zmiana w dół, to jest nieczuły. \n",
        "#Późniejsze uderzenia wyczuwa do góry (późniejsze), ale potem znów jest spadek, więc jest stały w czasie.\n",
        "#Mniej wychwytujący. Dużo brakuje do dobrego modelu.\n",
        "#Można modyfikować za pomocą look_back, zmieniać ile dni wstecz itd. Jak look_back zmienimy na 10 dni, to jest bardziej czuły.\n",
        "#Zmieniamy z look_back=20 na 10 dni (mniej czuły na wzrosty, bardziej na spadki)"
      ]
    },
    {
      "cell_type": "markdown",
      "metadata": {
        "id": "186VBDTrd3yn",
        "pycharm": {
          "name": "#%% md\n"
        }
      },
      "source": [
        "## Zmieniamy wielkosc batch, by zobaczyc jaki wplyw ma ta zmienna na wyniki"
      ]
    },
    {
      "cell_type": "code",
      "execution_count": 116,
      "metadata": {
        "id": "0RAuJONqejpj",
        "pycharm": {
          "name": "#%%\n"
        },
        "colab": {
          "base_uri": "https://localhost:8080/"
        },
        "outputId": "a4314daa-b767-43db-90f9-3a70ca39b61e"
      },
      "outputs": [
        {
          "output_type": "stream",
          "name": "stdout",
          "text": [
            "[[0.1709609  0.16853592 0.1794483  ... 0.13822371 0.15337983 0.1448924 ]\n",
            " [0.16853592 0.1794483  0.18490452 ... 0.15337983 0.1448924  0.13882998]\n",
            " [0.1794483  0.18490452 0.18854198 ... 0.1448924  0.13882998 0.14792362]\n",
            " ...\n",
            " [0.01151864 0.01515611 0.00909367 ... 0.         0.00060624 0.00181873]\n",
            " [0.01515611 0.00909367 0.01151864 ... 0.00060624 0.00181873 0.00242497]\n",
            " [0.00909367 0.01151864 0.01030616 ... 0.00181873 0.00242497 0.00242497]]\n"
          ]
        }
      ],
      "source": [
        "# <odswiezam dane>, gdyz wymiary danych testowych i treningowych przestaja sie zgadac\n",
        "train, test, scaler = prepare_dataset_to_lstm(zmienna_przewidywana, train_df, ratio=0.8)\n",
        "\n",
        "def create_dataset_lstm(dataset, look_back=1):\n",
        "    X, Y = [], []\n",
        "    for i in range(len(dataset)-look_back):\n",
        "        a = dataset[i:(i+look_back), 0]\n",
        "        X.append(a)\n",
        "        Y.append(dataset[i + look_back, 0])\n",
        "    return np.array(X), np.array(Y)\n",
        "    \n",
        "look_back = 10 #liczba probek ktora pobieramy, minimalnie jedna probka, maksymalnie tyle, ile ma ciag elementow\n",
        "X_train, Y_train = create_dataset_lstm(train, look_back)\n",
        "X_test, Y_test = create_dataset_lstm(test, look_back)\n",
        "print(X_test)\n",
        "\n",
        "# reshape input to be [samples, time steps, features]\n",
        "X_train = np.reshape(X_train, (X_train.shape[0], 1, X_train.shape[1]))\n",
        "X_test = np.reshape(X_test, (X_test.shape[0], 1, X_test.shape[1]))"
      ]
    },
    {
      "cell_type": "code",
      "execution_count": 117,
      "metadata": {
        "colab": {
          "base_uri": "https://localhost:8080/"
        },
        "id": "RB4mp_3neAns",
        "outputId": "7dbd4cef-5c67-4531-8084-0ee83c186859",
        "pycharm": {
          "name": "#%%\n"
        }
      },
      "outputs": [
        {
          "output_type": "stream",
          "name": "stdout",
          "text": [
            "-------------------------------30--------------------------\n",
            "Epoch 1/5\n",
            "96/96 [==============================] - 3s 10ms/step - loss: 0.1959 - val_loss: 0.0040\n",
            "Epoch 2/5\n",
            "96/96 [==============================] - 1s 6ms/step - loss: 0.0657 - val_loss: 0.0172\n",
            "Epoch 3/5\n",
            "96/96 [==============================] - 1s 6ms/step - loss: 0.0163 - val_loss: 0.0174\n",
            "Epoch 4/5\n",
            "96/96 [==============================] - 1s 6ms/step - loss: 0.0111 - val_loss: 0.0137\n",
            "Epoch 5/5\n",
            "96/96 [==============================] - 1s 6ms/step - loss: 0.0091 - val_loss: 0.0101\n",
            "8/8 [==============================] - 0s 2ms/step\n",
            "Train Mean Absolute Error: 1.7330071160380198\n",
            "Train Root Mean Squared Error: 1.8191518450266602\n",
            "-------------------------------31--------------------------\n",
            "Epoch 1/5\n",
            "96/96 [==============================] - 3s 11ms/step - loss: 0.1944 - val_loss: 0.0041\n",
            "Epoch 2/5\n",
            "96/96 [==============================] - 0s 5ms/step - loss: 0.0670 - val_loss: 0.0166\n",
            "Epoch 3/5\n",
            "96/96 [==============================] - 1s 5ms/step - loss: 0.0175 - val_loss: 0.0167\n",
            "Epoch 4/5\n",
            "96/96 [==============================] - 0s 5ms/step - loss: 0.0118 - val_loss: 0.0129\n",
            "Epoch 5/5\n",
            "96/96 [==============================] - 0s 5ms/step - loss: 0.0092 - val_loss: 0.0097\n",
            "8/8 [==============================] - 0s 3ms/step\n",
            "Train Mean Absolute Error: 1.4823291863891497\n",
            "Train Root Mean Squared Error: 1.5584156546029868\n",
            "-------------------------------32--------------------------\n",
            "Epoch 1/5\n",
            "96/96 [==============================] - 5s 27ms/step - loss: 0.2198 - val_loss: 0.0046\n",
            "Epoch 2/5\n",
            "96/96 [==============================] - 0s 5ms/step - loss: 0.0831 - val_loss: 0.0179\n",
            "Epoch 3/5\n",
            "96/96 [==============================] - 0s 5ms/step - loss: 0.0247 - val_loss: 0.0201\n",
            "Epoch 4/5\n",
            "96/96 [==============================] - 1s 5ms/step - loss: 0.0134 - val_loss: 0.0169\n",
            "Epoch 5/5\n",
            "96/96 [==============================] - 0s 4ms/step - loss: 0.0112 - val_loss: 0.0131\n",
            "8/8 [==============================] - 1s 3ms/step\n",
            "Train Mean Absolute Error: 1.275900131420682\n",
            "Train Root Mean Squared Error: 1.3581142345569464\n",
            "-------------------------------33--------------------------\n",
            "Epoch 1/5\n",
            "96/96 [==============================] - 3s 10ms/step - loss: 0.2038 - val_loss: 0.0039\n",
            "Epoch 2/5\n",
            "96/96 [==============================] - 0s 4ms/step - loss: 0.0735 - val_loss: 0.0178\n",
            "Epoch 3/5\n",
            "96/96 [==============================] - 0s 5ms/step - loss: 0.0191 - val_loss: 0.0190\n",
            "Epoch 4/5\n",
            "96/96 [==============================] - 0s 5ms/step - loss: 0.0116 - val_loss: 0.0153\n",
            "Epoch 5/5\n",
            "96/96 [==============================] - 0s 5ms/step - loss: 0.0095 - val_loss: 0.0117\n",
            "8/8 [==============================] - 1s 3ms/step\n",
            "Train Mean Absolute Error: 1.292390733712771\n",
            "Train Root Mean Squared Error: 1.381016021142395\n",
            "-------------------------------34--------------------------\n",
            "Epoch 1/5\n",
            "96/96 [==============================] - 3s 11ms/step - loss: 0.2066 - val_loss: 0.0037\n",
            "Epoch 2/5\n",
            "96/96 [==============================] - 0s 5ms/step - loss: 0.0738 - val_loss: 0.0194\n",
            "Epoch 3/5\n",
            "96/96 [==============================] - 0s 5ms/step - loss: 0.0191 - val_loss: 0.0198\n",
            "Epoch 4/5\n",
            "96/96 [==============================] - 0s 5ms/step - loss: 0.0132 - val_loss: 0.0155\n",
            "Epoch 5/5\n",
            "96/96 [==============================] - 0s 4ms/step - loss: 0.0102 - val_loss: 0.0115\n",
            "8/8 [==============================] - 0s 2ms/step\n",
            "Train Mean Absolute Error: 1.706626681720089\n",
            "Train Root Mean Squared Error: 1.7869799662929824\n",
            "-------------------------------35--------------------------\n",
            "Epoch 1/5\n",
            "96/96 [==============================] - 3s 9ms/step - loss: 0.2000 - val_loss: 0.0040\n",
            "Epoch 2/5\n",
            "96/96 [==============================] - 1s 6ms/step - loss: 0.0648 - val_loss: 0.0184\n",
            "Epoch 3/5\n",
            "96/96 [==============================] - 1s 6ms/step - loss: 0.0172 - val_loss: 0.0179\n",
            "Epoch 4/5\n",
            "96/96 [==============================] - 1s 6ms/step - loss: 0.0117 - val_loss: 0.0135\n",
            "Epoch 5/5\n",
            "96/96 [==============================] - 1s 6ms/step - loss: 0.0093 - val_loss: 0.0100\n",
            "8/8 [==============================] - 1s 3ms/step\n",
            "Train Mean Absolute Error: 1.4975764388091808\n",
            "Train Root Mean Squared Error: 1.5743587246768824\n",
            "-------------------------------36--------------------------\n",
            "Epoch 1/5\n",
            "96/96 [==============================] - 3s 9ms/step - loss: 0.2005 - val_loss: 0.0040\n",
            "Epoch 2/5\n",
            "96/96 [==============================] - 0s 4ms/step - loss: 0.0705 - val_loss: 0.0181\n",
            "Epoch 3/5\n",
            "96/96 [==============================] - 0s 4ms/step - loss: 0.0187 - val_loss: 0.0184\n",
            "Epoch 4/5\n",
            "96/96 [==============================] - 0s 4ms/step - loss: 0.0124 - val_loss: 0.0143\n",
            "Epoch 5/5\n",
            "96/96 [==============================] - 0s 4ms/step - loss: 0.0096 - val_loss: 0.0107\n",
            "8/8 [==============================] - 2s 3ms/step\n",
            "Train Mean Absolute Error: 1.7739904167098186\n",
            "Train Root Mean Squared Error: 1.8474997525521282\n",
            "-------------------------------37--------------------------\n",
            "Epoch 1/5\n",
            "96/96 [==============================] - 4s 10ms/step - loss: 0.1967 - val_loss: 0.0039\n",
            "Epoch 2/5\n",
            "96/96 [==============================] - 0s 5ms/step - loss: 0.0671 - val_loss: 0.0180\n",
            "Epoch 3/5\n",
            "96/96 [==============================] - 1s 6ms/step - loss: 0.0180 - val_loss: 0.0182\n",
            "Epoch 4/5\n",
            "96/96 [==============================] - 1s 5ms/step - loss: 0.0113 - val_loss: 0.0142\n",
            "Epoch 5/5\n",
            "96/96 [==============================] - 0s 5ms/step - loss: 0.0090 - val_loss: 0.0102\n",
            "8/8 [==============================] - 1s 4ms/step\n",
            "Train Mean Absolute Error: 1.7637948214071564\n",
            "Train Root Mean Squared Error: 1.836742870612772\n",
            "-------------------------------38--------------------------\n",
            "Epoch 1/5\n",
            "96/96 [==============================] - 3s 10ms/step - loss: 0.1978 - val_loss: 0.0036\n",
            "Epoch 2/5\n",
            "96/96 [==============================] - 0s 5ms/step - loss: 0.0668 - val_loss: 0.0189\n",
            "Epoch 3/5\n",
            "96/96 [==============================] - 0s 4ms/step - loss: 0.0173 - val_loss: 0.0194\n",
            "Epoch 4/5\n",
            "96/96 [==============================] - 0s 5ms/step - loss: 0.0118 - val_loss: 0.0147\n",
            "Epoch 5/5\n",
            "96/96 [==============================] - 0s 4ms/step - loss: 0.0093 - val_loss: 0.0110\n",
            "8/8 [==============================] - 1s 3ms/step\n",
            "Train Mean Absolute Error: 1.8647904827443207\n",
            "Train Root Mean Squared Error: 1.9338695688998755\n",
            "-------------------------------39--------------------------\n",
            "Epoch 1/5\n",
            "96/96 [==============================] - 4s 10ms/step - loss: 0.2052 - val_loss: 0.0036\n",
            "Epoch 2/5\n",
            "96/96 [==============================] - 0s 5ms/step - loss: 0.0731 - val_loss: 0.0184\n",
            "Epoch 3/5\n",
            "96/96 [==============================] - 0s 4ms/step - loss: 0.0181 - val_loss: 0.0195\n",
            "Epoch 4/5\n",
            "96/96 [==============================] - 0s 5ms/step - loss: 0.0119 - val_loss: 0.0152\n",
            "Epoch 5/5\n",
            "96/96 [==============================] - 0s 5ms/step - loss: 0.0114 - val_loss: 0.0117\n",
            "8/8 [==============================] - 0s 3ms/step\n",
            "Train Mean Absolute Error: 2.259733365942089\n",
            "Train Root Mean Squared Error: 2.3344170647385636\n",
            "-------------------------------30--------------------------\n",
            "Epoch 1/5\n",
            "95/95 [==============================] - 3s 9ms/step - loss: 0.2067 - val_loss: 0.0030\n",
            "Epoch 2/5\n",
            "95/95 [==============================] - 0s 4ms/step - loss: 0.0402 - val_loss: 0.0085\n",
            "Epoch 3/5\n",
            "95/95 [==============================] - 0s 3ms/step - loss: 0.0101 - val_loss: 0.0064\n",
            "Epoch 4/5\n",
            "95/95 [==============================] - 0s 4ms/step - loss: 0.0089 - val_loss: 0.0050\n",
            "Epoch 5/5\n",
            "95/95 [==============================] - 0s 4ms/step - loss: 0.0079 - val_loss: 0.0043\n",
            "8/8 [==============================] - 0s 3ms/step\n",
            "Train Mean Absolute Error: 1.0784541455459087\n",
            "Train Root Mean Squared Error: 1.1726288848696582\n",
            "-------------------------------31--------------------------\n",
            "Epoch 1/5\n",
            "95/95 [==============================] - 3s 10ms/step - loss: 0.1950 - val_loss: 0.0031\n",
            "Epoch 2/5\n",
            "95/95 [==============================] - 0s 5ms/step - loss: 0.0408 - val_loss: 0.0070\n",
            "Epoch 3/5\n",
            "95/95 [==============================] - 0s 4ms/step - loss: 0.0107 - val_loss: 0.0057\n",
            "Epoch 4/5\n",
            "95/95 [==============================] - 0s 4ms/step - loss: 0.0088 - val_loss: 0.0045\n",
            "Epoch 5/5\n",
            "95/95 [==============================] - 0s 4ms/step - loss: 0.0077 - val_loss: 0.0038\n",
            "8/8 [==============================] - 0s 3ms/step\n",
            "Train Mean Absolute Error: 0.937612115647794\n",
            "Train Root Mean Squared Error: 1.0362548225258223\n",
            "-------------------------------32--------------------------\n",
            "Epoch 1/5\n",
            "95/95 [==============================] - 3s 10ms/step - loss: 0.2137 - val_loss: 0.0031\n",
            "Epoch 2/5\n",
            "95/95 [==============================] - 0s 4ms/step - loss: 0.0342 - val_loss: 0.0077\n",
            "Epoch 3/5\n",
            "95/95 [==============================] - 0s 4ms/step - loss: 0.0089 - val_loss: 0.0060\n",
            "Epoch 4/5\n",
            "95/95 [==============================] - 0s 4ms/step - loss: 0.0083 - val_loss: 0.0049\n",
            "Epoch 5/5\n",
            "95/95 [==============================] - 0s 4ms/step - loss: 0.0076 - val_loss: 0.0041\n",
            "8/8 [==============================] - 0s 2ms/step\n",
            "Train Mean Absolute Error: 1.0107382533217917\n",
            "Train Root Mean Squared Error: 1.1588914437109645\n",
            "-------------------------------33--------------------------\n",
            "Epoch 1/5\n",
            "95/95 [==============================] - 3s 10ms/step - loss: 0.2018 - val_loss: 0.0030\n",
            "Epoch 2/5\n",
            "95/95 [==============================] - 0s 4ms/step - loss: 0.0337 - val_loss: 0.0072\n",
            "Epoch 3/5\n",
            "95/95 [==============================] - 0s 4ms/step - loss: 0.0088 - val_loss: 0.0055\n",
            "Epoch 4/5\n",
            "95/95 [==============================] - 0s 4ms/step - loss: 0.0076 - val_loss: 0.0046\n",
            "Epoch 5/5\n",
            "95/95 [==============================] - 0s 4ms/step - loss: 0.0064 - val_loss: 0.0038\n",
            "8/8 [==============================] - 0s 3ms/step\n",
            "Train Mean Absolute Error: 1.0765555790096273\n",
            "Train Root Mean Squared Error: 1.1827980881149394\n",
            "-------------------------------34--------------------------\n",
            "Epoch 1/5\n",
            "95/95 [==============================] - 4s 14ms/step - loss: 0.1747 - val_loss: 0.0030\n",
            "Epoch 2/5\n",
            "95/95 [==============================] - 1s 5ms/step - loss: 0.0253 - val_loss: 0.0064\n",
            "Epoch 3/5\n",
            "95/95 [==============================] - 0s 5ms/step - loss: 0.0081 - val_loss: 0.0049\n",
            "Epoch 4/5\n",
            "95/95 [==============================] - 0s 4ms/step - loss: 0.0072 - val_loss: 0.0041\n",
            "Epoch 5/5\n",
            "95/95 [==============================] - 0s 4ms/step - loss: 0.0063 - val_loss: 0.0034\n",
            "8/8 [==============================] - 0s 3ms/step\n",
            "Train Mean Absolute Error: 0.7644384979149974\n",
            "Train Root Mean Squared Error: 0.8806772844785947\n",
            "-------------------------------35--------------------------\n",
            "Epoch 1/5\n",
            "95/95 [==============================] - 4s 10ms/step - loss: 0.2011 - val_loss: 0.0034\n",
            "Epoch 2/5\n",
            "95/95 [==============================] - 0s 4ms/step - loss: 0.0365 - val_loss: 0.0080\n",
            "Epoch 3/5\n",
            "95/95 [==============================] - 0s 4ms/step - loss: 0.0095 - val_loss: 0.0062\n",
            "Epoch 4/5\n",
            "95/95 [==============================] - 0s 4ms/step - loss: 0.0080 - val_loss: 0.0054\n",
            "Epoch 5/5\n",
            "95/95 [==============================] - 0s 4ms/step - loss: 0.0067 - val_loss: 0.0045\n",
            "8/8 [==============================] - 1s 5ms/step\n",
            "Train Mean Absolute Error: 1.1371953501808654\n",
            "Train Root Mean Squared Error: 1.2556411773978415\n",
            "-------------------------------36--------------------------\n",
            "Epoch 1/5\n",
            "95/95 [==============================] - 4s 10ms/step - loss: 0.2107 - val_loss: 0.0032\n",
            "Epoch 2/5\n",
            "95/95 [==============================] - 0s 4ms/step - loss: 0.0413 - val_loss: 0.0082\n",
            "Epoch 3/5\n",
            "95/95 [==============================] - 0s 5ms/step - loss: 0.0108 - val_loss: 0.0066\n",
            "Epoch 4/5\n",
            "95/95 [==============================] - 0s 5ms/step - loss: 0.0086 - val_loss: 0.0054\n",
            "Epoch 5/5\n",
            "95/95 [==============================] - 0s 5ms/step - loss: 0.0072 - val_loss: 0.0046\n",
            "8/8 [==============================] - 0s 3ms/step\n",
            "Train Mean Absolute Error: 1.3076696907855645\n",
            "Train Root Mean Squared Error: 1.4073287147666478\n",
            "-------------------------------37--------------------------\n",
            "Epoch 1/5\n",
            "95/95 [==============================] - 3s 10ms/step - loss: 0.1753 - val_loss: 0.0030\n",
            "Epoch 2/5\n",
            "95/95 [==============================] - 1s 6ms/step - loss: 0.0280 - val_loss: 0.0060\n",
            "Epoch 3/5\n",
            "95/95 [==============================] - 1s 6ms/step - loss: 0.0089 - val_loss: 0.0049\n",
            "Epoch 4/5\n",
            "95/95 [==============================] - 1s 7ms/step - loss: 0.0084 - val_loss: 0.0041\n",
            "Epoch 5/5\n",
            "95/95 [==============================] - 1s 6ms/step - loss: 0.0071 - val_loss: 0.0037\n",
            "8/8 [==============================] - 1s 3ms/step\n",
            "Train Mean Absolute Error: 0.783093179637558\n",
            "Train Root Mean Squared Error: 0.9030468393077307\n",
            "-------------------------------38--------------------------\n",
            "Epoch 1/5\n",
            "95/95 [==============================] - 3s 9ms/step - loss: 0.1326 - val_loss: 0.0031\n",
            "Epoch 2/5\n",
            "95/95 [==============================] - 0s 4ms/step - loss: 0.0185 - val_loss: 0.0044\n",
            "Epoch 3/5\n",
            "95/95 [==============================] - 0s 4ms/step - loss: 0.0094 - val_loss: 0.0033\n",
            "Epoch 4/5\n",
            "95/95 [==============================] - 0s 4ms/step - loss: 0.0075 - val_loss: 0.0027\n",
            "Epoch 5/5\n",
            "95/95 [==============================] - 0s 4ms/step - loss: 0.0066 - val_loss: 0.0023\n",
            "8/8 [==============================] - 0s 2ms/step\n",
            "Train Mean Absolute Error: 0.7882144720639106\n",
            "Train Root Mean Squared Error: 0.8953044477849569\n",
            "-------------------------------39--------------------------\n",
            "Epoch 1/5\n",
            "95/95 [==============================] - 3s 10ms/step - loss: 0.1729 - val_loss: 0.0029\n",
            "Epoch 2/5\n",
            "95/95 [==============================] - 1s 6ms/step - loss: 0.0311 - val_loss: 0.0060\n",
            "Epoch 3/5\n",
            "95/95 [==============================] - 1s 5ms/step - loss: 0.0100 - val_loss: 0.0048\n",
            "Epoch 4/5\n",
            "95/95 [==============================] - 1s 6ms/step - loss: 0.0085 - val_loss: 0.0040\n",
            "Epoch 5/5\n",
            "95/95 [==============================] - 1s 5ms/step - loss: 0.0076 - val_loss: 0.0033\n",
            "8/8 [==============================] - 1s 3ms/step\n",
            "Train Mean Absolute Error: 0.8353753859980615\n",
            "Train Root Mean Squared Error: 0.9522778511877803\n",
            "-------------------------------30--------------------------\n",
            "Epoch 1/5\n",
            "93/93 [==============================] - 3s 11ms/step - loss: 0.1340 - val_loss: 0.0019\n",
            "Epoch 2/5\n",
            "93/93 [==============================] - 0s 5ms/step - loss: 0.0174 - val_loss: 0.0022\n",
            "Epoch 3/5\n",
            "93/93 [==============================] - 0s 5ms/step - loss: 0.0129 - val_loss: 0.0022\n",
            "Epoch 4/5\n",
            "93/93 [==============================] - 0s 5ms/step - loss: 0.0109 - val_loss: 0.0021\n",
            "Epoch 5/5\n",
            "93/93 [==============================] - 0s 5ms/step - loss: 0.0095 - val_loss: 0.0023\n",
            "7/7 [==============================] - 0s 3ms/step\n",
            "Train Mean Absolute Error: 0.5060411668507099\n",
            "Train Root Mean Squared Error: 0.6255916412635278\n",
            "-------------------------------31--------------------------\n",
            "Epoch 1/5\n",
            "93/93 [==============================] - 4s 11ms/step - loss: 0.1699 - val_loss: 0.0025\n",
            "Epoch 2/5\n",
            "93/93 [==============================] - 0s 4ms/step - loss: 0.0222 - val_loss: 0.0029\n",
            "Epoch 3/5\n",
            "93/93 [==============================] - 0s 4ms/step - loss: 0.0135 - val_loss: 0.0023\n",
            "Epoch 4/5\n",
            "93/93 [==============================] - 0s 4ms/step - loss: 0.0115 - val_loss: 0.0024\n",
            "Epoch 5/5\n",
            "93/93 [==============================] - 0s 4ms/step - loss: 0.0110 - val_loss: 0.0025\n",
            "7/7 [==============================] - 0s 3ms/step\n",
            "Train Mean Absolute Error: 0.7729738398672905\n",
            "Train Root Mean Squared Error: 0.9127446571247971\n",
            "-------------------------------32--------------------------\n",
            "Epoch 1/5\n",
            "93/93 [==============================] - 3s 10ms/step - loss: 0.1396 - val_loss: 0.0023\n",
            "Epoch 2/5\n",
            "93/93 [==============================] - 0s 4ms/step - loss: 0.0146 - val_loss: 0.0026\n",
            "Epoch 3/5\n",
            "93/93 [==============================] - 0s 4ms/step - loss: 0.0113 - val_loss: 0.0027\n",
            "Epoch 4/5\n",
            "93/93 [==============================] - 0s 4ms/step - loss: 0.0102 - val_loss: 0.0027\n",
            "Epoch 5/5\n",
            "93/93 [==============================] - 0s 5ms/step - loss: 0.0086 - val_loss: 0.0026\n",
            "7/7 [==============================] - 1s 4ms/step\n",
            "Train Mean Absolute Error: 0.9323646304292672\n",
            "Train Root Mean Squared Error: 1.0491606926022412\n",
            "-------------------------------33--------------------------\n",
            "Epoch 1/5\n",
            "93/93 [==============================] - 3s 10ms/step - loss: 0.1194 - val_loss: 0.0023\n",
            "Epoch 2/5\n",
            "93/93 [==============================] - 0s 4ms/step - loss: 0.0150 - val_loss: 0.0021\n",
            "Epoch 3/5\n",
            "93/93 [==============================] - 0s 4ms/step - loss: 0.0138 - val_loss: 0.0022\n",
            "Epoch 4/5\n",
            "93/93 [==============================] - 0s 4ms/step - loss: 0.0114 - val_loss: 0.0023\n",
            "Epoch 5/5\n",
            "93/93 [==============================] - 0s 4ms/step - loss: 0.0106 - val_loss: 0.0025\n",
            "7/7 [==============================] - 0s 3ms/step\n",
            "Train Mean Absolute Error: 0.7393895333685316\n",
            "Train Root Mean Squared Error: 0.858281265412187\n",
            "-------------------------------34--------------------------\n",
            "Epoch 1/5\n",
            "93/93 [==============================] - 5s 17ms/step - loss: 0.1152 - val_loss: 0.0020\n",
            "Epoch 2/5\n",
            "93/93 [==============================] - 1s 6ms/step - loss: 0.0156 - val_loss: 0.0020\n",
            "Epoch 3/5\n",
            "93/93 [==============================] - 1s 5ms/step - loss: 0.0121 - val_loss: 0.0021\n",
            "Epoch 4/5\n",
            "93/93 [==============================] - 0s 4ms/step - loss: 0.0105 - val_loss: 0.0022\n",
            "Epoch 5/5\n",
            "93/93 [==============================] - 0s 5ms/step - loss: 0.0091 - val_loss: 0.0022\n",
            "7/7 [==============================] - 1s 3ms/step\n",
            "Train Mean Absolute Error: 0.6575513770752347\n",
            "Train Root Mean Squared Error: 0.7504263693836104\n",
            "-------------------------------35--------------------------\n",
            "Epoch 1/5\n",
            "93/93 [==============================] - 3s 9ms/step - loss: 0.0885 - val_loss: 0.0019\n",
            "Epoch 2/5\n",
            "93/93 [==============================] - 0s 4ms/step - loss: 0.0100 - val_loss: 0.0017\n",
            "Epoch 3/5\n",
            "93/93 [==============================] - 0s 4ms/step - loss: 0.0098 - val_loss: 0.0017\n",
            "Epoch 4/5\n",
            "93/93 [==============================] - 0s 4ms/step - loss: 0.0089 - val_loss: 0.0019\n",
            "Epoch 5/5\n",
            "93/93 [==============================] - 0s 4ms/step - loss: 0.0081 - val_loss: 0.0019\n",
            "7/7 [==============================] - 0s 3ms/step\n",
            "Train Mean Absolute Error: 0.44823639915396657\n",
            "Train Root Mean Squared Error: 0.544925681392829\n",
            "-------------------------------36--------------------------\n",
            "Epoch 1/5\n",
            "93/93 [==============================] - 3s 13ms/step - loss: 0.0862 - val_loss: 0.0020\n",
            "Epoch 2/5\n",
            "93/93 [==============================] - 1s 6ms/step - loss: 0.0146 - val_loss: 0.0017\n",
            "Epoch 3/5\n",
            "93/93 [==============================] - 1s 5ms/step - loss: 0.0113 - val_loss: 0.0016\n",
            "Epoch 4/5\n",
            "93/93 [==============================] - 0s 4ms/step - loss: 0.0101 - val_loss: 0.0015\n",
            "Epoch 5/5\n",
            "93/93 [==============================] - 0s 4ms/step - loss: 0.0092 - val_loss: 0.0015\n",
            "7/7 [==============================] - 0s 3ms/step\n",
            "Train Mean Absolute Error: 0.6195302181676371\n",
            "Train Root Mean Squared Error: 0.7265926937884877\n",
            "-------------------------------37--------------------------\n",
            "Epoch 1/5\n",
            "93/93 [==============================] - 3s 9ms/step - loss: 0.1088 - val_loss: 0.0022\n",
            "Epoch 2/5\n",
            "93/93 [==============================] - 0s 4ms/step - loss: 0.0127 - val_loss: 0.0018\n",
            "Epoch 3/5\n",
            "93/93 [==============================] - 0s 4ms/step - loss: 0.0107 - val_loss: 0.0018\n",
            "Epoch 4/5\n",
            "93/93 [==============================] - 0s 4ms/step - loss: 0.0101 - val_loss: 0.0018\n",
            "Epoch 5/5\n",
            "93/93 [==============================] - 0s 4ms/step - loss: 0.0089 - val_loss: 0.0018\n",
            "7/7 [==============================] - 0s 4ms/step\n",
            "Train Mean Absolute Error: 0.7525621806143349\n",
            "Train Root Mean Squared Error: 0.8685097996686505\n",
            "-------------------------------38--------------------------\n",
            "Epoch 1/5\n",
            "93/93 [==============================] - 5s 25ms/step - loss: 0.1519 - val_loss: 0.0027\n",
            "Epoch 2/5\n",
            "93/93 [==============================] - 0s 5ms/step - loss: 0.0157 - val_loss: 0.0026\n",
            "Epoch 3/5\n",
            "93/93 [==============================] - 0s 5ms/step - loss: 0.0113 - val_loss: 0.0025\n",
            "Epoch 4/5\n",
            "93/93 [==============================] - 0s 5ms/step - loss: 0.0105 - val_loss: 0.0025\n",
            "Epoch 5/5\n",
            "93/93 [==============================] - 0s 4ms/step - loss: 0.0094 - val_loss: 0.0023\n",
            "7/7 [==============================] - 1s 3ms/step\n",
            "Train Mean Absolute Error: 0.8145011099076748\n",
            "Train Root Mean Squared Error: 0.935885012239003\n",
            "-------------------------------39--------------------------\n",
            "Epoch 1/5\n",
            "93/93 [==============================] - 3s 10ms/step - loss: 0.0880 - val_loss: 0.0018\n",
            "Epoch 2/5\n",
            "93/93 [==============================] - 0s 4ms/step - loss: 0.0108 - val_loss: 0.0015\n",
            "Epoch 3/5\n",
            "93/93 [==============================] - 0s 4ms/step - loss: 0.0106 - val_loss: 0.0016\n",
            "Epoch 4/5\n",
            "93/93 [==============================] - 0s 4ms/step - loss: 0.0089 - val_loss: 0.0016\n",
            "Epoch 5/5\n",
            "93/93 [==============================] - 0s 4ms/step - loss: 0.0078 - val_loss: 0.0017\n",
            "7/7 [==============================] - 0s 3ms/step\n",
            "Train Mean Absolute Error: 0.729357154844089\n",
            "Train Root Mean Squared Error: 0.8283774720523619\n"
          ]
        }
      ],
      "source": [
        "# wielkosc batchu [10, 20, 50]\n",
        "batch_start, batch_end = 30, 40 # od do\n",
        "look_backs = [3,10,30] # takie look backi sprawdzamy i potem do nich mozemy wykresy zrobic\n",
        "\n",
        "\n",
        "error_look_back = {}\n",
        "for look_back in look_backs:\n",
        "  MAEs = []\n",
        "  MSEs = []\n",
        "  Y_trains = []\n",
        "  train_predicts = []\n",
        "\n",
        "  X_train, Y_train = create_dataset_lstm(train, look_back)\n",
        "  X_test, Y_test = create_dataset_lstm(test, look_back)\n",
        "  X_train = np.reshape(X_train, (X_train.shape[0], 1, X_train.shape[1]))\n",
        "  X_test = np.reshape(X_test, (X_test.shape[0], 1, X_test.shape[1]))\n",
        "  for batch in range(batch_start, batch_end):\n",
        "    print(f'-------------------------------{batch}--------------------------')\n",
        "    history = lstm_model(X_train, Y_train, X_test, Y_test, batch_size=batch)\n",
        "    tmp_Y_test, tmp_test_predict, MAE, MSE  = evaluation_model(history,X_train, X_test, Y_train,Y_test, testing=True) #zmieniamy\n",
        "    \n",
        "    MAEs.append(MAE)\n",
        "    MSEs.append(MSE)\n",
        "    Y_trains.append(tmp_Y_test)\n",
        "    train_predicts.append(tmp_test_predict)\n",
        "  error_look_back[look_back] = {\"MAE\":MAEs, \"MSE\":MSEs, \"Y_trains\": Y_trains, \"train_predicts\": train_predicts}\n",
        "\n"
      ]
    },
    {
      "cell_type": "markdown",
      "metadata": {
        "pycharm": {
          "name": "#%% md\n"
        },
        "id": "Q11BtPfTKvPd"
      },
      "source": [
        "#### Wraz ze wzrostem batch'a, pogorszaja sie na wyniki - MAE i MSE idealnie powinny rownac sie zero, wiec generalnie im mniejsze ich wartosci, tym model uwazamy za lepszy"
      ]
    },
    {
      "cell_type": "code",
      "execution_count": 118,
      "metadata": {
        "colab": {
          "base_uri": "https://localhost:8080/"
        },
        "id": "nNeu-weeMnsY",
        "outputId": "8b2e5d01-b594-47b9-b9b5-95543003412f",
        "pycharm": {
          "name": "#%%\n"
        }
      },
      "outputs": [
        {
          "output_type": "execute_result",
          "data": {
            "text/plain": [
              "(229, 8)"
            ]
          },
          "metadata": {},
          "execution_count": 118
        }
      ],
      "source": [
        "# wyświetlenie liczby kolumn i wierszy #zmieniamy\n",
        "test_predict.shape"
      ]
    },
    {
      "cell_type": "code",
      "execution_count": 119,
      "metadata": {
        "pycharm": {
          "name": "#%%\n"
        },
        "colab": {
          "base_uri": "https://localhost:8080/"
        },
        "id": "J1tR7fv_KvPq",
        "outputId": "fe94b42c-407f-407d-9c4e-7e2100d3f5da"
      },
      "outputs": [
        {
          "output_type": "execute_result",
          "data": {
            "text/plain": [
              "[1.8191518450266602,\n",
              " 1.5584156546029868,\n",
              " 1.3581142345569464,\n",
              " 1.381016021142395,\n",
              " 1.7869799662929824,\n",
              " 1.5743587246768824,\n",
              " 1.8474997525521282,\n",
              " 1.836742870612772,\n",
              " 1.9338695688998755,\n",
              " 2.3344170647385636]"
            ]
          },
          "metadata": {},
          "execution_count": 119
        }
      ],
      "source": [
        "error_look_back[3][\"MSE\"]"
      ]
    },
    {
      "cell_type": "code",
      "execution_count": 120,
      "metadata": {
        "colab": {
          "base_uri": "https://localhost:8080/"
        },
        "id": "QVFzpdz8NCvZ",
        "outputId": "5a95771c-8995-478f-aa37-61ff6a5529d5",
        "pycharm": {
          "name": "#%%\n"
        }
      },
      "outputs": [
        {
          "output_type": "stream",
          "name": "stdout",
          "text": [
            "[0.544925681392829, 0.6255916412635278, 0.7265926937884877, 0.7504263693836104, 0.8283774720523619, 0.858281265412187, 0.8685097996686505, 0.9127446571247971, 0.935885012239003, 1.0491606926022412]\n"
          ]
        }
      ],
      "source": [
        "# wyświetlenie i posortowanie MSE\n",
        "MSEs.sort()\n",
        "print(MSEs)"
      ]
    },
    {
      "cell_type": "code",
      "execution_count": 121,
      "metadata": {
        "colab": {
          "base_uri": "https://localhost:8080/",
          "height": 448
        },
        "id": "IDLSfMoeSYIJ",
        "outputId": "f2885b38-4bd1-431e-8007-087c71099d2e",
        "pycharm": {
          "name": "#%%\n"
        }
      },
      "outputs": [
        {
          "output_type": "execute_result",
          "data": {
            "text/plain": [
              "<Axes: >"
            ]
          },
          "metadata": {},
          "execution_count": 121
        },
        {
          "output_type": "display_data",
          "data": {
            "text/plain": [
              "<Figure size 640x480 with 1 Axes>"
            ],
            "image/png": "[encoded data removed]"
          },
          "metadata": {}
        }
      ],
      "source": [
        "# wykres kreśli linię MSE, oraz MAE\n",
        "look_back_to_check = 3\n",
        "sns.lineplot(x=[a for a in range(batch_start, batch_end)], y=error_look_back[look_back_to_check][\"MSE\"])\n",
        "sns.lineplot(x=[a for a in range(batch_start, batch_end)], y=error_look_back[look_back_to_check][\"MAE\"])\n"
      ]
    },
    {
      "cell_type": "code",
      "execution_count": 122,
      "metadata": {
        "colab": {
          "base_uri": "https://localhost:8080/",
          "height": 454
        },
        "id": "FKkdbS5adpp3",
        "outputId": "bdb0932d-7aca-4d45-a8eb-4500564b7c46",
        "pycharm": {
          "name": "#%%\n"
        }
      },
      "outputs": [
        {
          "output_type": "display_data",
          "data": {
            "text/plain": [
              "<Figure size 800x400 with 1 Axes>"
            ],
            "image/png": "[encoded data removed]"
          },
          "metadata": {}
        }
      ],
      "source": [
        "batch_index = 6 # to znaczy batch_start (bedzie tyle indexow ile jest od batch_start do batch_end)\n",
        "look_back_to_check = 3\n",
        "visualization(Y_train = error_look_back[look_back_to_check][\"Y_trains\"][batch_index], train_predict = error_look_back[look_back_to_check][\"train_predicts\"][batch_index])"
      ]
    },
    {
      "cell_type": "code",
      "execution_count": 123,
      "metadata": {
        "colab": {
          "base_uri": "https://localhost:8080/"
        },
        "id": "fC3jQGyaeOHF",
        "outputId": "9fd9d2a5-b90d-45b9-e286-ec6aecc57cd2",
        "pycharm": {
          "name": "#%%\n"
        }
      },
      "outputs": [
        {
          "output_type": "execute_result",
          "data": {
            "text/plain": [
              "array([[5.80999976, 5.86999971, 5.46      , 5.26999976, 5.03999988,\n",
              "        5.29000007, 5.14999986, 5.05000028, 5.1999999 , 5.48999972,\n",
              "        5.35000001, 5.40000005, 5.41999987, 5.59999971, 5.59999971,\n",
              "        5.56000007, 5.65000023, 5.80000034, 5.84999989, 5.88000011,\n",
              "        6.16000002, 6.07999976, 6.05000004, 6.13999971, 6.19999966,\n",
              "        6.30000022, 6.27      , 6.40999971, 6.52000019, 6.48999997,\n",
              "        6.16999993, 6.09000016, 5.86999971, 5.80000034, 6.        ,\n",
              "        6.        , 6.        , 5.80000034, 6.01999982, 5.76000022,\n",
              "        5.92000024, 5.95999987, 5.94000005, 5.67999996, 5.76000022,\n",
              "        5.80000034, 5.80000034, 5.80000034, 5.82000016, 5.80000034,\n",
              "        5.80000034, 5.82000016, 5.86000029, 5.89999993, 5.83999998,\n",
              "        5.80000034, 5.73999991, 5.40000005, 5.38000023, 5.47999981,\n",
              "        5.47999981, 5.40000005, 5.44000018, 5.29999998, 5.40000005,\n",
              "        5.44000018, 5.35999992, 5.44000018, 5.32000029, 5.29999998,\n",
              "        5.23999954, 5.09999983, 5.38000023, 5.28000016, 5.35999992,\n",
              "        5.38000023, 5.53999976, 5.65999965, 5.78000003, 5.78000003,\n",
              "        5.65999965, 5.63999983, 5.3400001 , 5.3400001 , 5.3400001 ,\n",
              "        5.44000018, 5.46      , 5.44000018, 5.40000005, 5.38000023,\n",
              "        5.11999965, 5.17999959, 5.29999998, 5.32000029, 5.38000023,\n",
              "        5.44000018, 5.35999992, 5.35999992, 5.35999992, 5.28000016,\n",
              "        5.28000016, 5.0599997 , 5.13999996, 4.88999977, 4.78000028,\n",
              "        4.6599999 , 4.6599999 , 4.64000008, 4.76999988, 4.71999984,\n",
              "        4.88999977, 4.85000014, 4.75000006, 4.82000041, 4.91999999,\n",
              "        4.90000017, 4.94999972, 4.82000041, 4.79000019, 4.79000019,\n",
              "        4.79000019, 4.70000002, 4.75000006, 4.70999993, 4.76000046,\n",
              "        4.85000014, 4.97999994, 4.86000004, 4.5300001 , 4.8000001 ,\n",
              "        4.82000041, 4.76999988, 4.8000001 , 4.81000001, 4.82999983,\n",
              "        4.73999966, 4.69000012, 4.64999999, 4.59000004, 4.55999982,\n",
              "        4.46999966, 4.48000006, 4.54      , 4.55000041, 4.48999997,\n",
              "        4.63000017, 4.59000004, 4.48999997, 4.49999988, 4.48000006,\n",
              "        4.40999971, 4.38999989, 4.32000004, 4.22999987, 4.25000018,\n",
              "        4.09999983, 4.16000002, 4.13999971, 3.63000017, 3.48000006,\n",
              "        3.48999997, 3.38000023, 3.32000004, 3.48000006, 3.39000014,\n",
              "        3.29000007, 3.24000003, 3.06999985, 3.        , 3.08000001,\n",
              "        3.16000002, 3.23000012, 3.20000015, 3.21000006, 3.18000008,\n",
              "        3.11999989, 3.1400002 , 3.1400002 , 3.08999992, 3.08000001,\n",
              "        3.        , 3.02999997, 3.        , 2.94000005, 2.91000008,\n",
              "        3.08000001, 3.27      , 3.27      , 3.39000014, 3.48000006,\n",
              "        3.60999986, 3.46      , 3.42000011, 3.4100002 , 3.43000002,\n",
              "        3.4100002 , 3.42000011, 3.46      , 3.57999989, 3.16000002,\n",
              "        3.06999985, 3.09999983, 3.18000008, 3.08999992, 2.99000009,\n",
              "        3.08000001, 3.06999985, 3.06999985, 3.        , 2.97000003,\n",
              "        2.97999994, 2.94999996, 2.90000017, 2.81000001, 2.78999994,\n",
              "        2.90000017, 2.75999997, 2.81000001, 2.8599998 , 2.99000009,\n",
              "        3.08999992, 3.        , 3.05000004, 2.97999994, 2.94999996,\n",
              "        3.00999991, 2.91000008, 2.94999996, 2.93000015, 2.8599998 ,\n",
              "        2.79999985, 2.75999997, 2.76999988, 2.78999994, 2.79999985,\n",
              "        2.79999985, 2.79999985]])"
            ]
          },
          "metadata": {},
          "execution_count": 123
        }
      ],
      "source": [
        "error_look_back[3][\"Y_trains\"][0]"
      ]
    },
    {
      "cell_type": "code",
      "execution_count": null,
      "metadata": {
        "pycharm": {
          "name": "#%%\n"
        },
        "id": "WHZ8QyC9KvPr"
      },
      "outputs": [],
      "source": []
    }
  ],
  "metadata": {
    "colab": {
      "provenance": []
    },
    "kernelspec": {
      "display_name": "Python 3 (ipykernel)",
      "language": "python",
      "name": "python3"
    },
    "language_info": {
      "codemirror_mode": {
        "name": "ipython",
        "version": 3
      },
      "file_extension": ".py",
      "mimetype": "text/x-python",
      "name": "python",
      "nbconvert_exporter": "python",
      "pygments_lexer": "ipython3",
      "version": "3.9.13"
    },
    "widgets": {
      "application/vnd.jupyter.widget-state+json": {
        "760e128ddb4741c08c4ce7fc9a1cfe16": {
          "model_module": "@jupyter-widgets/controls",
          "model_name": "VBoxModel",
          "model_module_version": "1.5.0",
          "state": {
            "_dom_classes": [
              "widget-interact"
            ],
            "_model_module": "@jupyter-widgets/controls",
            "_model_module_version": "1.5.0",
            "_model_name": "VBoxModel",
            "_view_count": null,
            "_view_module": "@jupyter-widgets/controls",
            "_view_module_version": "1.5.0",
            "_view_name": "VBoxView",
            "box_style": "",
            "children": [
              "IPY_MODEL_6207d3132b60461b9c68df9816fe96a8",
              "IPY_MODEL_7aade4e415a7484db4eea938d652ee99",
              "IPY_MODEL_ad83b329046145138bb1d712cd55ab1c"
            ],
            "layout": "IPY_MODEL_291b570cbd1749fa8c6b7d9371009397"
          }
        },
        "6207d3132b60461b9c68df9816fe96a8": {
          "model_module": "@jupyter-widgets/controls",
          "model_name": "IntSliderModel",
          "model_module_version": "1.5.0",
          "state": {
            "_dom_classes": [],
            "_model_module": "@jupyter-widgets/controls",
            "_model_module_version": "1.5.0",
            "_model_name": "IntSliderModel",
            "_view_count": null,
            "_view_module": "@jupyter-widgets/controls",
            "_view_module_version": "1.5.0",
            "_view_name": "IntSliderView",
            "continuous_update": true,
            "description": "lw",
            "description_tooltip": null,
            "disabled": false,
            "layout": "IPY_MODEL_c5921b70aaf148449cba3a10cfd977c9",
            "max": 100,
            "min": 1,
            "orientation": "horizontal",
            "readout": true,
            "readout_format": "d",
            "step": 1,
            "style": "IPY_MODEL_5c325897aa724640b1e3f85dfbbfbcd7",
            "value": 12
          }
        },
        "7aade4e415a7484db4eea938d652ee99": {
          "model_module": "@jupyter-widgets/controls",
          "model_name": "ButtonModel",
          "model_module_version": "1.5.0",
          "state": {
            "_dom_classes": [],
            "_model_module": "@jupyter-widgets/controls",
            "_model_module_version": "1.5.0",
            "_model_name": "ButtonModel",
            "_view_count": null,
            "_view_module": "@jupyter-widgets/controls",
            "_view_module_version": "1.5.0",
            "_view_name": "ButtonView",
            "button_style": "",
            "description": "Run Interact",
            "disabled": false,
            "icon": "",
            "layout": "IPY_MODEL_96ed8ea2810c4a9b9203b005aede76b1",
            "style": "IPY_MODEL_07e6d3a648a5495084bd967ff3661f34",
            "tooltip": ""
          }
        },
        "ad83b329046145138bb1d712cd55ab1c": {
          "model_module": "@jupyter-widgets/output",
          "model_name": "OutputModel",
          "model_module_version": "1.0.0",
          "state": {
            "_dom_classes": [],
            "_model_module": "@jupyter-widgets/output",
            "_model_module_version": "1.0.0",
            "_model_name": "OutputModel",
            "_view_count": null,
            "_view_module": "@jupyter-widgets/output",
            "_view_module_version": "1.0.0",
            "_view_name": "OutputView",
            "layout": "IPY_MODEL_971c48c378834c41ba3ec14ac019d292",
            "msg_id": "",
            "outputs": []
          }
        },
        "291b570cbd1749fa8c6b7d9371009397": {
          "model_module": "@jupyter-widgets/base",
          "model_name": "LayoutModel",
          "model_module_version": "1.2.0",
          "state": {
            "_model_module": "@jupyter-widgets/base",
            "_model_module_version": "1.2.0",
            "_model_name": "LayoutModel",
            "_view_count": null,
            "_view_module": "@jupyter-widgets/base",
            "_view_module_version": "1.2.0",
            "_view_name": "LayoutView",
            "align_content": null,
            "align_items": null,
            "align_self": null,
            "border": null,
            "bottom": null,
            "display": null,
            "flex": null,
            "flex_flow": null,
            "grid_area": null,
            "grid_auto_columns": null,
            "grid_auto_flow": null,
            "grid_auto_rows": null,
            "grid_column": null,
            "grid_gap": null,
            "grid_row": null,
            "grid_template_areas": null,
            "grid_template_columns": null,
            "grid_template_rows": null,
            "height": null,
            "justify_content": null,
            "justify_items": null,
            "left": null,
            "margin": null,
            "max_height": null,
            "max_width": null,
            "min_height": null,
            "min_width": null,
            "object_fit": null,
            "object_position": null,
            "order": null,
            "overflow": null,
            "overflow_x": null,
            "overflow_y": null,
            "padding": null,
            "right": null,
            "top": null,
            "visibility": null,
            "width": null
          }
        },
        "c5921b70aaf148449cba3a10cfd977c9": {
          "model_module": "@jupyter-widgets/base",
          "model_name": "LayoutModel",
          "model_module_version": "1.2.0",
          "state": {
            "_model_module": "@jupyter-widgets/base",
            "_model_module_version": "1.2.0",
            "_model_name": "LayoutModel",
            "_view_count": null,
            "_view_module": "@jupyter-widgets/base",
            "_view_module_version": "1.2.0",
            "_view_name": "LayoutView",
            "align_content": null,
            "align_items": null,
            "align_self": null,
            "border": null,
            "bottom": null,
            "display": null,
            "flex": null,
            "flex_flow": null,
            "grid_area": null,
            "grid_auto_columns": null,
            "grid_auto_flow": null,
            "grid_auto_rows": null,
            "grid_column": null,
            "grid_gap": null,
            "grid_row": null,
            "grid_template_areas": null,
            "grid_template_columns": null,
            "grid_template_rows": null,
            "height": null,
            "justify_content": null,
            "justify_items": null,
            "left": null,
            "margin": null,
            "max_height": null,
            "max_width": null,
            "min_height": null,
            "min_width": null,
            "object_fit": null,
            "object_position": null,
            "order": null,
            "overflow": null,
            "overflow_x": null,
            "overflow_y": null,
            "padding": null,
            "right": null,
            "top": null,
            "visibility": null,
            "width": null
          }
        },
        "5c325897aa724640b1e3f85dfbbfbcd7": {
          "model_module": "@jupyter-widgets/controls",
          "model_name": "SliderStyleModel",
          "model_module_version": "1.5.0",
          "state": {
            "_model_module": "@jupyter-widgets/controls",
            "_model_module_version": "1.5.0",
            "_model_name": "SliderStyleModel",
            "_view_count": null,
            "_view_module": "@jupyter-widgets/base",
            "_view_module_version": "1.2.0",
            "_view_name": "StyleView",
            "description_width": "",
            "handle_color": null
          }
        },
        "96ed8ea2810c4a9b9203b005aede76b1": {
          "model_module": "@jupyter-widgets/base",
          "model_name": "LayoutModel",
          "model_module_version": "1.2.0",
          "state": {
            "_model_module": "@jupyter-widgets/base",
            "_model_module_version": "1.2.0",
            "_model_name": "LayoutModel",
            "_view_count": null,
            "_view_module": "@jupyter-widgets/base",
            "_view_module_version": "1.2.0",
            "_view_name": "LayoutView",
            "align_content": null,
            "align_items": null,
            "align_self": null,
            "border": null,
            "bottom": null,
            "display": null,
            "flex": null,
            "flex_flow": null,
            "grid_area": null,
            "grid_auto_columns": null,
            "grid_auto_flow": null,
            "grid_auto_rows": null,
            "grid_column": null,
            "grid_gap": null,
            "grid_row": null,
            "grid_template_areas": null,
            "grid_template_columns": null,
            "grid_template_rows": null,
            "height": null,
            "justify_content": null,
            "justify_items": null,
            "left": null,
            "margin": null,
            "max_height": null,
            "max_width": null,
            "min_height": null,
            "min_width": null,
            "object_fit": null,
            "object_position": null,
            "order": null,
            "overflow": null,
            "overflow_x": null,
            "overflow_y": null,
            "padding": null,
            "right": null,
            "top": null,
            "visibility": null,
            "width": null
          }
        },
        "07e6d3a648a5495084bd967ff3661f34": {
          "model_module": "@jupyter-widgets/controls",
          "model_name": "ButtonStyleModel",
          "model_module_version": "1.5.0",
          "state": {
            "_model_module": "@jupyter-widgets/controls",
            "_model_module_version": "1.5.0",
            "_model_name": "ButtonStyleModel",
            "_view_count": null,
            "_view_module": "@jupyter-widgets/base",
            "_view_module_version": "1.2.0",
            "_view_name": "StyleView",
            "button_color": null,
            "font_weight": ""
          }
        },
        "971c48c378834c41ba3ec14ac019d292": {
          "model_module": "@jupyter-widgets/base",
          "model_name": "LayoutModel",
          "model_module_version": "1.2.0",
          "state": {
            "_model_module": "@jupyter-widgets/base",
            "_model_module_version": "1.2.0",
            "_model_name": "LayoutModel",
            "_view_count": null,
            "_view_module": "@jupyter-widgets/base",
            "_view_module_version": "1.2.0",
            "_view_name": "LayoutView",
            "align_content": null,
            "align_items": null,
            "align_self": null,
            "border": null,
            "bottom": null,
            "display": null,
            "flex": null,
            "flex_flow": null,
            "grid_area": null,
            "grid_auto_columns": null,
            "grid_auto_flow": null,
            "grid_auto_rows": null,
            "grid_column": null,
            "grid_gap": null,
            "grid_row": null,
            "grid_template_areas": null,
            "grid_template_columns": null,
            "grid_template_rows": null,
            "height": null,
            "justify_content": null,
            "justify_items": null,
            "left": null,
            "margin": null,
            "max_height": null,
            "max_width": null,
            "min_height": null,
            "min_width": null,
            "object_fit": null,
            "object_position": null,
            "order": null,
            "overflow": null,
            "overflow_x": null,
            "overflow_y": null,
            "padding": null,
            "right": null,
            "top": null,
            "visibility": null,
            "width": null
          }
        }
      }
    }
  },
  "nbformat": 4,
  "nbformat_minor": 0
}