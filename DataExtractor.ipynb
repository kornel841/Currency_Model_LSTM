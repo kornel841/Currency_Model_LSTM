{
  "cells": [
    {
      "cell_type": "code",
      "execution_count": 2,
      "metadata": {
        "id": "Jr5F-i9zM1CM",
        "colab": {
          "base_uri": "https://localhost:8080/"
        },
        "outputId": "573f5d3a-083e-4e03-97b8-7d5206d84c6b"
      },
      "outputs": [
        {
          "output_type": "stream",
          "name": "stdout",
          "text": [
            "            Otwarcie  Najwyzszy  Najnizszy  Zamkniecie  Wolumen  \\\n",
            "Data                                                              \n",
            "2015-04-07    167.47     168.80     166.04      166.38    21756   \n",
            "2015-04-08    166.04     168.55     165.56      167.47   111034   \n",
            "\n",
            "            Otwarcie_eah_d  Najwyzszy_eah_d  Najnizszy_eah_d  \\\n",
            "Data                                                           \n",
            "2015-04-07         26.6746          26.6746          25.2033   \n",
            "2015-04-08         26.6746          26.6746          25.0394   \n",
            "\n",
            "            Zamkniecie_eah_d  Wolumen_eah_d  ...  Otwarcie_wig_d  \\\n",
            "Data                                         ...                   \n",
            "2015-04-07           25.4187     366.254237  ...        54295.49   \n",
            "2015-04-08           25.0394    1802.440678  ...        54557.85   \n",
            "\n",
            "            Najwyzszy_wig_d  Najnizszy_wig_d  Zamkniecie_wig_d  Wolumen_wig_d  \\\n",
            "Data                                                                            \n",
            "2015-04-07         54699.04         54290.71          54490.95     48115698.0   \n",
            "2015-04-08         54724.37         54522.46          54647.10     57557121.0   \n",
            "\n",
            "            Otwarcie_nke_us_d  Najwyzszy_nke_us_d  Najnizszy_nke_us_d  \\\n",
            "Data                                                                    \n",
            "2015-04-07            45.9302             46.1782             45.8092   \n",
            "2015-04-08            46.0561             46.5073             45.9252   \n",
            "\n",
            "            Zamkniecie_nke_us_d  Wolumen_nke_us_d  \n",
            "Data                                               \n",
            "2015-04-07              45.8757      4.335731e+06  \n",
            "2015-04-08              46.4478      7.080887e+06  \n",
            "\n",
            "[2 rows x 55 columns]\n"
          ]
        }
      ],
      "source": [
        "import os\n",
        "import pandas as pd\n",
        "\n",
        "\n",
        "main_table = pd.read_csv('dane/ccc_d.csv', index_col='Data')\n",
        "\n",
        "files = os.listdir('dane/')\n",
        "files.remove('ccc_d.csv')\n",
        "#print(files)\n",
        "#print(os.listdir('zmienne/'))\n",
        "\n",
        "for file in files:\n",
        "    dane = pd.read_csv('dane/'+file, index_col='Data', engine='python')\n",
        "\n",
        "    main_table = main_table.merge(right=dane,\n",
        "                                  how='inner',\n",
        "                                  left_index=True,\n",
        "                                  right_index=True,\n",
        "                                  copy=False,\n",
        "                                  suffixes=('', '_'+file[:-4]))\n",
        "\n",
        "main_table.to_csv('dane/integrated_data.csv')\n",
        "print(main_table.head(2))\n"
      ]
    },
    {
      "cell_type": "code",
      "execution_count": null,
      "metadata": {
        "id": "lAdheBoZM1CO"
      },
      "outputs": [],
      "source": []
    },
    {
      "cell_type": "code",
      "execution_count": null,
      "metadata": {
        "id": "FmEbkHf8M1CP"
      },
      "outputs": [],
      "source": []
    }
  ],
  "metadata": {
    "kernelspec": {
      "display_name": "Python 3 (ipykernel)",
      "language": "python",
      "name": "python3"
    },
    "language_info": {
      "codemirror_mode": {
        "name": "ipython",
        "version": 3
      },
      "file_extension": ".py",
      "mimetype": "text/x-python",
      "name": "python",
      "nbconvert_exporter": "python",
      "pygments_lexer": "ipython3",
      "version": "3.10.2"
    },
    "colab": {
      "provenance": []
    }
  },
  "nbformat": 4,
  "nbformat_minor": 0
}